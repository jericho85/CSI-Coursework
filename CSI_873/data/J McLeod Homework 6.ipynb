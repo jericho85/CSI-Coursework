{
 "cells": [
  {
   "cell_type": "code",
   "execution_count": 1,
   "metadata": {},
   "outputs": [],
   "source": [
    "import csv,random,math,decimal,copy\n",
    "import numpy as np\n",
    "from PIL import Image\n",
    "decimal.getcontext().prec = 100"
   ]
  },
  {
   "cell_type": "code",
   "execution_count": 2,
   "metadata": {},
   "outputs": [],
   "source": [
    "def data_import(file):\n",
    "    # This function imports the data from a particular file\n",
    "    # and returns an array of arrays\n",
    "    data = []\n",
    "    with open(file, 'r') as csvfile:\n",
    "        csv_r = csv.reader(csvfile,delimiter=' ')\n",
    "        for row in csv_r:\n",
    "            row_nums = []\n",
    "            for i in range(len(row)):\n",
    "                try:\n",
    "                    val = float(row[i])\n",
    "                    if i > 0:\n",
    "                        val = round(val/255,4)\n",
    "                        # The above line scales the data imported\n",
    "                    row_nums.append(val)\n",
    "                except:\n",
    "                    print('ERROR on import: non-numerical data')\n",
    "                    break                    \n",
    "            data.append(row_nums)\n",
    "    return(data)"
   ]
  },
  {
   "cell_type": "code",
   "execution_count": 3,
   "metadata": {},
   "outputs": [],
   "source": [
    "def data_import_loop(string,denom):\n",
    "    # This function loops the data import across all files of the chosen type,\n",
    "    # which is specified by the string argument passed to the function.\n",
    "    # It then uses the first value in the set to add the imported arrays\n",
    "    # to the correct dictionary key, created with values 0-9. \n",
    "    # The resulting dictionary is returned\n",
    "    data = []\n",
    "    #data_dict = {}\n",
    "    for i in range(10):\n",
    "        file_name = string+str(i)+'.txt'\n",
    "        data.append(data_import(file_name))\n",
    "    #for i in files:\n",
    "    #    data = data_import(i)\n",
    "    #    for j in range(len(data)):\n",
    "    #        if j%denom==0: # SUBSET data to 1/5th\n",
    "    #            data_dict[data[j][0]].append(data[j][1:])\n",
    "    return(data)"
   ]
  },
  {
   "cell_type": "code",
   "execution_count": 4,
   "metadata": {},
   "outputs": [],
   "source": [
    "data_tensor = data_import_loop('train',10)"
   ]
  },
  {
   "cell_type": "code",
   "execution_count": 5,
   "metadata": {},
   "outputs": [
    {
     "name": "stdout",
     "output_type": "stream",
     "text": [
      "5923\n"
     ]
    }
   ],
   "source": [
    "print(len(data_tensor[0]))"
   ]
  },
  {
   "cell_type": "code",
   "execution_count": null,
   "metadata": {},
   "outputs": [],
   "source": []
  }
 ],
 "metadata": {
  "kernelspec": {
   "display_name": "Python 3",
   "language": "python",
   "name": "python3"
  },
  "language_info": {
   "codemirror_mode": {
    "name": "ipython",
    "version": 3
   },
   "file_extension": ".py",
   "mimetype": "text/x-python",
   "name": "python",
   "nbconvert_exporter": "python",
   "pygments_lexer": "ipython3",
   "version": "3.7.3"
  }
 },
 "nbformat": 4,
 "nbformat_minor": 2
}
