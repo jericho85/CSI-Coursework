{
 "cells": [
  {
   "cell_type": "markdown",
   "metadata": {},
   "source": [
    "#### Jericho McLeod<br>CSI-873<br>Homework 9\n"
   ]
  },
  {
   "cell_type": "markdown",
   "metadata": {},
   "source": [
    "Implement a weighted k-nearest neighbor algorithm for the available hand-written training data. Test the algorithm on the testing data. Provide accuracy results for the following 15 cases:\n",
    "\n",
    "1) k = 1, 2, ..., 7; all the weights are equal to 1<br>\n",
    "2) k = 1, 2, ..., 7; all the weights are calculated according to the formula: $$ w_i = \\frac{1}{d(x_q,x_i)^2+\\varepsilon},\\varepsilon = 1 $$\n",
    "3) k = all training points; all the weights are calculated according to the formula: $$ w_i = \\frac{1}{d(x_q,x_i)^2+\\varepsilon},\\varepsilon = 1 $$"
   ]
  },
  {
   "cell_type": "code",
   "execution_count": 51,
   "metadata": {},
   "outputs": [],
   "source": [
    "import csv,copy"
   ]
  },
  {
   "cell_type": "code",
   "execution_count": 3,
   "metadata": {},
   "outputs": [],
   "source": [
    "def data_import(file):\n",
    "    data = []\n",
    "    with open(file, 'r') as csvfile:\n",
    "        csv_r = csv.reader(csvfile,delimiter=' ')\n",
    "        for row in csv_r:\n",
    "            row_nums = []\n",
    "            for i in range(len(row)):\n",
    "                try:\n",
    "                    val = float(row[i])\n",
    "                    if i > 0:\n",
    "                        val = round(val/255,4)\n",
    "                        # The above line scales the data imported\n",
    "                    row_nums.append(val)\n",
    "                except:\n",
    "                    print('ERROR on import: non-numerical data:',row[i])\n",
    "                    break                    \n",
    "            data.append(row_nums)\n",
    "    return(data)\n",
    "\n",
    "def data_import_loop(string,denom):\n",
    "    files = []\n",
    "    data_dict = {}\n",
    "    for i in range(10):\n",
    "        file_name = string+str(i)+'.txt'\n",
    "        files.append(file_name)\n",
    "        data_dict[i]=[]\n",
    "    for i in files:\n",
    "        data = data_import(i)\n",
    "        for j in range(len(data)):\n",
    "            if j%denom==0: # SUBSET data \n",
    "                data_dict[data[j][0]].append(data[j][1:])\n",
    "    return(data_dict)\n",
    "\n",
    "denom = 10\n",
    "data_dict = data_import_loop('train',denom)\n",
    "denom = 10\n",
    "test_dict = data_import_loop('test',denom)"
   ]
  },
  {
   "cell_type": "code",
   "execution_count": null,
   "metadata": {},
   "outputs": [],
   "source": []
  },
  {
   "cell_type": "code",
   "execution_count": 6,
   "metadata": {},
   "outputs": [
    {
     "name": "stdout",
     "output_type": "stream",
     "text": [
      "0    Training Obs: 593    Testing Obs: 98\n",
      "1    Training Obs: 675    Testing Obs: 114\n",
      "2    Training Obs: 596    Testing Obs: 104\n",
      "3    Training Obs: 614    Testing Obs: 101\n",
      "4    Training Obs: 585    Testing Obs: 99\n",
      "5    Training Obs: 543    Testing Obs: 90\n",
      "6    Training Obs: 592    Testing Obs: 96\n",
      "7    Training Obs: 627    Testing Obs: 103\n",
      "8    Training Obs: 586    Testing Obs: 98\n",
      "9    Training Obs: 595    Testing Obs: 101\n"
     ]
    }
   ],
   "source": [
    "for i in range(10):\n",
    "    print(i,'   Training Obs:',len(data_dict[i]),'   Testing Obs:',len(test_dict[i]))"
   ]
  },
  {
   "cell_type": "markdown",
   "metadata": {},
   "source": [
    "Subset data to 50 of each digit in the training data and 20 of each digit in the testing data. \n",
    "\n",
    "This is not a randomized function, merely trimming the first X observations."
   ]
  },
  {
   "cell_type": "code",
   "execution_count": 15,
   "metadata": {},
   "outputs": [],
   "source": [
    "data_subset = {}\n",
    "test_subset = {}\n",
    "for i in range(10):\n",
    "    for j in range(50):\n",
    "        if i in data_subset:\n",
    "            data_subset[i].append(data_dict[i][j])\n",
    "        else:\n",
    "            data_subset[i] = [data_dict[i][j]]\n",
    "    for j in range(20):\n",
    "        if i in test_subset:\n",
    "            test_subset[i].append(test_dict[i][j])\n",
    "        else:\n",
    "            test_subset[i] = [test_dict[i][j]]"
   ]
  },
  {
   "cell_type": "code",
   "execution_count": 20,
   "metadata": {
    "scrolled": false
   },
   "outputs": [
    {
     "name": "stdout",
     "output_type": "stream",
     "text": [
      "0 50 20\n",
      "1 50 20\n",
      "2 50 20\n",
      "3 50 20\n",
      "4 50 20\n",
      "5 50 20\n",
      "6 50 20\n",
      "7 50 20\n",
      "8 50 20\n",
      "9 50 20\n"
     ]
    }
   ],
   "source": [
    "for k,v in data_subset.items():\n",
    "    print(k,len(v),len(test_subset[k]))"
   ]
  },
  {
   "cell_type": "code",
   "execution_count": 73,
   "metadata": {},
   "outputs": [],
   "source": [
    "d_matrix = []\n",
    "d_results = []\n",
    "for k,v in data_subset.items():\n",
    "    for i in v:\n",
    "        d_matrix.append(i)\n",
    "        d_results.append(k)"
   ]
  },
  {
   "cell_type": "code",
   "execution_count": 75,
   "metadata": {},
   "outputs": [],
   "source": [
    "def euclidean(v1,v2):\n",
    "    if len(v1)==len(v2):\n",
    "        sq = 0\n",
    "        for i in range(len(v1)):\n",
    "            sq += (v1[i]-v2[i])**2\n",
    "        dist = sq**0.5\n",
    "        return(dist)\n",
    "    else:\n",
    "        print('Error: vectors not the same length')"
   ]
  },
  {
   "cell_type": "code",
   "execution_count": 76,
   "metadata": {},
   "outputs": [],
   "source": [
    "def knn_class(data,input_results,k,w,target):\n",
    "    # Setting up temp data structures\n",
    "    results = copy.deepcopy(input_results)\n",
    "    dist_vec,weight_vec,knn,class_dict = [],[],[],{}\n",
    "\n",
    "    # Find Euclidean distance and weights for all points\n",
    "    for i in data:\n",
    "        dist = euclidean(i,target)\n",
    "        dist_vec.append(dist)\n",
    "        if w == True:\n",
    "            weight = 1 / (1 + dist**2)\n",
    "            weight_vec.append(weight)\n",
    "            \n",
    "    # Find the K nearest neighbors\n",
    "    for i in range(k):\n",
    "        min_index = dist_vec.index(min(dist_vec))\n",
    "        d0 = dist_vec.pop(min_index)\n",
    "        r0 = results.pop(min_index)\n",
    "        if w == True:\n",
    "            w0 = weight_vec.pop(min_index)\n",
    "        else: w0 = 1\n",
    "        knn.append([d0,w0,r0])\n",
    "    \n",
    "    # Make classification\n",
    "    for i in knn:\n",
    "        print(i)\n",
    "        if i[2] not in class_dict:\n",
    "            class_dict[i[2]] = i[1]\n",
    "        else:\n",
    "            class_dict[i[2]] += i[1]\n",
    "    print(max(class_dict, key=class_dict.get))"
   ]
  },
  {
   "cell_type": "code",
   "execution_count": 79,
   "metadata": {},
   "outputs": [],
   "source": [
    "def confusion_matrix(n):\n",
    "    matrix=[]\n",
    "    for i in range(n):\n",
    "        row=[]\n",
    "        for j in range(n):\n",
    "            row.append(0)\n",
    "        matrix.append(row)\n",
    "    return(matrix)"
   ]
  },
  {
   "cell_type": "markdown",
   "metadata": {},
   "source": [
    "Confidence Intervals calculated as:$$ errors_S (h) \\pm z_N \\sqrt{ \\frac{errors_S (h)(1-error_S (h))}{n} }$$"
   ]
  },
  {
   "cell_type": "code",
   "execution_count": null,
   "metadata": {},
   "outputs": [],
   "source": [
    "def confidence(n,p,z):\n",
    "    conf = z * (((p*(1-p))/n)**0.5)\n",
    "    return(conf)"
   ]
  },
  {
   "cell_type": "code",
   "execution_count": null,
   "metadata": {},
   "outputs": [
    {
     "name": "stderr",
     "output_type": "stream",
     "text": [
      "IOPub data rate exceeded.\n",
      "The notebook server will temporarily stop sending output\n",
      "to the client in order to avoid crashing it.\n",
      "To change this limit, set the config variable\n",
      "`--NotebookApp.iopub_data_rate_limit`.\n",
      "\n",
      "Current values:\n",
      "NotebookApp.iopub_data_rate_limit=1000000.0 (bytes/sec)\n",
      "NotebookApp.rate_limit_window=3.0 (secs)\n",
      "\n"
     ]
    }
   ],
   "source": [
    "for i in range(1,8):\n",
    "    for k,v in test_subset.items():\n",
    "        for j in v:\n",
    "            knn_out = (d_matrix,d_results,i,j)\n",
    "            print(i,k,len(j),knn_out)\n"
   ]
  },
  {
   "cell_type": "code",
   "execution_count": null,
   "metadata": {},
   "outputs": [],
   "source": [
    "knn_class(d_matrix,d_results,1,True,test_subset[7][0])"
   ]
  },
  {
   "cell_type": "code",
   "execution_count": null,
   "metadata": {},
   "outputs": [],
   "source": []
  }
 ],
 "metadata": {
  "kernelspec": {
   "display_name": "Python 3",
   "language": "python",
   "name": "python3"
  },
  "language_info": {
   "codemirror_mode": {
    "name": "ipython",
    "version": 3
   },
   "file_extension": ".py",
   "mimetype": "text/x-python",
   "name": "python",
   "nbconvert_exporter": "python",
   "pygments_lexer": "ipython3",
   "version": "3.7.3"
  }
 },
 "nbformat": 4,
 "nbformat_minor": 2
}
