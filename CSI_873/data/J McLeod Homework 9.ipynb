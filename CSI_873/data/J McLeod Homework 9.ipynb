{
 "cells": [
  {
   "cell_type": "markdown",
   "metadata": {},
   "source": [
    "#### Jericho McLeod<br>CSI-873<br>Homework 9\n"
   ]
  },
  {
   "cell_type": "markdown",
   "metadata": {},
   "source": [
    "Implement a weighted k-nearest neighbor algorithm for the available hand-written training data. Test the algorithm on the testing data. Provide accuracy results for the following 15 cases:\n",
    "\n",
    "1) k = 1, 2, ..., 7; all the weights are equal to 1<br>\n",
    "2) k = 1, 2, ..., 7; all the weights are calculated according to the formula: $$ w_i = \\frac{1}{d(x_q,x_i)^2+\\varepsilon},\\varepsilon = 1 $$\n",
    "3) k = all training points; all the weights are calculated according to the formula: $$ w_i = \\frac{1}{d(x_q,x_i)^2+\\varepsilon},\\varepsilon = 1 $$"
   ]
  },
  {
   "cell_type": "markdown",
   "metadata": {},
   "source": [
    "The following four cells import the necessary libraries for importing, copying, and plotting, functions to import the data, statements to call the import functions and create data structures, and some verification that importing is complete.  "
   ]
  },
  {
   "cell_type": "code",
   "execution_count": 150,
   "metadata": {},
   "outputs": [],
   "source": [
    "import csv,copy\n",
    "import matplotlib.pyplot as plt\n",
    "import numpy as np"
   ]
  },
  {
   "cell_type": "code",
   "execution_count": null,
   "metadata": {},
   "outputs": [],
   "source": [
    "def data_import(file):\n",
    "    data = []\n",
    "    with open(file, 'r') as csvfile:\n",
    "        csv_r = csv.reader(csvfile,delimiter=' ')\n",
    "        for row in csv_r:\n",
    "            row_nums = []\n",
    "            for i in range(len(row)):\n",
    "                try:\n",
    "                    val = float(row[i])\n",
    "                    if i > 0:\n",
    "                        val = round(val/255,4)\n",
    "                        # The above line scales the data imported\n",
    "                    row_nums.append(val)\n",
    "                except:\n",
    "                    print('ERROR on import: non-numerical data:',row[i])\n",
    "                    break                    \n",
    "            data.append(row_nums)\n",
    "    return(data)"
   ]
  },
  {
   "cell_type": "code",
   "execution_count": 105,
   "metadata": {},
   "outputs": [],
   "source": [
    "def data_import_loop(string,denom):\n",
    "    files = []\n",
    "    data_dict = {}\n",
    "    for i in range(10):\n",
    "        file_name = string+str(i)+'.txt'\n",
    "        files.append(file_name)\n",
    "        data_dict[i]=[]\n",
    "    for i in files:\n",
    "        data = data_import(i)\n",
    "        for j in range(len(data)):\n",
    "            if j%denom==0: # SUBSET data \n",
    "                data_dict[data[j][0]].append(data[j][1:])\n",
    "    return(data_dict)"
   ]
  },
  {
   "cell_type": "code",
   "execution_count": null,
   "metadata": {},
   "outputs": [],
   "source": [
    "denom = 5\n",
    "data_dict = data_import_loop('train',denom)\n",
    "denom = 4\n",
    "test_dict = data_import_loop('test',denom)"
   ]
  },
  {
   "cell_type": "code",
   "execution_count": 106,
   "metadata": {},
   "outputs": [
    {
     "name": "stdout",
     "output_type": "stream",
     "text": [
      "0    Training Obs: 1185    Testing Obs: 245\n",
      "1    Training Obs: 1349    Testing Obs: 284\n",
      "2    Training Obs: 1192    Testing Obs: 258\n",
      "3    Training Obs: 1227    Testing Obs: 253\n",
      "4    Training Obs: 1169    Testing Obs: 246\n",
      "5    Training Obs: 1085    Testing Obs: 223\n",
      "6    Training Obs: 1184    Testing Obs: 240\n",
      "7    Training Obs: 1253    Testing Obs: 257\n",
      "8    Training Obs: 1171    Testing Obs: 244\n",
      "9    Training Obs: 1190    Testing Obs: 253\n"
     ]
    }
   ],
   "source": [
    "for i in range(10):\n",
    "    print(i,'   Training Obs:',len(data_dict[i]),'   Testing Obs:',len(test_dict[i]))"
   ]
  },
  {
   "cell_type": "markdown",
   "metadata": {},
   "source": [
    "The following cells subset data to 250 of each digit in the training data and 50 of each digit in the testing data, the verify the subset is completed.  \n",
    "\n",
    "This is not a randomized function, merely trimming the first X observations."
   ]
  },
  {
   "cell_type": "code",
   "execution_count": 107,
   "metadata": {},
   "outputs": [],
   "source": [
    "data_subset = {}\n",
    "test_subset = {}\n",
    "for i in range(10):\n",
    "    for j in range(250):\n",
    "        if i in data_subset:\n",
    "            data_subset[i].append(data_dict[i][j])\n",
    "        else:\n",
    "            data_subset[i] = [data_dict[i][j]]\n",
    "    for j in range(50):\n",
    "        if i in test_subset:\n",
    "            test_subset[i].append(test_dict[i][j])\n",
    "        else:\n",
    "            test_subset[i] = [test_dict[i][j]]"
   ]
  },
  {
   "cell_type": "code",
   "execution_count": 108,
   "metadata": {
    "scrolled": false
   },
   "outputs": [
    {
     "name": "stdout",
     "output_type": "stream",
     "text": [
      "0 250 50\n",
      "1 250 50\n",
      "2 250 50\n",
      "3 250 50\n",
      "4 250 50\n",
      "5 250 50\n",
      "6 250 50\n",
      "7 250 50\n",
      "8 250 50\n",
      "9 250 50\n"
     ]
    }
   ],
   "source": [
    "for k,v in data_subset.items():\n",
    "    print(k,len(v),len(test_subset[k]))"
   ]
  },
  {
   "cell_type": "markdown",
   "metadata": {},
   "source": [
    "The following cell merely converts the data to a list of lists rather than a dictionary for simplified loops in following functions."
   ]
  },
  {
   "cell_type": "code",
   "execution_count": 109,
   "metadata": {},
   "outputs": [],
   "source": [
    "d_matrix = []\n",
    "d_results = []\n",
    "for k,v in data_subset.items():\n",
    "    for i in v:\n",
    "        d_matrix.append(i)\n",
    "        d_results.append(k)"
   ]
  },
  {
   "cell_type": "markdown",
   "metadata": {},
   "source": [
    "This function below calculates the euclidean distance of two vectors. "
   ]
  },
  {
   "cell_type": "code",
   "execution_count": 110,
   "metadata": {},
   "outputs": [],
   "source": [
    "def euclidean(v1,v2):\n",
    "    if len(v1)==len(v2):\n",
    "        sq = 0\n",
    "        for i in range(len(v1)):\n",
    "            sq += (v1[i]-v2[i])**2\n",
    "        dist = sq**0.5\n",
    "        return(dist)\n",
    "    else:\n",
    "        print('Error: vectors not the same length')"
   ]
  },
  {
   "cell_type": "markdown",
   "metadata": {},
   "source": [
    "This function uses K-Nearest Neighbors to classify an instance. It first creates a set of temporary data structures, then finds the euclidean distance to each point in the training to do the target instance and, if needed, the weight of that distance, then finds the K nearest neighbors, and finally uses these to classify the new instance."
   ]
  },
  {
   "cell_type": "code",
   "execution_count": 111,
   "metadata": {},
   "outputs": [],
   "source": [
    "def knn_class(data,input_results,k,w,target):\n",
    "    # Setting up temp data structures\n",
    "    results = copy.deepcopy(input_results)\n",
    "    dist_vec,weight_vec,knn,class_dict = [],[],[],{}\n",
    "\n",
    "    # Find Euclidean distance and weights for all points\n",
    "    for i in data:\n",
    "        dist = euclidean(i,target)\n",
    "        dist_vec.append(dist)\n",
    "        if w == True:\n",
    "            weight = 1 / (1 + dist**2)\n",
    "            weight_vec.append(weight)\n",
    "            \n",
    "    # Find the K nearest neighbors\n",
    "    for i in range(k):\n",
    "        min_index = dist_vec.index(min(dist_vec))\n",
    "        d0 = dist_vec.pop(min_index)\n",
    "        r0 = results.pop(min_index)\n",
    "        if w == True:\n",
    "            w0 = weight_vec.pop(min_index)\n",
    "        else: w0 = 1\n",
    "        knn.append([d0,w0,r0])\n",
    "    \n",
    "    # Make classification\n",
    "    for i in knn:\n",
    "        #print(i)\n",
    "        if i[2] not in class_dict:\n",
    "            class_dict[i[2]] = i[1]\n",
    "        else:\n",
    "            class_dict[i[2]] += i[1]\n",
    "    return(max(class_dict, key=class_dict.get))"
   ]
  },
  {
   "cell_type": "markdown",
   "metadata": {},
   "source": [
    "I will report on the overall accuracy of the model using confidence intervals over the entire model, not by individual digit. Confidence Intervals calculated as:$$ errors_S (h) \\pm z_N \\sqrt{ \\frac{errors_S (h)(1-error_S (h))}{n} }$$"
   ]
  },
  {
   "cell_type": "code",
   "execution_count": 113,
   "metadata": {},
   "outputs": [],
   "source": [
    "def confidence(n,p,z):\n",
    "    conf = z * (((p*(1-p))/n)**0.5)\n",
    "    return(conf)"
   ]
  },
  {
   "cell_type": "markdown",
   "metadata": {},
   "source": [
    "#### Part 1"
   ]
  },
  {
   "cell_type": "code",
   "execution_count": 114,
   "metadata": {},
   "outputs": [
    {
     "name": "stdout",
     "output_type": "stream",
     "text": [
      "1 0.898 0.02652829408763405\n",
      "2 0.898 0.02652829408763405\n",
      "3 0.912 0.024831892783273687\n",
      "4 0.904 0.025822060893739673\n",
      "5 0.912 0.024831892783273687\n",
      "6 0.918 0.02404912811725198\n",
      "7 0.902 0.02606077794694548\n"
     ]
    }
   ],
   "source": [
    "for i in range(1,8):\n",
    "    correct = 0\n",
    "    total = 0\n",
    "    for k,v in test_subset.items():\n",
    "        total+=len(v)\n",
    "        for j in v:\n",
    "            knn_out = knn_class(d_matrix,d_results,i,False,j)\n",
    "            #print(i,k,len(j),knn_out)\n",
    "            if knn_out == k:\n",
    "                correct+=1\n",
    "    ratio = correct / total\n",
    "    ci = confidence(total,ratio,1.96)\n",
    "    print(i,ratio,ci)"
   ]
  },
  {
   "cell_type": "markdown",
   "metadata": {},
   "source": [
    "#### Part 2"
   ]
  },
  {
   "cell_type": "code",
   "execution_count": 115,
   "metadata": {},
   "outputs": [
    {
     "name": "stdout",
     "output_type": "stream",
     "text": [
      "1 0.898 0.02652829408763405\n",
      "2 0.898 0.02652829408763405\n",
      "3 0.912 0.024831892783273687\n",
      "4 0.908 0.025334241555649534\n",
      "5 0.914 0.024574992427262306\n",
      "6 0.922 0.02350627599599732\n",
      "7 0.904 0.025822060893739673\n"
     ]
    }
   ],
   "source": [
    "for i in range(1,8):\n",
    "    correct = 0\n",
    "    total = 0\n",
    "    for k,v in test_subset.items():\n",
    "        total+=len(v)\n",
    "        for j in v:\n",
    "            knn_out = knn_class(d_matrix,d_results,i,True,j)\n",
    "            #print(i,k,len(j),knn_out)\n",
    "            if knn_out == k:\n",
    "                correct+=1\n",
    "    ratio = correct / total\n",
    "    ci = confidence(total,ratio,1.96)\n",
    "    print(i,ratio,ci)"
   ]
  },
  {
   "cell_type": "markdown",
   "metadata": {},
   "source": [
    "#### Part 3"
   ]
  },
  {
   "cell_type": "code",
   "execution_count": 116,
   "metadata": {},
   "outputs": [
    {
     "name": "stdout",
     "output_type": "stream",
     "text": [
      "7 0.652 0.04175269269400477\n"
     ]
    }
   ],
   "source": [
    "correct = 0\n",
    "total = 0\n",
    "for k,v in test_subset.items():\n",
    "    total+=len(v)\n",
    "    for j in v:\n",
    "        knn_out = knn_class(d_matrix,d_results,len(d_results),True,j)\n",
    "        #print(i,k,len(j),knn_out)\n",
    "        if knn_out == k:\n",
    "            correct+=1\n",
    "ratio = correct / total\n",
    "ci = confidence(total,ratio,1.96)\n",
    "print(i,ratio,ci)"
   ]
  },
  {
   "cell_type": "markdown",
   "metadata": {},
   "source": [
    "#### Discussion of results"
   ]
  },
  {
   "cell_type": "markdown",
   "metadata": {},
   "source": [
    "To prevent loss of data across multiple runs, I have copied out a set of results and will use them for charts. \n",
    "\n",
    "Similar results can be obtained by re-running this notebook with 250 of each number in the training data, and 50 of each number in the testing data. "
   ]
  },
  {
   "cell_type": "code",
   "execution_count": 145,
   "metadata": {},
   "outputs": [],
   "source": [
    "x_results = [0.898,0.898, 0.912, 0.904, 0.912, 0.918, 0.902] \n",
    "x_w_results = [0.898,0.898, 0.912, 0.908, 0.914, 0.922, 0.904 ]\n",
    "x_errors = [0.02652829408763405,0.02652829408763405,\\\n",
    "            0.024831892783273687,0.025822060893739673,\\\n",
    "            0.024831892783273687,0.02404912811725198,\\\n",
    "            0.02606077794694548]\n",
    "x_w_errors = [0.02652829408763405,0.02652829408763405,\\\n",
    "              0.024831892783273687,0.025334241555649534,\\\n",
    "              0.024574992427262306,0.02350627599599732,\\\n",
    "              0.025822060893739673]\n",
    "\n",
    "y1,y2 = [],[]\n",
    "for i in range(1,8):\n",
    "    y1.append(i-0.07)\n",
    "    y2.append(i+0.07)"
   ]
  },
  {
   "cell_type": "markdown",
   "metadata": {},
   "source": [
    "In blue is shown the 95% confidence intervals (y-axis) for KNN from k=1 to k=7 (x-axis), while in green is the 95% confidence intervals (y-axis) for KNN from k=1 to k=7 (x-axis) with inverse square weights. Red shows the confidence interval when k= the number of training instances using inverse square weights. \n",
    "\n",
    "These are initially the same as the nearestt neighbors would all be weighted heavily. As the number of neighbors grows, however, the increased accuracy of the weighted KNN demonstrates that more distant neighbors are less accurate predictors of new instances.  \n",
    "\n",
    "It is worth noting that k = number of instances resulted in a loss of accuracy. This is likely due to the density of the data relative to the total number of classifications. If there were fewer classes with more distinct spaces, weighting the distances would reduce the impact to considering all points. "
   ]
  },
  {
   "cell_type": "code",
   "execution_count": 154,
   "metadata": {},
   "outputs": [
    {
     "data": {
      "image/png": "[encoded data removed]",
      "text/plain": [
       "<Figure size 432x288 with 1 Axes>"
      ]
     },
     "metadata": {
      "needs_background": "light"
     },
     "output_type": "display_data"
    }
   ],
   "source": [
    "plt.ylim((.60, 0.95))\n",
    "plt.errorbar(y, x_results, yerr=x_errors,color='b')\n",
    "plt.errorbar(y2, x_w_results, yerr=x_w_errors, color='g')\n",
    "plt.errorbar(8,0.652,yerr=0.04175269269400477,color='r')\n",
    "plt.xticks(np.arange(9), ('','k=1', 'k=2', 'k=3', 'k=4', 'k=5', 'k=6','k=7','k=n'))\n",
    "plt.show()"
   ]
  }
 ],
 "metadata": {
  "kernelspec": {
   "display_name": "Python 3",
   "language": "python",
   "name": "python3"
  },
  "language_info": {
   "codemirror_mode": {
    "name": "ipython",
    "version": 3
   },
   "file_extension": ".py",
   "mimetype": "text/x-python",
   "name": "python",
   "nbconvert_exporter": "python",
   "pygments_lexer": "ipython3",
   "version": "3.7.3"
  }
 },
 "nbformat": 4,
 "nbformat_minor": 2
}
