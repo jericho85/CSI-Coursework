{
 "cells": [
  {
   "cell_type": "markdown",
   "metadata": {},
   "source": [
    "#### Jericho McLeod<br>CSI-873<br>Homework 8"
   ]
  },
  {
   "cell_type": "markdown",
   "metadata": {},
   "source": [
    "**Problem 7.1**: Consider training a two-input perceptron. Give an upper bound on the number of training examples sufficient to assure with 90% confidence that the learned perceptron will have true error of at most 5%. Does this bound seem realistic?"
   ]
  },
  {
   "cell_type": "markdown",
   "metadata": {},
   "source": [
    "The VC dimension of a perceptron is $r+1$. Two mechanisms for calculating upper bounds are:\n",
    "$$m\\geq \\frac{1}{2\\epsilon^2}(\\ln(\\frac{1}{\\delta})+\\ln |H|)$$\n",
    "and\n",
    "$$m\\geq \\frac{1}{\\epsilon}(4\\log_2(\\frac{2}{\\delta})+8VC(H)\\log_2(13/\\epsilon))$$"
   ]
  },
  {
   "cell_type": "markdown",
   "metadata": {},
   "source": [
    "Since the hypothesis space is not described, I will use the later since so that I can substitute $(r+1)$ for $VC(H)$.<br>\n",
    "In this case, $\\delta$ is the probability of failure, and $\\epsilon$ is the error. "
   ]
  },
  {
   "cell_type": "markdown",
   "metadata": {},
   "source": [
    "$$m\\geq \\frac{1}{.05}(4\\log_2(\\frac{2}{0.10})+8(3)\\log_2(13/.05))$$"
   ]
  },
  {
   "cell_type": "markdown",
   "metadata": {},
   "source": [
    "$$m\\geq 20(4\\log_2(20)+8(3)\\log_2(260))$$"
   ]
  },
  {
   "cell_type": "code",
   "execution_count": 3,
   "metadata": {},
   "outputs": [
    {
     "name": "stdout",
     "output_type": "stream",
     "text": [
      "4196.490797844647\n"
     ]
    }
   ],
   "source": [
    "import math\n",
    "m_less = 20 * ( 4 * math.log(20,2) + 24 * math.log(260,2))\n",
    "print(m_less)"
   ]
  },
  {
   "cell_type": "markdown",
   "metadata": {},
   "source": [
    "The final result, 4,197 training examples, seems excessive to train a 2 input perceptron. However, what we are really showing is that for a finite hypothesis space where the target concept is present, the perceptron will always be trained to our parameeters after this many training examples. We are making no statements as to whether a particular concept can be learned in fewer training examples, though in reality many may be learnable in with fewer examples."
   ]
  },
  {
   "cell_type": "markdown",
   "metadata": {},
   "source": [
    "**Problem 7.2**: Consider the class C of concepts of the form $(a\\leq x\\leq b)\\land (c\\leq y \\leq d)$, where $a$, $b$, $c$, and $d$ are integers in the range (0,99). Note that each concept in this class corresponds to a rectangle with integer-valued boundaries on a portion of the $x,y$ plane. Hint: Given a region in the plane bounded by points $(0,0)$ and $(n-1,n-1)$, the number of distinct rectangles with integer valued boundaries within this region is $(\\frac{n(n+1)}{2})^2$."
   ]
  },
  {
   "cell_type": "markdown",
   "metadata": {},
   "source": [
    "**Part A**: Give an upper bound on the number of randomly drawn training examples sufficient to assure that for any target concept $c$ in $C$, any consistent learner using $H = C$ will, with probability 95%, output a hypothesis with error at most 0.15."
   ]
  },
  {
   "cell_type": "markdown",
   "metadata": {},
   "source": [
    "Given $$m\\geq \\frac{1}{2\\epsilon^2}(\\ln(\\frac{1}{\\delta})+\\ln |H|)$$\n",
    "and the hint, $(\\frac{n(n+1)}{2})^2$, <br>\n",
    "$H = C = (\\frac{100(100+1)}{2})^2$<br>\n",
    "Thus;"
   ]
  },
  {
   "cell_type": "code",
   "execution_count": 13,
   "metadata": {},
   "outputs": [
    {
     "data": {
      "text/plain": [
       "445.55598484650665"
      ]
     },
     "execution_count": 13,
     "metadata": {},
     "output_type": "execute_result"
    }
   ],
   "source": [
    "(1/(2*0.15**2)) * (math.log(1/0.05) + math.log((100*101/2)**2))"
   ]
  },
  {
   "cell_type": "markdown",
   "metadata": {},
   "source": [
    "Any consistent learning will learn the target concept with probability .95 and error at most 0.15 withiin 446 training examples. \n",
    "\n",
    "**Part B**: Now suppose the rectangle boundaries $a$, $b$, $c$, and $d$ take on *real* values instead of integer values. Update your answer to the first part of this question."
   ]
  },
  {
   "cell_type": "markdown",
   "metadata": {},
   "source": [
    "The VC Dimension for a Hypothesis in rectangular form can shatter at most 4 points, but not 5, logically.  With VC(4), $m\\geq \\frac{1}{\\epsilon}(4\\log_2(\\frac{2}{\\delta})+8(4)\\log_2(13/\\epsilon))$ can be used to find the upper bound."
   ]
  },
  {
   "cell_type": "code",
   "execution_count": 14,
   "metadata": {},
   "outputs": [
    {
     "data": {
      "text/plain": [
       "1515.2312158225536"
      ]
     },
     "execution_count": 14,
     "metadata": {},
     "output_type": "execute_result"
    }
   ],
   "source": [
    "(1/0.15)  * (4 * math.log(2/0.05,2) + 8*4*math.log(13/0.15,2))"
   ]
  },
  {
   "cell_type": "markdown",
   "metadata": {},
   "source": [
    "We need at least 1,516 training examples to reach the same point if the rectangles use real numbers instead of integers."
   ]
  },
  {
   "cell_type": "markdown",
   "metadata": {},
   "source": [
    "**Problem 7.5**: Consider the inistances *X* corresponding to all points in the $x,y$ plane. Give the VC dimension of the following hypothesis spaces:"
   ]
  },
  {
   "cell_type": "markdown",
   "metadata": {},
   "source": [
    "As a note, I solved these with a whiteboard analytically. I would be happy to demonstrate these, but the collection of drawings does not lend itself to a jupyter notebook.\n",
    "\n",
    "**Part A**: $H_r$ = the set of all rectangles in the $x,y$ plane: 4. We have already determined this for 7.2 part B. "
   ]
  },
  {
   "cell_type": "markdown",
   "metadata": {},
   "source": [
    "**Part B**: $H_c$ = the set of all circles in the $x,y$ plane: 3. This is similar to what we solved in class with ellipses, but circles are more constrained and have a lower VC. Once 4 points are shown in an arrangement that resembles the XOR layout for perceptrons, circles are unable to shatter the space. "
   ]
  },
  {
   "cell_type": "markdown",
   "metadata": {},
   "source": [
    "**Part C**: $H_t$ = the set of all triangles in the x,y plane: I believe this is 7. I was able to shatter up to 7, but with 8 points, if you alternate classes of points points on a circle and try to classify one class while excluding the other it cannot be done. Conversely, no classification or inverse of the class for 7 points fails. "
   ]
  }
 ],
 "metadata": {
  "kernelspec": {
   "display_name": "Python 3",
   "language": "python",
   "name": "python3"
  },
  "language_info": {
   "codemirror_mode": {
    "name": "ipython",
    "version": 3
   },
   "file_extension": ".py",
   "mimetype": "text/x-python",
   "name": "python",
   "nbconvert_exporter": "python",
   "pygments_lexer": "ipython3",
   "version": "3.7.3"
  }
 },
 "nbformat": 4,
 "nbformat_minor": 2
}
