{
 "cells": [
  {
   "cell_type": "markdown",
   "metadata": {},
   "source": [
    "#### Jericho McLeod<br>CSI-873<br>Homework 5"
   ]
  },
  {
   "cell_type": "markdown",
   "metadata": {},
   "source": [
    "##### Exercise 6.3, Page 198<br>\n",
    "\n",
    "Consider the concept learning algorithm FindG, which outputs a maximally general consistent hypotehsis (e.g., some maximally general member of the version space).<br><br>\n",
    "&nbsp;&nbsp;&nbsp;&nbsp;a) Give a distribution for P(h) and P(D|h) under which FindG is guaranteed to output a MAP hypothesis.<br>\n",
    "&nbsp;&nbsp;&nbsp;&nbsp;b) Give a distribution for P(h) and P(D|h) under which FindG is not guaranteed to output a MAP hypothesis.<br>\n",
    "&nbsp;&nbsp;&nbsp;&nbsp;c) Give a distribution for P(h) and P(D|h) under which FindG is guaranteed to output a ML hypothesis but not a MAP hypothesis."
   ]
  },
  {
   "cell_type": "markdown",
   "metadata": {},
   "source": [
    "MAP Hypothesis: is an estimate of an unknown quantity, that equals the mode of the posterior distribution; the most probable hypothesis given the data. <br><br>\n",
    "$$h_{MAP} \\equiv argmax_{h\\in H} P(h|D)$$   <br>\n",
    "Using Bayes Theorem:<br><br>\n",
    "$$h_{MAP} \\equiv argmax_{h\\in H} P(D|h)P(h)$$<br>\n",
    "which drops the denominator value $P(D)$ as it is a constant that is independent of $h$."
   ]
  },
  {
   "cell_type": "markdown",
   "metadata": {},
   "source": [
    "ML Hypothesis: assume every hypothesis is equally probable a priori, thus the $P(h)$ term need not be considered, giving:\n",
    "\n",
    "$$h_{ML} \\equiv argmax_{h\\in H} P(D|h)$$"
   ]
  },
  {
   "cell_type": "markdown",
   "metadata": {},
   "source": [
    "Solution a) Any prior probability distribution which favors more specific hypotheses will return a MAP hypothesis in FindG. "
   ]
  },
  {
   "cell_type": "markdown",
   "metadata": {},
   "source": [
    "Solution b) Any prior probability  distribution that does not favor more specific hypotheses will not return a MAP hypothesis in FindG.\n"
   ]
  },
  {
   "cell_type": "markdown",
   "metadata": {},
   "source": [
    "Solution c) Any prior probability that is uniform will return a maximum likelihood estimator for FindG, but not a maximum a priori hypothesis for FindG."
   ]
  }
 ],
 "metadata": {
  "kernelspec": {
   "display_name": "Python 3",
   "language": "python",
   "name": "python3"
  },
  "language_info": {
   "codemirror_mode": {
    "name": "ipython",
    "version": 3
   },
   "file_extension": ".py",
   "mimetype": "text/x-python",
   "name": "python",
   "nbconvert_exporter": "python",
   "pygments_lexer": "ipython3",
   "version": "3.7.3"
  }
 },
 "nbformat": 4,
 "nbformat_minor": 2
}
