{
 "cells": [
  {
   "cell_type": "markdown",
   "metadata": {},
   "source": [
    "#### Jericho McLeod<br>CSI - 873<br>Assigment 4\n",
    "\n",
    "#### Problem 5.3\n",
    "\n",
    "Suppose Hypothesis $h$ commits $r = 10$ errors over a sample of $n = 65$ independently drawn examples. What is the 90% confidence interval (two-sided) for the true error rate? What is the 95% one-sided interval (i.e., what is the upper bound $U$ such that $ error_D (h) \\leq U$ with 95% confidence?"
   ]
  },
  {
   "cell_type": "markdown",
   "metadata": {},
   "source": [
    "The confidence interval for an observed error rate is generally expressed by:<br><br> $$ errors_S (h) \\pm z_N \\sqrt{ \\frac{errors_S (h)(1-error_S (h))}{n} }$$"
   ]
  },
  {
   "cell_type": "code",
   "execution_count": 4,
   "metadata": {},
   "outputs": [
    {
     "name": "stdout",
     "output_type": "stream",
     "text": [
      "The 90% interval is 0.15384615384615385 +/- 0.07339308747443792\n",
      "Or, from 0.08045306637171594 to 0.22723924132059176\n"
     ]
    }
   ],
   "source": [
    "import math\n",
    "r = 10\n",
    "n = 65\n",
    "z_n_90 = 1.64\n",
    "\n",
    "num = (r/n) * (1-(r/n))\n",
    "den = n\n",
    "frac = num/den\n",
    "root = math.sqrt(frac)\n",
    "half_range = z_n_90 * root\n",
    "print('The 90% interval is',r/n,'+/-',half_range)\n",
    "print('Or, from',(r/n)-half_range,'to',(r/n)+half_range)"
   ]
  },
  {
   "cell_type": "markdown",
   "metadata": {},
   "source": [
    "The 90% confidence interval implies 5% probability that the true error rate is above this range, and 5% that it is below. Thus, the upper bound from the 90% confidence interval, approximately 0.2272, is also the $U$ below which we are 95% confident the true error rate is found."
   ]
  },
  {
   "cell_type": "markdown",
   "metadata": {},
   "source": [
    "#### Problem 5.4\n",
    "\n",
    "You are about to test a hypothesis $h$ whose $error_D$ is known to be in the range between 0.2 and 0.6. What is the minimum number of examples you must collect to assure that the width of the two-sided 95% confidence interval will be smaller than 0.1?"
   ]
  },
  {
   "cell_type": "markdown",
   "metadata": {},
   "source": [
    "Using the same formula,<br><br>$$ errors_S (h) \\pm z_N \\sqrt{ \\frac{errors_S (h)(1-error_S (h))}{n} }$$"
   ]
  },
  {
   "cell_type": "markdown",
   "metadata": {},
   "source": [
    "We will assume $error_D (h) = 0.4$ based on $(0.2+0.6)/2$, giving us<br><br> $$ 0.1 \\lt \\pm z_N \\sqrt{ \\frac{0.4*(1-0.4)}{n} }$$"
   ]
  },
  {
   "cell_type": "markdown",
   "metadata": {},
   "source": [
    "The $z$ score for 95% confidence is 1.96, thus:<br><br>\n",
    "$$ 0.1 \\lt \\pm 1.96 \\sqrt{ \\frac{0.4*(1-0.4)}{n} }$$"
   ]
  },
  {
   "cell_type": "markdown",
   "metadata": {},
   "source": [
    "Applying the width of the confidence interval gives us:<br><br>\n",
    "$$ 0.1/(3.92) \\lt \\sqrt{\\frac{0.4*(1-0.4)}{n}} $$"
   ]
  },
  {
   "cell_type": "markdown",
   "metadata": {},
   "source": [
    "And simplifying:<br>\n",
    "$$ 0.02551020408 \\lt \\sqrt{\\frac{0.24}{n}} $$<br><br>\n",
    "$$ 0.00065077051 \\lt \\frac{0.24}{n}$$<br><br>\n",
    "$$ n \\gt \\frac{0.24}{0.00065077051}$$"
   ]
  },
  {
   "cell_type": "markdown",
   "metadata": {},
   "source": [
    "Thus $n$ must be at least 368.79, and since these are tests that cannot be fractions, we can round to say we must collect at least 369 examples to ensure the width of our 95% confidence interval is smaller than 0.1."
   ]
  },
  {
   "cell_type": "markdown",
   "metadata": {},
   "source": [
    "#### Problem 6.1\n",
    "\n",
    "Consider again the example application of Bayes rule in Section 6.2.1. Suppose the doctor decides to order a second laboratory test for the same patient, and suppose the second test returns a positive result as well. What are the posterior probabilies of $cancer$  and $\\neg cancer$ following these two tests? Assume the two tests are independent."
   ]
  },
  {
   "cell_type": "markdown",
   "metadata": {},
   "source": [
    "Using the Bayes theorem, which states:\n",
    "\n",
    "$$ P(A|B) = \\frac{P(B|A) P(A)}{P(B)}$$\n",
    "\n",
    "Where A is the posterior probability and B the prior probability, the initial calculation was:\n",
    "\n",
    "$$P(cancer|\\oplus) = \\frac{P(\\oplus|cancer)P(cancer)}{P(\\oplus)}$$"
   ]
  },
  {
   "cell_type": "markdown",
   "metadata": {},
   "source": [
    "And we are given:<br><br>\n",
    "$P(cancer)=0.008$<br>\n",
    "$P(\\oplus |cancer)=0.98$<br>\n",
    "$P(\\ominus|cancer)=0.02$<br>\n",
    "$P(\\oplus|\\neg cancer)=0.03$<br>\n",
    "$P(\\ominus|\\neg cancer)=0.97$<br>"
   ]
  },
  {
   "cell_type": "markdown",
   "metadata": {},
   "source": [
    "Then $P(\\oplus | cancer) P(cancer) = .0078$<br>\n",
    "and $P(\\oplus | \\neg cancer) P(\\neg cancer) = 0.0298$, and since these sum to 1 given the Bayes Theorem, we can normalize to 1 to determine $P(\\oplus)$."
   ]
  },
  {
   "cell_type": "markdown",
   "metadata": {},
   "source": [
    "$$\\frac{0.0078}{(0.0078 + 0.0298)}$$"
   ]
  },
  {
   "cell_type": "markdown",
   "metadata": {},
   "source": [
    "$$ \\frac{0.0078}{0.0376} = 0.2074$$"
   ]
  },
  {
   "cell_type": "markdown",
   "metadata": {},
   "source": [
    "Thus:\n",
    "$$\\frac{0.0078}{x} = 0.2074$$\n"
   ]
  },
  {
   "cell_type": "markdown",
   "metadata": {},
   "source": [
    "With a second test returning a positive result, the are looking for the probability of cancer given two positive results:<br><br>\n",
    "\n",
    "$$P(cancer|\\oplus\\oplus) = \\frac{P(\\oplus\\oplus|cancer)P(cancer)}{P(\\oplus\\oplus)}$$"
   ]
  },
  {
   "cell_type": "markdown",
   "metadata": {},
   "source": [
    "Given that $$P(\\oplus\\oplus|cancer) = P(\\oplus|cancer)*P(\\oplus|cancer)$$<br>\n",
    "and $$P(\\oplus\\oplus) = P(\\oplus\\oplus|cancer)*P(cancer) + P(\\oplus\\oplus|\\neg cancer)*P(\\neg cancer)$$<br>\n",
    "which further expands to<br><br>\n",
    "$$P(\\oplus\\oplus) = P(\\oplus|cancer)*P(\\oplus|cancer)*P(cancer) + P(\\oplus|\\neg cancer)*P(\\oplus|\\neg cancer)*P(\\neg cancer)$$"
   ]
  },
  {
   "cell_type": "markdown",
   "metadata": {},
   "source": [
    "We can restate the probability being solved for as:\n",
    "\n",
    "$$P(cancer|\\oplus\\oplus) = \\frac{P(\\oplus|cancer)*P(\\oplus|cancer)*P(cancer)}{P(\\oplus|cancer)*P(\\oplus|cancer)*P(cancer) + P(\\oplus|\\neg cancer)*P(\\oplus|\\neg cancer)*P(\\neg cancer)}$$"
   ]
  },
  {
   "cell_type": "markdown",
   "metadata": {},
   "source": [
    "Applying this, we get:<br><br>\n",
    "$$ P (cancer | \\oplus \\oplus) = \\frac{0.98 * 0.98 * 0.008}{0.98 * 0.98 * 0.008 + 0.03 * 0.03 *0.992}$$"
   ]
  },
  {
   "cell_type": "markdown",
   "metadata": {},
   "source": [
    "$$ P (cancer | \\oplus \\oplus) =\\frac{0.0076832}{0.0076832 +0.0008928}$$"
   ]
  },
  {
   "cell_type": "markdown",
   "metadata": {},
   "source": [
    "$$ P (cancer | \\oplus \\oplus) =0.8959$$"
   ]
  }
 ],
 "metadata": {
  "kernelspec": {
   "display_name": "Python 3",
   "language": "python",
   "name": "python3"
  },
  "language_info": {
   "codemirror_mode": {
    "name": "ipython",
    "version": 3
   },
   "file_extension": ".py",
   "mimetype": "text/x-python",
   "name": "python",
   "nbconvert_exporter": "python",
   "pygments_lexer": "ipython3",
   "version": "3.7.3"
  }
 },
 "nbformat": 4,
 "nbformat_minor": 2
}
