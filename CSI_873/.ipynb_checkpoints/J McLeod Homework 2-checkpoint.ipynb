{
 "cells": [
  {
   "cell_type": "markdown",
   "metadata": {},
   "source": [
    "#### Jericho McLeod\n",
    "#### CSI-873 Homework 2"
   ]
  },
  {
   "cell_type": "markdown",
   "metadata": {},
   "source": [
    "#### Problem 3.2 \n",
    "\n",
    "Import any needed libraries"
   ]
  },
  {
   "cell_type": "code",
   "execution_count": 13,
   "metadata": {},
   "outputs": [],
   "source": [
    "import math\n",
    "import copy\n",
    "%matplotlib inline\n",
    "import matplotlib.pyplot as plt\n",
    "import numpy as np"
   ]
  },
  {
   "cell_type": "markdown",
   "metadata": {},
   "source": [
    "Define a function to measure entropy in an array using $Entropy(S) \\equiv \\sum_{i=1}^{c} -p_i log_2 p_i$"
   ]
  },
  {
   "cell_type": "code",
   "execution_count": 2,
   "metadata": {},
   "outputs": [],
   "source": [
    "def attr_entropy(attr):\n",
    "    entropy_dict = {}\n",
    "    attr_entropy = 0\n",
    "    attr_len = len(attr)\n",
    "    for i in attr:\n",
    "        if i in entropy_dict:\n",
    "            entropy_dict[i] += 1\n",
    "        else: \n",
    "            entropy_dict[i] = 1\n",
    "    for k,v in entropy_dict.items():\n",
    "        frac = v/attr_len # P\n",
    "        updated_v = -frac*math.log2(frac) # -p log2 p\n",
    "        attr_entropy+=updated_v # sum of\n",
    "        entropy_dict[k]=updated_v\n",
    "    return(attr_entropy)"
   ]
  },
  {
   "cell_type": "markdown",
   "metadata": {},
   "source": [
    "Define a second function to determind the information gain for a specific attribute using $Gain(S,A) \\equiv Entropy(S) - \\sum_{v\\in Values(A)} \\frac{|S_v|}{|S|}Entropy(S_v)$"
   ]
  },
  {
   "cell_type": "code",
   "execution_count": 3,
   "metadata": {},
   "outputs": [
    {
     "ename": "NameError",
     "evalue": "name 'a2' is not defined",
     "output_type": "error",
     "traceback": [
      "\u001b[0;31m---------------------------------------------------------------------------\u001b[0m",
      "\u001b[0;31mNameError\u001b[0m                                 Traceback (most recent call last)",
      "\u001b[0;32m<ipython-input-3-17a2d21fc1f2>\u001b[0m in \u001b[0;36m<module>\u001b[0;34m\u001b[0m\n\u001b[1;32m     24\u001b[0m     \u001b[0;32mreturn\u001b[0m\u001b[0;34m(\u001b[0m\u001b[0mattr_ent\u001b[0m\u001b[0;34m,\u001b[0m\u001b[0mgain\u001b[0m\u001b[0;34m)\u001b[0m\u001b[0;34m\u001b[0m\u001b[0;34m\u001b[0m\u001b[0m\n\u001b[1;32m     25\u001b[0m \u001b[0;34m\u001b[0m\u001b[0m\n\u001b[0;32m---> 26\u001b[0;31m \u001b[0mentropy2\u001b[0m\u001b[0;34m,\u001b[0m\u001b[0mgain2\u001b[0m \u001b[0;34m=\u001b[0m \u001b[0mattr_gain\u001b[0m\u001b[0;34m(\u001b[0m\u001b[0ma2\u001b[0m\u001b[0;34m,\u001b[0m\u001b[0mclassification\u001b[0m\u001b[0;34m)\u001b[0m\u001b[0;34m\u001b[0m\u001b[0;34m\u001b[0m\u001b[0m\n\u001b[0m",
      "\u001b[0;31mNameError\u001b[0m: name 'a2' is not defined"
     ]
    }
   ],
   "source": [
    "def attr_gain(attr,target):   \n",
    "    entropy = attr_entropy(target)\n",
    "    gain = entropy # Entropy(S)\n",
    "    attr_counts = {}\n",
    "    attr_subset = {}\n",
    "    attr_len = len(attr)\n",
    "    attr_ent = attr_entropy(attr)\n",
    "    for i in range(len(attr)):\n",
    "        if attr[i] not in attr_counts:\n",
    "            attr_counts[attr[i]] = 1\n",
    "        else:\n",
    "            attr_counts[attr[i]] += 1\n",
    "        if attr[i] not in attr_subset:\n",
    "            attr_subset[attr[i]]=[target[i]]\n",
    "        else:\n",
    "            attr_subset[attr[i]].append(target[i])\n",
    "    for k,v  in attr_subset.items():\n",
    "        subset_len = len(v)\n",
    "        k_entropy = attr_entropy(v)\n",
    "    #    print(k,k_entropy,subset_len,attr_len)\n",
    "        gain = gain - ((subset_len/attr_len)*k_entropy) # -Sum of |Sv|/|S| * Entropy(Sv)\n",
    "    #    print(subset_len, attr_len)\n",
    "    #print('Gain',gain)\n",
    "    return(attr_ent,gain)\n",
    "\n",
    "entropy2,gain2 = attr_gain(a2,classification)"
   ]
  },
  {
   "cell_type": "markdown",
   "metadata": {},
   "source": [
    "Create vectors for training data (Note that Instance is merely index for purposes of this script):"
   ]
  },
  {
   "cell_type": "code",
   "execution_count": 4,
   "metadata": {},
   "outputs": [],
   "source": [
    "classification = ['+','+','-','+','-','-']\n",
    "a1 = ['T','T','T','F','F','F']\n",
    "a2 = ['T','T','F','F','T','T']"
   ]
  },
  {
   "cell_type": "markdown",
   "metadata": {},
   "source": [
    "Call the functions to determine the outputs:"
   ]
  },
  {
   "cell_type": "code",
   "execution_count": 5,
   "metadata": {},
   "outputs": [],
   "source": [
    "class_ent = attr_entropy(classification)\n",
    "a1_ent = attr_entropy(a1)\n",
    "a2_ent = attr_entropy(a2)\n",
    "entropy2,gain2 = attr_gain(a2,classification)"
   ]
  },
  {
   "cell_type": "markdown",
   "metadata": {},
   "source": [
    "Print the solution to problem 3.2:"
   ]
  },
  {
   "cell_type": "code",
   "execution_count": 6,
   "metadata": {},
   "outputs": [
    {
     "name": "stdout",
     "output_type": "stream",
     "text": [
      "Entropy with respect to the target function classification:\n",
      "1.0\n",
      "\n",
      "Entropy of the a1 attribute:\n",
      "1.0\n",
      "\n",
      "Entropy of the a2 attribute:\n",
      "0.9182958340544896\n",
      "\n",
      "Information Gain of a2:\n",
      "5.551115123125783e-17\n"
     ]
    }
   ],
   "source": [
    "print(\"Entropy with respect to the target function classification:\")\n",
    "print(class_ent)\n",
    "\n",
    "print(\"\\nEntropy of the a1 attribute:\")\n",
    "print(a1_ent)\n",
    "\n",
    "print(\"\\nEntropy of the a2 attribute:\")\n",
    "print(a2_ent)\n",
    "\n",
    "print(\"\\nInformation Gain of a2:\")\n",
    "print(gain2)"
   ]
  },
  {
   "cell_type": "markdown",
   "metadata": {},
   "source": [
    "##### Notes on solutions to 3.2:\n",
    "\n",
    "Entropy in the classification is 1 because there are six observations split 1:1, which maximizes the entropy function. This is mirrored in the a1 attribute, but the a2 attribute contains a 4:2 split, thus has lower entropy.\n",
    "\n",
    "The information gain is small enough to be considered 0, as 5.55e-17 is less than machine precision of 1e-12."
   ]
  },
  {
   "cell_type": "markdown",
   "metadata": {},
   "source": [
    "#### Problem 3.4\n",
    "\n",
    "##### Part A\n",
    "\n",
    "Input the dataset:"
   ]
  },
  {
   "cell_type": "code",
   "execution_count": 7,
   "metadata": {},
   "outputs": [],
   "source": [
    "Sky = ['Sunny', 'Sunny', 'Rainy', 'Sunny']\n",
    "AirTemp = ['Warm', 'Warm', 'Cold', 'Warm']\n",
    "Humidity = ['Normal', 'High', 'High', 'High']\n",
    "Wind = ['Strong', 'Strong', 'Strong', 'Strong']\n",
    "Water = ['Warm', 'Warm', 'Warm', 'Cool']\n",
    "Forecast = ['Same', 'Same', 'Change', 'Change']\n",
    "EnjoySport = ['Yes', 'Yes', 'No', 'Yes']\n",
    "data = [Sky,AirTemp,Humidity,Wind,Water,Forecast,EnjoySport]\n",
    "data_labels = ['Sky','AirTemp','Humidity','Wind','Water','Forecast','EnjoySport']"
   ]
  },
  {
   "cell_type": "markdown",
   "metadata": {},
   "source": [
    "Create a function to determine the highest gain from a dataset of vectors"
   ]
  },
  {
   "cell_type": "code",
   "execution_count": 8,
   "metadata": {},
   "outputs": [
    {
     "name": "stdout",
     "output_type": "stream",
     "text": [
      "Sky has the highest gain or is tied for highest gain at 0.8112781244591328\n"
     ]
    }
   ],
   "source": [
    "def highest_gain(data,target_pos):\n",
    "    max_gain = 0\n",
    "    max_gain_var = \"\"\n",
    "    for i in range(len(data)):\n",
    "        if i != target_pos:\n",
    "            entropy,gain = attr_gain(data[i],data[6])\n",
    "            if gain > max_gain:\n",
    "                max_gain = gain\n",
    "                max_gain_var = data_labels[i]\n",
    "            #print(data_labels[i],gain)\n",
    "    return(max_gain,max_gain_var)\n",
    "\n",
    "max_gain,max_gain_var = highest_gain(data,6)\n",
    "print(max_gain_var,'has the highest gain or is tied for highest gain at',max_gain)"
   ]
  },
  {
   "cell_type": "markdown",
   "metadata": {},
   "source": [
    "Create a function to subset the data for a specific input"
   ]
  },
  {
   "cell_type": "code",
   "execution_count": 9,
   "metadata": {},
   "outputs": [],
   "source": [
    "def subset_arrays(n):\n",
    "    subset_array = []\n",
    "    for i in range(n):\n",
    "        subset_array.append([])\n",
    "    return(subset_array)\n",
    "\n",
    "def subset_data(data,subset_index):\n",
    "    subset_on = []\n",
    "    for i in data[subset_index]:\n",
    "        if i not in subset_on: subset_on.append(i)\n",
    "    subsets = subset_arrays(len(subset_on))\n",
    "    for i in range(len(data)):\n",
    "        if i != subset_index:\n",
    "            for j in subsets:\n",
    "                j.append([])\n",
    "            for j in range(len(data[i])):\n",
    "                index = subset_on.index(data[subset_index][j])\n",
    "                if i >=subset_index: \n",
    "                    temp_i = i-1\n",
    "                else: \n",
    "                    temp_i = i\n",
    "                subsets[index][temp_i].append(data[i][j])\n",
    "    #print(subsets)\n",
    "    return(subsets)"
   ]
  },
  {
   "cell_type": "markdown",
   "metadata": {},
   "source": [
    "Subset data, update labels array, and display results"
   ]
  },
  {
   "cell_type": "code",
   "execution_count": 11,
   "metadata": {},
   "outputs": [
    {
     "name": "stdout",
     "output_type": "stream",
     "text": [
      "\n",
      "Subset 0\n",
      "AirTemp ['Warm', 'Warm', 'Warm']\n",
      "Humidity ['Normal', 'High', 'High']\n",
      "Wind ['Strong', 'Strong', 'Strong']\n",
      "Water ['Warm', 'Warm', 'Cool']\n",
      "Forecast ['Same', 'Same', 'Change']\n",
      "EnjoySport ['Yes', 'Yes', 'Yes']\n",
      "\n",
      "Subset 1\n",
      "AirTemp ['Cold']\n",
      "Humidity ['High']\n",
      "Wind ['Strong']\n",
      "Water ['Warm']\n",
      "Forecast ['Change']\n",
      "EnjoySport ['No']\n"
     ]
    }
   ],
   "source": [
    "subset1_labels = copy.deepcopy(data_labels)\n",
    "subset1_labels.remove(max_gain_var)\n",
    "subsets = subset_data(data,0)\n",
    "for i in range(len(subsets)):\n",
    "    print('\\nSubset',i)\n",
    "    for j in range(len(subsets[i])):\n",
    "        print(subset1_labels[j],subsets[i][j])"
   ]
  },
  {
   "cell_type": "markdown",
   "metadata": {},
   "source": [
    "Given that there is visibly no remaining Entropy in EnjoySport, an automated system for create decision trees would stop here. \n",
    "\n",
    "We can verify this by running the target attribute back through entropy calculations:"
   ]
  },
  {
   "cell_type": "code",
   "execution_count": 12,
   "metadata": {},
   "outputs": [
    {
     "name": "stdout",
     "output_type": "stream",
     "text": [
      "Subset 1 entropy: 0.0\n",
      "Subset 1 entropy: 0.0\n"
     ]
    }
   ],
   "source": [
    "entropy_sub1 = attr_entropy(subsets[0][-1])\n",
    "entropy_sub2 = attr_entropy(subsets[1][-1])\n",
    "print(\"Subset 1 entropy:\",entropy_sub1)\n",
    "print(\"Subset 1 entropy:\",entropy_sub2)"
   ]
  },
  {
   "cell_type": "markdown",
   "metadata": {},
   "source": [
    "Therefore, the decision tree is merely \n",
    "\"Sky\" = Sunny -> EnjoySport == True\n",
    "\"Sky\" = Rainy -> EnjoySport == False\n",
    "\n",
    "\n",
    "##### Part B\n",
    "\n",
    "This decision tree matches one of the most general hypotheses generated from the Candidate Elimination algorithms:\n",
    "\n",
    "[Sunny, ?, ?, ?, ?, ?]\n",
    "\n",
    "Logically, this is ideal, as a more general model is shorter, and a shorter model is better. Philosophical reasoning aside, this is also less likely to overfit. However, as accuracy can be impacted, it can still be necessary to create many short hypotheses and use them in conjunction, such as in a random forest. \n",
    "\n",
    "##### Part C\n",
    "\n",
    "Adding an additional observation to the data and displaying the gain for each candidate attribute at each step requires first re-creating the data variable:"
   ]
  },
  {
   "cell_type": "code",
   "execution_count": 174,
   "metadata": {},
   "outputs": [],
   "source": [
    "Sky = ['Sunny', 'Sunny', 'Rainy', 'Sunny','Sunny']\n",
    "AirTemp = ['Warm', 'Warm', 'Cold', 'Warm','Warm']\n",
    "Humidity = ['Normal', 'High', 'High', 'High','Normal']\n",
    "Wind = ['Strong', 'Strong', 'Strong', 'Strong','Weak']\n",
    "Water = ['Warm', 'Warm', 'Warm', 'Cool','Warm']\n",
    "Forecast = ['Same', 'Same', 'Change', 'Change','Same']\n",
    "EnjoySport = ['Yes', 'Yes', 'No', 'Yes','No']\n",
    "data = [Sky,AirTemp,Humidity,Wind,Water,Forecast,EnjoySport]\n",
    "data_labels = ['Sky','AirTemp','Humidity','Wind','Water','Forecast','EnjoySport']"
   ]
  },
  {
   "cell_type": "markdown",
   "metadata": {},
   "source": [
    "Then, for each attribute, we must determine the gain:"
   ]
  },
  {
   "cell_type": "code",
   "execution_count": 175,
   "metadata": {},
   "outputs": [
    {
     "name": "stdout",
     "output_type": "stream",
     "text": [
      "     Sky:  Entropy: 0.721928  Gain: 0.321928\n",
      " AirTemp:  Entropy: 0.721928  Gain: 0.321928\n",
      "Humidity:  Entropy: 0.970951  Gain: 0.019973\n",
      "    Wind:  Entropy: 0.721928  Gain: 0.321928\n",
      "   Water:  Entropy: 0.721928  Gain: 0.170951\n",
      "Forecast:  Entropy: 0.970951  Gain: 0.019973\n"
     ]
    }
   ],
   "source": [
    "target_pos = 6\n",
    "for i in range(len(data)):\n",
    "    if i != target_pos:\n",
    "        entropy,gain = attr_gain(data[i],data[target_pos])\n",
    "        print(\"%8s:  Entropy: %f  Gain: %f\"%(data_labels[i],entropy,gain))"
   ]
  },
  {
   "cell_type": "markdown",
   "metadata": {},
   "source": [
    "Again we can choose the highest gain attribute, which is again tied with AirTemp and newly-tied with Wind. \n",
    "\n",
    "Then we must subset the data on by the Sky attribute and check for entropy within the subsets. "
   ]
  },
  {
   "cell_type": "code",
   "execution_count": 176,
   "metadata": {},
   "outputs": [
    {
     "name": "stdout",
     "output_type": "stream",
     "text": [
      "Subset 1 entropy: 0.8112781244591328\n",
      "Subset 1 entropy: 0.0\n",
      "\n",
      "Subset 0\n",
      "AirTemp ['Warm', 'Warm', 'Warm', 'Warm']\n",
      "Humidity ['Normal', 'High', 'High', 'Normal']\n",
      "Wind ['Strong', 'Strong', 'Strong', 'Weak']\n",
      "Water ['Warm', 'Warm', 'Cool', 'Warm']\n",
      "Forecast ['Same', 'Same', 'Change', 'Same']\n",
      "EnjoySport ['Yes', 'Yes', 'Yes', 'No']\n",
      "\n",
      "Subset 1\n",
      "AirTemp ['Cold']\n",
      "Humidity ['High']\n",
      "Wind ['Strong']\n",
      "Water ['Warm']\n",
      "Forecast ['Change']\n",
      "EnjoySport ['No']\n"
     ]
    }
   ],
   "source": [
    "subset1_labels = copy.deepcopy(data_labels)\n",
    "subset1_labels.remove(max_gain_var)\n",
    "subsets = subset_data(data,0)\n",
    "entropy_sub1 = attr_entropy(subsets[0][-1])\n",
    "entropy_sub2 = attr_entropy(subsets[1][-1])\n",
    "print(\"Subset 1 entropy:\",entropy_sub1)\n",
    "print(\"Subset 1 entropy:\",entropy_sub2)\n",
    "for i in range(len(subsets)):\n",
    "    print('\\nSubset',i)\n",
    "    for j in range(len(subsets[i])):\n",
    "        print(subset1_labels[j],subsets[i][j])"
   ]
  },
  {
   "cell_type": "markdown",
   "metadata": {},
   "source": [
    "As is readily apparent, there remains entropy within the EnjoySport variable. We need to add another branch to the decision tree and check entropy again."
   ]
  },
  {
   "cell_type": "code",
   "execution_count": 177,
   "metadata": {},
   "outputs": [
    {
     "name": "stdout",
     "output_type": "stream",
     "text": [
      " AirTemp:  Entropy: 1.000000  Gain: 0.311278\n",
      "Humidity:  Entropy: 0.811278  Gain: 0.811278\n",
      "    Wind:  Entropy: 0.811278  Gain: 0.122556\n",
      "   Water:  Entropy: 0.811278  Gain: 0.122556\n",
      "Forecast:  Entropy: 0.811278  Gain: 0.811278\n"
     ]
    }
   ],
   "source": [
    "for i in range(len(subsets[0])):\n",
    "    if i != target_pos and i != 0:\n",
    "        entropy,gain = attr_gain(subsets[0][i],subsets[0][5])\n",
    "        print(\"%8s:  Entropy: %f  Gain: %f\"%(data_labels[i],entropy,gain))"
   ]
  },
  {
   "cell_type": "markdown",
   "metadata": {},
   "source": [
    "Thus at this point we will branch on Humidity and further subset the data. "
   ]
  },
  {
   "cell_type": "code",
   "execution_count": 192,
   "metadata": {},
   "outputs": [
    {
     "name": "stdout",
     "output_type": "stream",
     "text": [
      "Subset 2.1 entropy: 1.0\n",
      "Subset 2.2 entropy: 0.0\n",
      "\n",
      "Subset 0\n",
      "AirTemp ['Warm', 'Warm']\n",
      "Wind ['Strong', 'Weak']\n",
      "Water ['Warm', 'Warm']\n",
      "Forecast ['Same', 'Same']\n",
      "EnjoySport ['Yes', 'No']\n",
      "\n",
      "Subset 1\n",
      "AirTemp ['Warm', 'Warm']\n",
      "Wind ['Strong', 'Strong']\n",
      "Water ['Warm', 'Cool']\n",
      "Forecast ['Same', 'Change']\n",
      "EnjoySport ['Yes', 'Yes']\n"
     ]
    }
   ],
   "source": [
    "subset2_labels = copy.deepcopy(subset1_labels)\n",
    "subset2_labels.remove('Humidity')\n",
    "subsets2 = subset_data(subsets[0],1)\n",
    "entropy_sub1 = attr_entropy(subsets2[0][-1])\n",
    "entropy_sub2 = attr_entropy(subsets2[1][-1])\n",
    "print(\"Subset 2.1 entropy:\",entropy_sub1)\n",
    "print(\"Subset 2.2 entropy:\",entropy_sub2)\n",
    "for i in range(len(subsets2)):\n",
    "    print('\\nSubset',i)\n",
    "    for j in range(len(subsets2[i])):\n",
    "        print(subset2_labels[j],subsets2[i][j])"
   ]
  },
  {
   "cell_type": "markdown",
   "metadata": {},
   "source": [
    "Subset 2.1 contains entropy still, so we need to determine an additional attribute to further branch the decision tree."
   ]
  },
  {
   "cell_type": "code",
   "execution_count": 198,
   "metadata": {},
   "outputs": [
    {
     "name": "stdout",
     "output_type": "stream",
     "text": [
      "      Wind:  Entropy: 1.000000  Gain: 1.000000\n",
      "     Water:  Entropy: 0.000000  Gain: 0.000000\n",
      "  Forecast:  Entropy: 0.000000  Gain: 0.000000\n",
      "EnjoySport:  Entropy: 1.000000  Gain: 1.000000\n"
     ]
    }
   ],
   "source": [
    "for i in range(len(subsets2[0])):\n",
    "    if i != target_pos and i != 0:\n",
    "        entropy,gain = attr_gain(subsets2[0][i],subsets2[0][4])\n",
    "        print(\"%10s:  Entropy: %f  Gain: %f\"%(subset2_labels[i],entropy,gain))"
   ]
  },
  {
   "cell_type": "markdown",
   "metadata": {},
   "source": [
    "This shows that we will branch on Wind as the only possible way to gain additional information. \n",
    "\n",
    "Thus we have the following Decision Tree:\n",
    "\n",
    "    Branch on Sky (Gain = 0.321928)\n",
    "\n",
    "        if Rainy:\n",
    "\n",
    "            EnjoySport = No\n",
    "\n",
    "        if Sunny:\n",
    "\n",
    "            Branch on Humidity (Gain = 0.811278)\n",
    "\n",
    "                if High:\n",
    "\n",
    "                    EnjoySport = Yes\n",
    "\n",
    "                If Low:\n",
    "\n",
    "                    Branch on Wind (Gain = 1.0)\n",
    "\n",
    "                        if Strong:\n",
    "\n",
    "                            Enjoy Sport = Yes\n",
    "\n",
    "                        if Weak:\n",
    "\n",
    "                            EnjoySPort = No\n",
    "\n",
    "Gain of 1 indicates that the branch terminates at this point; no further tests are required in order to obtain a minimally lengthy decision tree that fits the data."
   ]
  },
  {
   "cell_type": "markdown",
   "metadata": {},
   "source": [
    "#### Problem 4.1\n",
    "\n",
    "What are the weights shown in figure 4.3?\n",
    "\n",
    "Treating this like a y=mx+b equation, w0 is the intercept, w1 is the x coefficient, and w2 is the y coefficient. Solving analytically for a given chart is then trivial. "
   ]
  },
  {
   "cell_type": "code",
   "execution_count": 25,
   "metadata": {},
   "outputs": [],
   "source": [
    "w0 = -1\n",
    "w1 = 0.5\n",
    "w2 = 1"
   ]
  },
  {
   "cell_type": "markdown",
   "metadata": {},
   "source": [
    "For ease of showing that these values are correct, here is a plot for comparison to figure 4.3:"
   ]
  },
  {
   "cell_type": "code",
   "execution_count": 26,
   "metadata": {},
   "outputs": [
    {
     "data": {
      "image/png": "[encoded data removed]",
      "text/plain": [
       "<Figure size 432x288 with 1 Axes>"
      ]
     },
     "metadata": {
      "needs_background": "light"
     },
     "output_type": "display_data"
    }
   ],
   "source": [
    "x,y = [],[]\n",
    "for i in range(-10,10):\n",
    "    x_val = w0 + (i*w1)\n",
    "    y_val = w2 * i\n",
    "    x.append(x_val)\n",
    "    y.append(y_val)\n",
    "\n",
    "plt.xlim(-3, 3)\n",
    "plt.ylim(-3, 3)\n",
    "plt.grid(True)\n",
    "plt.plot(x, y);"
   ]
  },
  {
   "cell_type": "markdown",
   "metadata": {},
   "source": [
    "#### Problem 4.2\n",
    "\n",
    "Design a 2-input perceptron that implements the boolean function A AND NOT B. Design a two-layer network of perceptrons that implements A XOR B. "
   ]
  },
  {
   "cell_type": "markdown",
   "metadata": {},
   "source": [
    "The problem space is two dimensions, A and B, which can be represented cartesianally as X and Y respectively. I am using True = 1 and False = 0 for both problems. \n",
    "\n",
    "Thus, for the first perceptron, the following weights are sufficient to create the perceptron:\n"
   ]
  },
  {
   "cell_type": "code",
   "execution_count": 73,
   "metadata": {},
   "outputs": [
    {
     "name": "stdout",
     "output_type": "stream",
     "text": [
      "0 -1.0\n",
      "1 -3.0\n",
      "2 0.5\n",
      "3 -1.5\n"
     ]
    }
   ],
   "source": [
    "w0 = -1\n",
    "w1 = 1.5\n",
    "w2 = -2\n",
    "\n",
    "x=[0,0,1,1]\n",
    "y=[0,1,0,1]\n",
    "\n",
    "for i in range(len(x)):\n",
    "    output = w0 + w1*x[i] + w2*y[i] \n",
    "    print(i,output)\n",
    "\n"
   ]
  },
  {
   "cell_type": "code",
   "execution_count": 74,
   "metadata": {},
   "outputs": [
    {
     "data": {
      "image/png": "[encoded data removed]",
      "text/plain": [
       "<Figure size 432x288 with 1 Axes>"
      ]
     },
     "metadata": {
      "needs_background": "light"
     },
     "output_type": "display_data"
    }
   ],
   "source": [
    "x_vec,y_vec = [],[]\n",
    "for i in range(-1,10):\n",
    "    x_val = w0 + (i*w1)\n",
    "    y_val = w2 * i\n",
    "    x_vec.append(x_val)\n",
    "    y_vec.append(y_val)\n",
    "    \n",
    "\n",
    "\n",
    "plt.xlim(-.5, 2)\n",
    "plt.ylim(-.5, 2)\n",
    "plt.plot(x_vec, y_vec)\n",
    "plt.plot(1,0, 'b+')\n",
    "plt.plot(1,1, 'rx')\n",
    "plt.plot(0,1, 'rx')\n",
    "plt.plot(0,0, 'rx')\n",
    "plt.show()"
   ]
  },
  {
   "cell_type": "code",
   "execution_count": null,
   "metadata": {},
   "outputs": [],
   "source": []
  },
  {
   "cell_type": "markdown",
   "metadata": {},
   "source": [
    "#### Problem 4.3"
   ]
  },
  {
   "cell_type": "code",
   "execution_count": null,
   "metadata": {},
   "outputs": [],
   "source": []
  }
 ],
 "metadata": {
  "kernelspec": {
   "display_name": "Python 3",
   "language": "python",
   "name": "python3"
  },
  "language_info": {
   "codemirror_mode": {
    "name": "ipython",
    "version": 3
   },
   "file_extension": ".py",
   "mimetype": "text/x-python",
   "name": "python",
   "nbconvert_exporter": "python",
   "pygments_lexer": "ipython3",
   "version": "3.7.3"
  }
 },
 "nbformat": 4,
 "nbformat_minor": 2
}
