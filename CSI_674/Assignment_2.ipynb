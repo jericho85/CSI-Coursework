{
 "cells": [
  {
   "cell_type": "markdown",
   "metadata": {},
   "source": [
    "### CSI-674<br>Jericho McLeod<br>Assignment 2"
   ]
  },
  {
   "cell_type": "markdown",
   "metadata": {},
   "source": [
    "#### Problem 1a: \n",
    "Two heterozygous (Bb) mice mate and the offspring is black (Bb or BB). We will call this mouse Boff. What is the probability that Boff is homozygous BB?\n",
    "\n",
    "Solved analytically using Bayes Theorem:\n",
    "\n",
    "$P(gene_{BB} | color_{bl}) = \\frac{P(color_{bl}|gene_{BB})P(gene_{BB})}{P(color_{bl})}$\n",
    "\n",
    "$P(gene_{BB} | color_{bl}) = \\frac{1*0.25}{0.75}$\n",
    "\n",
    "$P(gene_{BB} | color_{bl}) = \\frac{1}{3}$\n",
    "\n",
    "Bayes is unneeded for this, but I treated it as though we were looking for the probability Boff was homozygous given his coloring as that eliminated the possibility of homozygous with brown genes (bb) and given his parents there were equal probabilities for the genes b and B in either position. \n",
    "\n",
    "This could also be solved merely with the total probabilities given his coloring and yields the same result."
   ]
  },
  {
   "cell_type": "markdown",
   "metadata": {},
   "source": [
    "#### Problem 1b:\n",
    "Boff mates with a brown (bb) mouse resulting in 7 offspring, all of which are black. What is the probability that Boff is homozygous (BB) given this evidence?"
   ]
  },
  {
   "cell_type": "code",
   "execution_count": 1,
   "metadata": {},
   "outputs": [
    {
     "name": "stdout",
     "output_type": "stream",
     "text": [
      "0.9846153846153847\n"
     ]
    }
   ],
   "source": [
    "posterior = (1/3)/((1/3) + ((2/3)*(0.5**7)))\n",
    "print(posterior)"
   ]
  },
  {
   "cell_type": "markdown",
   "metadata": {},
   "source": [
    "#### Problem 1c: \n",
    "Show that the result to part 1b is the same if calculated sequentially."
   ]
  },
  {
   "cell_type": "code",
   "execution_count": 2,
   "metadata": {},
   "outputs": [
    {
     "name": "stdout",
     "output_type": "stream",
     "text": [
      "Trial: 1    Outcome:: 0.500000\n",
      "Trial: 2    Outcome:: 0.666667\n",
      "Trial: 3    Outcome:: 0.800000\n",
      "Trial: 4    Outcome:: 0.888889\n",
      "Trial: 5    Outcome:: 0.941176\n",
      "Trial: 6    Outcome:: 0.969697\n",
      "Trial: 7    Outcome:: 0.984615\n"
     ]
    }
   ],
   "source": [
    "def calc_posterior(prior):\n",
    "    posterior2 = prior / (prior + ((1-prior) * 0.5) )\n",
    "    return(posterior2)\n",
    "\n",
    "prior = 1/3\n",
    "for i in range(1,8):\n",
    "    posterior = calc_posterior(prior)\n",
    "    print(\"%s: %d    %s: %f\"%('Trial',i,'Outcome:',posterior))\n",
    "    prior=posterior"
   ]
  },
  {
   "cell_type": "markdown",
   "metadata": {},
   "source": [
    "#### Problem 2a:\n",
    "Given a choice between two gambles:\n",
    "\n",
    "A) \n",
    "\\\\$2500 with probability 0.33\n",
    "\\\\$2400 with probability 0.66\n",
    "\\\\$0 with probability 0.01\n",
    "\n",
    "B)\n",
    "$2400 with certainty\n",
    "\n",
    "Scale \\\\$2500 to be utility = 1, \\\\$0 to be utility = 0. For what utility of \\\\$2400 would a person choose A and B?\n",
    "\n",
    "$0.33x + 0.66y = 1y$\n",
    "$0.33x = 0.34y$\n",
    "$0.97058823529x = y$ where x=1, y=0.97.\n",
    "\n",
    "When the utility of Y is greater than this amount, choose gamble B, if less than choose gamble A, if equal then utility is matched. In other words, choose the highest utility in the chart below, which visualizes this problem."
   ]
  },
  {
   "cell_type": "code",
   "execution_count": 3,
   "metadata": {},
   "outputs": [
    {
     "data": {
      "text/plain": [
       "<Figure size 640x480 with 1 Axes>"
      ]
     },
     "metadata": {},
     "output_type": "display_data"
    }
   ],
   "source": [
    "import matplotlib.pyplot as plt\n",
    "\n",
    "def utility(val):\n",
    "    high = 1*0.33\n",
    "    mid = val*0.66\n",
    "    return(high+mid)\n",
    "\n",
    "a_utility = []\n",
    "b_utility = []\n",
    "mid_utilities = []\n",
    "\n",
    "for i in range(90,101):\n",
    "    x = i/100\n",
    "    a  = utility(x)\n",
    "    a_utility.append(a)\n",
    "    b_utility.append(x)\n",
    "    mid_utilities.append(x)\n",
    "\n",
    "plt.plot(mid_utilities,a_utility)\n",
    "plt.plot(mid_utilities,b_utility)\n",
    "plt.legend(('Gamble A', 'Gamble B'))\n",
    "plt.title('Expected Utility')\n",
    "plt.ylabel('Total Utility')\n",
    "plt.xlabel('Utility of $2400')\n",
    "plt.show()"
   ]
  },
  {
   "cell_type": "markdown",
   "metadata": {},
   "source": [
    "Given a new sett of gambles:\n",
    "C:\n",
    "\\\\$2500 with  probability 0.33\n",
    "\\\\$0 with  probability  0.67\n",
    "\n",
    "D:\n",
    "\\\\$2400 with probability 0.34\n",
    "\\\\$0 with probability 0.66\n",
    "\n",
    "Explain why no utility maximizer would choose B and C from {A,B} and {C,D}. Why do you think people actually  does choose this set? Do you think it is reasonable even if it does not conform to expected  utility  theory?\n",
    "\n",
    "$0.33 = 0.34x$<br>\n",
    "$x = 0.97$\n",
    "\n",
    "This is essentially the same as the prior  problem in terms of expected  utility, as visualized below."
   ]
  },
  {
   "cell_type": "code",
   "execution_count": 4,
   "metadata": {},
   "outputs": [
    {
     "data": {
      "image/png": "[encoded data removed]",
      "text/plain": [
       "<Figure size 432x288 with 1 Axes>"
      ]
     },
     "metadata": {
      "needs_background": "light"
     },
     "output_type": "display_data"
    }
   ],
   "source": [
    "c_utility = []\n",
    "d_utility = []\n",
    "utilities  =  []\n",
    "\n",
    "for  i in range(0,101):\n",
    "    x=i/100\n",
    "    c_utility.append(0.33)\n",
    "    d_utility.append(x*0.34)\n",
    "    utilities.append(x)\n",
    "\n",
    "plt.plot(utilities,c_utility)\n",
    "plt.plot(utilities,d_utility)\n",
    "plt.legend(('Gamble C', 'Gamble D'))\n",
    "plt.title('Expected Utility')\n",
    "plt.ylabel('Total Utility')\n",
    "plt.xlabel('Utility of $2400')\n",
    "plt.show()"
   ]
  },
  {
   "cell_type": "markdown",
   "metadata": {},
   "source": [
    "The true utility of \\\\$2400 is 0.96 by a purely financial scale from \\\\$0 to \\\\$2500 were the respective utilities are 0 and 1. With that in mind, one would expect the selection to these to be A and C. However, B contains no uncertainty. The addition of some measure of utility for that may explain the difference in the two gambles. In short, I think it is some aspect of human behavior or bias toward risk aversion. "
   ]
  }
 ],
 "metadata": {
  "kernelspec": {
   "display_name": "Python 3",
   "language": "python",
   "name": "python3"
  },
  "language_info": {
   "codemirror_mode": {
    "name": "ipython",
    "version": 3
   },
   "file_extension": ".py",
   "mimetype": "text/x-python",
   "name": "python",
   "nbconvert_exporter": "python",
   "pygments_lexer": "ipython3",
   "version": "3.7.3"
  }
 },
 "nbformat": 4,
 "nbformat_minor": 2
}
