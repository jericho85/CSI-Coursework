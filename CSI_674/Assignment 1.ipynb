{
 "cells": [
  {
   "cell_type": "markdown",
   "metadata": {},
   "source": [
    "### CSI-674<br>Assignment 1<br>Jericho McLeod"
   ]
  },
  {
   "cell_type": "code",
   "execution_count": 2,
   "metadata": {},
   "outputs": [],
   "source": [
    "import matplotlib.pyplot as plt"
   ]
  },
  {
   "cell_type": "markdown",
   "metadata": {},
   "source": [
    "#### Problem 1a:\n",
    "For a polygraph test, where positive test results indicate a security concern:<br>\n",
    "Sensitivity of a test: 80% (80% of positive cases will get a positive result from the test)<br>\n",
    "Specificity of a test: 85% (85% of negative cases will get a negative result from the test)<br>\n",
    "<br>\n",
    "Assume 1 in 1000 cases are true. What is the posterior probability that a positive test result indicates a true positive result?"
   ]
  },
  {
   "cell_type": "markdown",
   "metadata": {},
   "source": [
    "Prior probability of an event: <br>\n",
    "$P(s_C) = 0.001$ (State = Concerned)\n",
    "\n",
    "Prior probability of no event:<br>\n",
    "$P(s_U) = 0.999$ (State = Unconcerned)\n",
    "\n",
    "Probability of true positive:<br>\n",
    "$P(t_P | s_C) = 0.80$ \n",
    "\n",
    "Probability of a true negative:<br>\n",
    "$P(t_N | s_U)  = 0.85$\n",
    "\n",
    "Test:<br>\n",
    "$$ P(s_C | t_C)  = \\frac{P(t_P|s_C)*P(s_C)}{P(t_P|s_C)*P(s_C) + P(t_P|s_U)*P(s_U)}$$"
   ]
  },
  {
   "cell_type": "code",
   "execution_count": 3,
   "metadata": {},
   "outputs": [
    {
     "name": "stdout",
     "output_type": "stream",
     "text": [
      "0.003988035892323032\n"
     ]
    }
   ],
   "source": [
    "sC = 0.001\n",
    "sU = 0.999\n",
    "tP_sC = 0.8\n",
    "tN_sU = 0.85\n",
    "P = (tP_sC * sC) / ((tP_sC * sC) + ((1-tP_sC) * sU))\n",
    "print(P)"
   ]
  },
  {
   "cell_type": "markdown",
   "metadata": {},
   "source": [
    "The posterior probability that a security violation has occurred is 0.399%, considering the evidence (test) and the prior probability of 0.1%. This means that from a bayesian perspective with limited considerations, polygraphs do not appear to be an valuable or dependable tool for discovering security violations. "
   ]
  },
  {
   "cell_type": "markdown",
   "metadata": {},
   "source": [
    "#### Problem 1b:\n",
    "Prior probability of an event: <br>\n",
    "$P(s_C) = 0.25$\n",
    "\n",
    "Prior probability of no event:<br>\n",
    "$P(s_U) = 0.75$\n",
    "\n",
    "Probability of true positive:<br>\n",
    "$P(t_P | s_C) = 0.80$\n",
    "\n",
    "Probability of a true negative:<br>\n",
    "$P(t_N | s_U)  = 0.85$\n",
    "\n",
    "Test:<br>\n",
    "$$ P(s_C | t_C)  = \\frac{P(t_P|s_C)*P(s_C)}{P(t_P|s_C)*P(s_C) + P(t_P|s_U)*P(s_U)}$$"
   ]
  },
  {
   "cell_type": "code",
   "execution_count": 4,
   "metadata": {},
   "outputs": [
    {
     "name": "stdout",
     "output_type": "stream",
     "text": [
      "0.5714285714285715\n"
     ]
    }
   ],
   "source": [
    "sC = 0.25\n",
    "sU = 0.75\n",
    "tP_sC = 0.8\n",
    "tN_sU = 0.85\n",
    "P = (tP_sC * sC) / ((tP_sC * sC) + ((1-tP_sC) * sU))\n",
    "print(P)"
   ]
  },
  {
   "cell_type": "markdown",
   "metadata": {},
   "source": [
    "The posterior probability that the individual committed the theft in this case is 57.1%; significantly higher than the prior probability. Mathematically, this is due to the curve introduced by bayesian functions; as the entropy of events is maximized, bayesian tests provide better posteriors. To explain in a more application oriented manner, bayesian probabilities work best when the uncertainty prior to the test is high. The security violation was a relatively rare event, whereas the theft probability was relatively high."
   ]
  },
  {
   "cell_type": "markdown",
   "metadata": {},
   "source": [
    "#### Problem 2:\n",
    "Prior probability of an event (Security Concern): <br>\n",
    "$P(s_C) = Variable$\n",
    "\n",
    "Prior probability of no event:<br>\n",
    "$P(s_U) = (1-P(s_C)), Variable$\n",
    "<br><br>\n",
    "Probability of true positive (Sensitivity):<br>\n",
    "$P(t_P | s_C) = 0.80$\n",
    "\n",
    "Probability of a false positive:<br>\n",
    "$P(t_P | s_U) = 0.20$\n",
    "\n",
    "Probability of a true negative (Specificity):<br>\n",
    "$P(t_N | s_U)  = 0.85$\n",
    "\n",
    "Probability of a false negative:<br>\n",
    "$P(t_N | s_C)  = 0.15$\n",
    "<br><br>\n",
    "Loss if Action = False (Do not sanction) given Concern = False<br>\n",
    "$L(a_F|s_U) = 0$\n",
    "\n",
    "Loss if Action = True (Sanction) given Concern = True<br>\n",
    "$L(a_T|s_C) = 1$\n",
    "\n",
    "Loss if Action = True (Sanction) given Concern = False<br>\n",
    "$L(a_T|s_U) = 10$\n",
    "\n",
    "Loss if Action = False (Do not sanction) given Concern = True<br>\n",
    "$L(a_F|s_C) = 100$"
   ]
  },
  {
   "cell_type": "markdown",
   "metadata": {},
   "source": [
    "Thus, the equations to solve for the follow-test calculations are:\n",
    "\n",
    "$P(s_C|t_N) = \\frac{P(t_N|s_C)P(s_C)}{P(t_N|s_C)P(s_C)+P(t_N|s_U)P(s_U)}$ for  a negative result and $P(s_C|t_P) = \\frac{P(t_P|s_C)P(s_C)}{P(t_P|s_C)P(s_C)+P(t_P|s_U)P(s_U)}$ for a positive result (indicating a security concern).<br>\n",
    "\n",
    "Then, the Expected utilities  can be calculated as:<br><br>\n",
    "$EU(a_N|t_N) = P(s_C|t_N) * L(a_F|s_C) + (1-P(s_C|t_N))* L(a_F|s_U)$\n",
    "$EU(a_T|t_P) = P(s_C|t_P) * L(a_T|s_C) + (1-P(s_C|t_P))* L(a_T|s_U)$\n",
    "\n",
    "\n"
   ]
  },
  {
   "cell_type": "code",
   "execution_count": 5,
   "metadata": {},
   "outputs": [
    {
     "data": {
      "image/png": "[encoded data removed]",
      "text/plain": [
       "<Figure size 432x288 with 1 Axes>"
      ]
     },
     "metadata": {
      "needs_background": "light"
     },
     "output_type": "display_data"
    }
   ],
   "source": [
    "def expected_utility(p):\n",
    "    sctn = (0.15*p)/(0.15*p  + 0.85*(1-p))\n",
    "    sctp = (.8*p)/(.8*p + .2 * (1-p))\n",
    "    antn = sctn * 100 + (1-sctn)*0\n",
    "    attp = sctp * 1 + (1-sctp)*10\n",
    "    return(antn,attp)\n",
    "\n",
    "priors = []\n",
    "an_loss = []\n",
    "at_loss = []\n",
    "af_tp_loss = []\n",
    "af_tn_loss = []\n",
    "for i in range(41):\n",
    "    p = i*2.5/100\n",
    "    priors.append(p)\n",
    "    at_loss.append((10*(1-p))+(1*p)) #Losses for always sanction\n",
    "    an_loss.append(100*p+(0*(1-p))) #Losses for never sanction\n",
    "    antn,attp = expected_utility(p)\n",
    "    af_tp_loss.append(attp)\n",
    "    af_tn_loss.append(antn)\n",
    "\n",
    "plt.plot(priors,an_loss,color='blue')\n",
    "plt.plot(priors,at_loss,color='green')\n",
    "plt.plot(priors,af_tp_loss,color='red')\n",
    "plt.plot(priors,af_tn_loss,color='orange')\n",
    "plt.show()"
   ]
  },
  {
   "cell_type": "markdown",
   "metadata": {},
   "source": [
    "As we can see, below aboout 7.5% prior probability for a security concern, not administering the test and issuing no sanctions has the lowest utility cost, or highest utility. However, the cost of this course of action rises linearly to the maximum possible cost. \n",
    "\n",
    "Similarly, the cost of just always issuing sanctions is linear from 10 to 0 across the distribution of priors. This causes the cost of always issuing sanctions regardless of test results to the better choice once the prior for security concerns reaches approximately 30%. \n",
    "\n",
    "Therefore, the following template could be used to decide courses of action:<br>\n",
    "Prior Prob < 7.5%: no sanctions<br>\n",
    "Prior Prob >= 7.5% and <= 30%: follow test<br>\n",
    "Prior Prob > 30%: always issue sanctions<br>\n",
    "\n",
    "Given the limitation of the granularity of my prior distribution, there may be a margin of error < 2.5% above or below my reported figures. "
   ]
  },
  {
   "cell_type": "markdown",
   "metadata": {},
   "source": [
    "Comparing this to problem 1, it indicates that the expected value obtained by administering sanctions based on the results of a routine polygraph is lower than ignoring the test and administering no sanctions, while part 1b is in the range where following the results of the test are an appropriate course of action. "
   ]
  },
  {
   "cell_type": "markdown",
   "metadata": {},
   "source": [
    "#### Problem  3:\n",
    "\n",
    "Sensitivity: $\\theta$ from 0.025 to 0.975\n",
    "\n",
    "12 of 15 tests are positive. \n",
    "\n",
    "Prepare a bar plot of posterior distribution of theta."
   ]
  },
  {
   "cell_type": "code",
   "execution_count": 9,
   "metadata": {},
   "outputs": [
    {
     "name": "stdout",
     "output_type": "stream",
     "text": [
      "[0.025, 0.075, 0.125, 0.175, 0.22499999999999998, 0.27499999999999997, 0.325, 0.375, 0.425, 0.475, 0.5249999999999999, 0.575, 0.625, 0.6749999999999999, 0.725, 0.7749999999999999, 0.825, 0.875, 0.9249999999999999, 0.975]\n"
     ]
    },
    {
     "data": {
      "image/png": "[encoded data removed]",
      "text/plain": [
       "<Figure size 432x288 with 1 Axes>"
      ]
     },
     "metadata": {
      "needs_background": "light"
     },
     "output_type": "display_data"
    },
    {
     "data": {
      "image/png": "[encoded data removed]",
      "text/plain": [
       "<Figure size 432x288 with 1 Axes>"
      ]
     },
     "metadata": {
      "needs_background": "light"
     },
     "output_type": "display_data"
    }
   ],
   "source": [
    "theta = []\n",
    "prior_dist = []\n",
    "for i in range(0,20):\n",
    "    theta.append(((.95/19)*i)+.025)\n",
    "    prior_dist.append(0.05)\n",
    "print(theta)\n",
    "plt.bar(theta,prior_dist,width=0.04)\n",
    "plt.ylabel('Probability')\n",
    "plt.xlabel('Theta')\n",
    "plt.show()\n",
    "\n",
    "num_obs = 15\n",
    "num_d = 12\n",
    "post_dist = []\n",
    "post_dist_sum = 0\n",
    "\n",
    "for i in range(len(prior_dist)):\n",
    "    temp_val = (prior_dist[i]*theta[i]**(num_d)*(1-theta[i])**(num_obs-num_d))\n",
    "    post_dist.append(temp_val)\n",
    "    post_dist_sum += temp_val\n",
    "\n",
    "for i in range(len(post_dist)):\n",
    "    post_dist[i] = post_dist[i]/post_dist_sum\n",
    " \n",
    "    \n",
    "plt.bar(theta,post_dist,width=0.04)\n",
    "plt.ylabel('Probability')\n",
    "plt.xlabel('Theta')\n",
    "plt.show()"
   ]
  },
  {
   "cell_type": "markdown",
   "metadata": {},
   "source": [
    "The test returned positive results at a rate of 0.8; this is a poisson distribution of $\\theta$, which was the probability of the polygraph showing a concern. "
   ]
  },
  {
   "cell_type": "code",
   "execution_count": null,
   "metadata": {},
   "outputs": [],
   "source": []
  }
 ],
 "metadata": {
  "kernelspec": {
   "display_name": "Python 3",
   "language": "python",
   "name": "python3"
  },
  "language_info": {
   "codemirror_mode": {
    "name": "ipython",
    "version": 3
   },
   "file_extension": ".py",
   "mimetype": "text/x-python",
   "name": "python",
   "nbconvert_exporter": "python",
   "pygments_lexer": "ipython3",
   "version": "3.7.3"
  }
 },
 "nbformat": 4,
 "nbformat_minor": 2
}
