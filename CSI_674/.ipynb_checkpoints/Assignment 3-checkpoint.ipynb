{
 "cells": [
  {
   "cell_type": "markdown",
   "metadata": {},
   "source": [
    "### CSI-674<br>Jericho McLeod<br>Assignment 3\n",
    "\n",
    "\n",
    "#### Problem  1\n"
   ]
  },
  {
   "cell_type": "code",
   "execution_count": 192,
   "metadata": {},
   "outputs": [],
   "source": [
    "import random\n",
    "import copy\n",
    "import matplotlib.pyplot as plt"
   ]
  },
  {
   "cell_type": "code",
   "execution_count": 206,
   "metadata": {},
   "outputs": [
    {
     "name": "stdout",
     "output_type": "stream",
     "text": [
      "37\n"
     ]
    },
    {
     "data": {
      "image/png": "[encoded data removed]",
      "text/plain": [
       "<Figure size 432x288 with 1 Axes>"
      ]
     },
     "metadata": {
      "needs_background": "light"
     },
     "output_type": "display_data"
    }
   ],
   "source": [
    "\n",
    "\n",
    "times = [12, 2, 6, 2, 19, 5, 34, 4, 1, 4, 8, 7, 1, 21, 6, 11, \\\n",
    "         8, 28, 6, 4, 5, 1, 18, 9, 5, 1, 21, 1, 1, 5, 3, 14, 5, \\\n",
    "         3, 4, 5, 1, 3, 16, 2]\n",
    "\n",
    "def sample_times(times):\n",
    "    array = copy.deepcopy(times)\n",
    "    random_sample  = []\n",
    "    for i in range(len(array)):\n",
    "        x = random.randint(0,len(array)-1)\n",
    "        random_sample.append(array.pop(x))\n",
    "    return(random_sample)\n",
    "\n",
    "def time_blocks(times):\n",
    "    array = copy.deepcopy(times)\n",
    "    blocks = []\n",
    "    temp_block = []\n",
    "    while len(array) > 0:#This is not actually accurate\n",
    "        if sum(temp_block) + array[0]< 15:\n",
    "            x =  array.pop(0)\n",
    "            temp_block.append(x)\n",
    "        elif array[0] >=15:\n",
    "            for i in range(0,array[0]//15):\n",
    "                blocks.append(0)\n",
    "            x =  array.pop(0)\n",
    "            blocks.append(1)\n",
    "        else:\n",
    "            blocks.append(len(temp_block))\n",
    "            temp_block = []\n",
    "    return(blocks)\n",
    "\n",
    "def mean(array):\n",
    "    return(sum(array)/len(array))\n",
    "\n",
    "random_samples = sample_times(times)\n",
    "blocks = time_blocks(random_samples)\n",
    "#print(mean(blocks))\n",
    "\n",
    "repeated_samples = []\n",
    "for i in range(10000):\n",
    "    random_samples = sample_times(times)\n",
    "    blocks = time_blocks(random_samples)\n",
    "    repeated_samples.append(mean(blocks))\n",
    "#print(repeated_samples)\n",
    "\n",
    "plt.plot(sorted(repeated_samples))\n",
    "print(sum(blocks))"
   ]
  },
  {
   "cell_type": "markdown",
   "metadata": {},
   "source": [
    "This isn't quite the same as an exponential distribution;  it appears to be a right skewed poisson distribution. An exponential approximates through the majority of cases, which is apparently close enough for most models."
   ]
  },
  {
   "cell_type": "code",
   "execution_count": 31,
   "metadata": {},
   "outputs": [
    {
     "name": "stdout",
     "output_type": "stream",
     "text": [
      "0\n"
     ]
    }
   ],
   "source": [
    "print(random.randint(0,1))"
   ]
  },
  {
   "cell_type": "code",
   "execution_count": 103,
   "metadata": {},
   "outputs": [
    {
     "data": {
      "text/plain": [
       "7"
      ]
     },
     "execution_count": 103,
     "metadata": {},
     "output_type": "execute_result"
    }
   ],
   "source": [
    "15//2"
   ]
  }
 ],
 "metadata": {
  "kernelspec": {
   "display_name": "Python 3",
   "language": "python",
   "name": "python3"
  },
  "language_info": {
   "codemirror_mode": {
    "name": "ipython",
    "version": 3
   },
   "file_extension": ".py",
   "mimetype": "text/x-python",
   "name": "python",
   "nbconvert_exporter": "python",
   "pygments_lexer": "ipython3",
   "version": "3.7.3"
  }
 },
 "nbformat": 4,
 "nbformat_minor": 2
}
