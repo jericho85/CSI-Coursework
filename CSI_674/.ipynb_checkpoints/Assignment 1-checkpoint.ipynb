{
 "cells": [
  {
   "cell_type": "markdown",
   "metadata": {},
   "source": [
    "### CSI-674<br>Assignment 1<br>Jericho McLeod"
   ]
  },
  {
   "cell_type": "code",
   "execution_count": 17,
   "metadata": {},
   "outputs": [],
   "source": [
    "import matplotlib.pyplot as plt"
   ]
  },
  {
   "cell_type": "markdown",
   "metadata": {},
   "source": [
    "#### Problem 1a:\n",
    "For a polygraph test, where positive test results indicate a security concern:<br>\n",
    "Sensitivity of a test: 80% (80% of positive cases will get a positive result from the test)<br>\n",
    "Specificity of a test: 85% (85% of negative cases will get a negative result from the test)<br>\n",
    "<br>\n",
    "Assume 1 in 1000 cases are true. What is the posterior probability that a positive test result indicates a true positive result?"
   ]
  },
  {
   "cell_type": "markdown",
   "metadata": {},
   "source": [
    "Prior probability of an event: <br>\n",
    "$P(s_C) = 0.001$ (State = Concerned)\n",
    "\n",
    "Prior probability of no event:<br>\n",
    "$P(s_U) = 0.999$ (State = Unconcerned)\n",
    "\n",
    "Probability of true positive:<br>\n",
    "$P(t_P | s_C) = 0.80$ \n",
    "\n",
    "Probability of a true negative:<br>\n",
    "$P(t_N | s_U)  = 0.85$\n",
    "\n",
    "Test:<br>\n",
    "$$ P(s_C | t_C)  = \\frac{P(t_P|s_C)*P(s_C)}{P(t_P|s_C)*P(s_C) + P(t_P|s_U)*P(s_U)}$$"
   ]
  },
  {
   "cell_type": "code",
   "execution_count": 3,
   "metadata": {},
   "outputs": [
    {
     "name": "stdout",
     "output_type": "stream",
     "text": [
      "0.003988035892323032\n"
     ]
    }
   ],
   "source": [
    "sC = 0.001\n",
    "sU = 0.999\n",
    "tP_sC = 0.8\n",
    "tN_sU = 0.85\n",
    "P = (tP_sC * sC) / ((tP_sC * sC) + ((1-tP_sC) * sU))\n",
    "print(P)"
   ]
  },
  {
   "cell_type": "markdown",
   "metadata": {},
   "source": [
    "#### Problem 1b:\n",
    "Prior probability of an event: <br>\n",
    "$P(s_C) = 0.25$\n",
    "\n",
    "Prior probability of no event:<br>\n",
    "$P(s_U) = 0.75$\n",
    "\n",
    "Probability of true positive:<br>\n",
    "$P(t_P | s_C) = 0.80$\n",
    "\n",
    "Probability of a true negative:<br>\n",
    "$P(t_N | s_U)  = 0.85$\n",
    "\n",
    "Test:<br>\n",
    "$$ P(s_C | t_C)  = \\frac{P(t_P|s_C)*P(s_C)}{P(t_P|s_C)*P(s_C) + P(t_P|s_U)*P(s_U)}$$"
   ]
  },
  {
   "cell_type": "code",
   "execution_count": 4,
   "metadata": {},
   "outputs": [
    {
     "name": "stdout",
     "output_type": "stream",
     "text": [
      "0.5714285714285715\n"
     ]
    }
   ],
   "source": [
    "sC = 0.25\n",
    "sU = 0.75\n",
    "tP_sC = 0.8\n",
    "tN_sU = 0.85\n",
    "P = (tP_sC * sC) / ((tP_sC * sC) + ((1-tP_sC) * sU))\n",
    "print(P)"
   ]
  },
  {
   "cell_type": "markdown",
   "metadata": {},
   "source": [
    "#### Problem 2:\n",
    "Prior probability of an event: <br>\n",
    "$P(s_C) = Variable$\n",
    "\n",
    "Prior probability of no event:<br>\n",
    "$P(s_U) = (1-P(s_C)), Variable$\n",
    "\n",
    "Probability of true positive (Sensitivity):<br>\n",
    "$P(t_P | s_C) = 0.80$\n",
    "\n",
    "Probability of a true negative (Specificity):<br>\n",
    "$P(t_N | s_U)  = 0.85$\n",
    "\n",
    "I am going to use Loss rather than some arbitrary transformation of the given data to represent Utility. My assumption is that this will then be the same result but the desired outcome will be indicated by minimizing the output of the function rather than maximizing.<br>\n",
    "<br>\n",
    "Loss if Action = False (Do not sanction) given Concern = False<br>\n",
    "$L(a_F|s_U) = 0$\n",
    "\n",
    "Loss if Action = True (Sanction) given Concern = True<br>\n",
    "$L(a_T|s_C) = 1$\n",
    "\n",
    "Loss if Action = True (Sanction) given Concern = False<br>\n",
    "$L(a_T|s_U) = 10$\n",
    "\n",
    "Loss if Action = False (Do not sanction) given Concern = True<br>\n",
    "$L(a_F|s_C) = 100$\n"
   ]
  },
  {
   "cell_type": "code",
   "execution_count": 34,
   "metadata": {},
   "outputs": [],
   "source": [
    "priors = []\n",
    "el_af_su = []\n",
    "el_at_sc = []\n",
    "el_at_su = []\n",
    "el_af_sc = []\n",
    "P_list = []\n",
    "N_list = []\n",
    "for i in range(41):\n",
    "    priors.append(i*2.5/100)\n",
    "\n",
    "for i in priors:\n",
    "    sC = i\n",
    "    sU = 1-i\n",
    "    tP_sC = 0.8\n",
    "    tP_sU = 1-tP_sC\n",
    "    tN_sU = 0.85\n",
    "    tN_sC = 1-tN_sU\n",
    "    P = (tP_sC * sC) / ((tP_sC * sC) + (tP_sU * sU))\n",
    "    N = (tN_sC * sC) / ((tN_sC * sC) + (tN_sU * sU))\n",
    "    P_list.append(P)\n",
    "    N_list.append(N)\n",
    "    el_af_su.append((N*0)+((1-N)*100))\n",
    "    el_at_sc.append((P*1)+((1-P)*10))\n",
    "    el_at_su.append((N*1)+((1-N)*10))\n",
    "    el_af_sc.append((P*100)+((1-P)*0))\n",
    "    \n",
    "#for i in range(len(P_list)):\n",
    "#    print(P_list[i],N_list[i],el_af_su[i],el_at_sc[i],el_at_su[i],el_af_sc[i])\n",
    "    "
   ]
  },
  {
   "cell_type": "code",
   "execution_count": 33,
   "metadata": {},
   "outputs": [
    {
     "data": {
      "image/png": "[encoded data removed]",
      "text/plain": [
       "<Figure size 432x288 with 1 Axes>"
      ]
     },
     "metadata": {
      "needs_background": "light"
     },
     "output_type": "display_data"
    },
    {
     "data": {
      "image/png": "[encoded data removed]",
      "text/plain": [
       "<Figure size 432x288 with 1 Axes>"
      ]
     },
     "metadata": {
      "needs_background": "light"
     },
     "output_type": "display_data"
    }
   ],
   "source": [
    "#plt.plot(P_list)\n",
    "#plt.plot(N_list)\n",
    "plt.plot(priors,el_af_su,color='blue')\n",
    "plt.plot(priors,el_at_su,color='green')\n",
    "\n",
    "plt.show()\n",
    "\n",
    "plt.plot(priors,el_at_sc,color='red')\n",
    "plt.plot(priors,el_af_sc,color='orange')\n",
    "plt.show()"
   ]
  }
 ],
 "metadata": {
  "kernelspec": {
   "display_name": "Python 3",
   "language": "python",
   "name": "python3"
  },
  "language_info": {
   "codemirror_mode": {
    "name": "ipython",
    "version": 3
   },
   "file_extension": ".py",
   "mimetype": "text/x-python",
   "name": "python",
   "nbconvert_exporter": "python",
   "pygments_lexer": "ipython3",
   "version": "3.7.3"
  }
 },
 "nbformat": 4,
 "nbformat_minor": 2
}
