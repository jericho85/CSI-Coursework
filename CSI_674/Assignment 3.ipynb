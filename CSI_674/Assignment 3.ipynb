{
 "cells": [
  {
   "cell_type": "markdown",
   "metadata": {},
   "source": [
    "### CSI-674<br>Jericho McLeod<br>Assignment 3\n",
    "\n",
    "\n",
    "#### Problem  1\n",
    "\n",
    "<b>Part A:</b> A common model for interarrival times is a random sample from an exponential distribution. Do you think an exponential distribution provides a good model for the interarrival times? Justify your answer."
   ]
  },
  {
   "cell_type": "markdown",
   "metadata": {},
   "source": [
    "Yes, an exponential distribution randomly sampled is a good model for interarrival times. The Poisson distributions are exponential family distributions and are adequately represented by exponential models when randomly sampled in this fashion.\n",
    "\n",
    "To demonstrate this for the provided data, see the chart below visualizing the fit."
   ]
  },
  {
   "cell_type": "code",
   "execution_count": 2,
   "metadata": {},
   "outputs": [],
   "source": [
    "import random\n",
    "import copy\n",
    "import math\n",
    "import matplotlib.pyplot as plt\n",
    "import numpy as np\n",
    "from scipy.optimize import curve_fit\n",
    "from scipy.stats import poisson"
   ]
  },
  {
   "cell_type": "code",
   "execution_count": 3,
   "metadata": {},
   "outputs": [
    {
     "data": {
      "image/png": "[encoded data removed]",
      "text/plain": [
       "<Figure size 432x288 with 1 Axes>"
      ]
     },
     "metadata": {
      "needs_background": "light"
     },
     "output_type": "display_data"
    }
   ],
   "source": [
    "# Setting  up  variables  and inputting data\n",
    "times = np.array([12, 2, 6, 2, 19, 5, 34, 4, 1, 4, 8, 7, 1, 21, 6, 11, \\\n",
    "         8, 28, 6, 4, 5, 1, 18, 9, 5, 1, 21, 1, 1, 5, 3, 14, 5, \\\n",
    "         3, 4, 5, 1, 3, 16, 2])\n",
    "times  = sorted(times)\n",
    "x      = np.linspace(1,len(times),len(times))\n",
    "y      = []\n",
    "\n",
    "# Exponential function to plot a curve relative to X after optimizing parameters to Times\n",
    "def func(x, a, b, c):\n",
    "    return(a * np.exp(-b * x) + c)\n",
    "\n",
    "# Fit curve using scipy optimization library\n",
    "popt, pcov = curve_fit(func, x, times,p0=(1, 1e-3, 1))\n",
    "\n",
    "# Build curve array\n",
    "for i in x:\n",
    "    y.append(func(i,popt[0],popt[1],popt[2]))\n",
    "\n",
    "# Show output\n",
    "plt.scatter(x,sorted(times))\n",
    "plt.plot(x,y,'r-')\n",
    "plt.show()\n"
   ]
  },
  {
   "cell_type": "markdown",
   "metadata": {},
   "source": [
    "<b>Part B:</b> When interarrival times are randomly sampled from an exponential distribution, the counts of events per unit time are a random sample from a Poisson distribution. Using a time unit of 15 seconds, find the number of cars passing in each 15-second block of time after the initial car. (The initial car is used to bound the recording interval, so the total car count in your data set should be 40.) Do you think a Poisson distribution provides a good model for the count data? Justify your answer."
   ]
  },
  {
   "cell_type": "code",
   "execution_count": 9,
   "metadata": {},
   "outputs": [
    {
     "name": "stdout",
     "output_type": "stream",
     "text": [
      "2 7\n",
      "1 5\n",
      "0 3\n",
      "4 3\n",
      "3 3\n",
      "[2, 2, 1, 1, 0, 4, 3, 0, 2, 1, 1, 1, 4, 0, 2, 2, 3, 2, 4, 3, 2]\n"
     ]
    },
    {
     "data": {
      "text/plain": [
       "'\\n# hard coded x values in vector\\nx = np.array([0,1,2,3,4])\\n\\n### Use the probability mass function to fit the distribution over this\\ndef dpois(x,l):\\n    return((lam**x * math.e**-lam)/math.factorial(x))\\n    #convert to  linear multiplication to avoid scalar conversion error\\n\\n#Need to make inputs for DPOIS into vectors\\ndp = dpois(x,lam)\\n        \\n\\n# Plot the results\\nplt.bar(list(distribution.keys()),list(distribution.values()))\\n'"
      ]
     },
     "execution_count": 9,
     "metadata": {},
     "output_type": "execute_result"
    }
   ],
   "source": [
    "# Input data and craete variables / data structures\n",
    "times = [12, 2, 6, 2, 19, 5, 34, 4, 1, 4, 8, 7, 1, 21, 6, 11, \\\n",
    "         8, 28, 6, 4, 5, 1, 18, 9, 5, 1, 21, 1, 1, 5, 3, 14, 5, \\\n",
    "         3, 4, 5, 1, 3, 16, 2]\n",
    "car_count = {}\n",
    "distribution  = {}\n",
    "total_time = sum(times)\n",
    "\n",
    "\n",
    "# Loop through observed data, counting observations in 15-second windows\n",
    "for i in range(0+1,math.ceil(total_time/15)+1):\n",
    "    counter = 0\n",
    "    time = 15\n",
    "    while time > 0 and len(times)>0:\n",
    "        if times[0]<=time:\n",
    "            time -= times[0]\n",
    "            del times[0]\n",
    "            counter+=1\n",
    "        else:\n",
    "            times[0]-=time\n",
    "            time = 0\n",
    "    car_count[i] = counter\n",
    "\n",
    "# Create the histogram of observations per 15 second window\n",
    "dist_sum = 0\n",
    "for k,v in car_count.items():\n",
    "    distribution[v] = distribution.get(v,0)+1\n",
    "    dist_sum +=1\n",
    "\n",
    "# normalize and creeate lamdba vector\n",
    "lam = 0\n",
    "for k,v in distribution.items():\n",
    "    print(k,v)\n",
    "    distribution[k] = v/dist_sum\n",
    "    lam += k*(v/dist_sum)\n",
    "temp_array =[0]*len(distribution)\n",
    "for i in range(len(temp_array)):\n",
    "    temp_array[i]=lam\n",
    "lam = np.array(temp_array)\n",
    "\n",
    "pure_counts = []\n",
    "for k,v in car_count.items():\n",
    "    pure_counts.append(v)\n",
    "\n",
    "print(pure_counts)\n",
    "'''\n",
    "# hard coded x values in vector\n",
    "x = np.array([0,1,2,3,4])\n",
    "\n",
    "### Use the probability mass function to fit the distribution over this\n",
    "def dpois(x,l):\n",
    "    return((lam**x * math.e**-lam)/math.factorial(x))\n",
    "    #convert to  linear multiplication to avoid scalar conversion error\n",
    "\n",
    "#Need to make inputs for DPOIS into vectors\n",
    "dp = dpois(x,lam)\n",
    "        \n",
    "\n",
    "# Plot the results\n",
    "plt.bar(list(distribution.keys()),list(distribution.values()))\n",
    "'''"
   ]
  },
  {
   "cell_type": "markdown",
   "metadata": {},
   "source": [
    "The results resemble a poisson distribution, but the number of observations is not sufficient  to create a good poisson distribution. \n",
    "\n",
    "That said, we  already know that an exponential distribution deals with time between occurrences in continuous time, and that poisson distributions account for counts of continuous events in fixed windows, so we've just shown the mechanisms underlying these distributions from a single dataset manually. Any variation from a clear poisson or exponential distribution is an artifact of the limited sample size. "
   ]
  },
  {
   "cell_type": "markdown",
   "metadata": {},
   "source": [
    "<b>Part C:</b> Assume that $\\Lambda$, the rate parameter of the Poisson distribution has a discrete uniform prior distribution on 20 equally spaced values between (0.2, 0.4, ..., 3.8, 4.0) cars per 15-second interval. Find the posterior distribution after observing the first 10 observations of car counts in 15 second intervals. Find the posterior mean, standard deviation, median and 95th percentile of $\\Lambda$ given the first 10 observations.\n",
    "\n",
    "Since I am using Python, I will recreate the dpois() function from R manuallly such that:\n",
    "$$Pr[X=x] = \\frac{e^{-\\lambda}\\lambda^x}{x!}$$\n",
    "where  x is the observed count and lambda is the expected count."
   ]
  },
  {
   "cell_type": "code",
   "execution_count": 322,
   "metadata": {},
   "outputs": [
    {
     "name": "stdout",
     "output_type": "stream",
     "text": [
      "[0.2 0.4 0.6 0.8 1.  1.2 1.4 1.6 1.8 2.  2.2 2.4 2.6 2.8 3.  3.2 3.4 3.6\n",
      " 3.8 4. ]\n",
      "[0.05 0.05 0.05 0.05 0.05 0.05 0.05 0.05 0.05 0.05 0.05 0.05 0.05 0.05\n",
      " 0.05 0.05 0.05 0.05 0.05 0.05]\n"
     ]
    }
   ],
   "source": [
    "prior_lambda = 0.05\n",
    "t_vals = np.linspace(0.2,4,20)\n",
    "x_vals = np.array([0.05]*20)\n",
    "posterior_lambda = []\n",
    "\n",
    "def dpois(x,l):\n",
    "    return((x**(-l)*l**x)/math.factorial(x))\n",
    "print(t)\n",
    "print(x)\n",
    "\n",
    "for i in range(len(t_vals)):\n",
    "    posterior_lambda = "
   ]
  },
  {
   "cell_type": "code",
   "execution_count": null,
   "metadata": {},
   "outputs": [],
   "source": []
  }
 ],
 "metadata": {
  "kernelspec": {
   "display_name": "Python 3",
   "language": "python",
   "name": "python3"
  },
  "language_info": {
   "codemirror_mode": {
    "name": "ipython",
    "version": 3
   },
   "file_extension": ".py",
   "mimetype": "text/x-python",
   "name": "python",
   "nbconvert_exporter": "python",
   "pygments_lexer": "ipython3",
   "version": "3.7.3"
  }
 },
 "nbformat": 4,
 "nbformat_minor": 2
}
