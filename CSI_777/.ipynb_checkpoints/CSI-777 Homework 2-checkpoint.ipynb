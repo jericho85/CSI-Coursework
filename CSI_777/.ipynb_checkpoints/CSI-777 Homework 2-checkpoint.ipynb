{
 "cells": [
  {
   "cell_type": "markdown",
   "metadata": {},
   "source": [
    "## CSI-777 Homework 2\n",
    "\n",
    "### Jericho McLeod"
   ]
  },
  {
   "cell_type": "markdown",
   "metadata": {},
   "source": [
    "#### Import the data"
   ]
  },
  {
   "cell_type": "code",
   "execution_count": 4,
   "metadata": {},
   "outputs": [],
   "source": [
    "import csv\n",
    "import matplotlib.pyplot as plt\n",
    "\n",
    "data = []\n",
    "with open('hw1.csv') as csvfile:\n",
    "    csv_r = csv.reader(csvfile,delimiter=',')\n",
    "    for row in csv_r:\n",
    "        data.append(row)"
   ]
  },
  {
   "cell_type": "markdown",
   "metadata": {},
   "source": [
    "#### Show the data"
   ]
  },
  {
   "cell_type": "code",
   "execution_count": 5,
   "metadata": {},
   "outputs": [
    {
     "name": "stdout",
     "output_type": "stream",
     "text": [
      "   outlook temperature   humidity      windy       play\n",
      "     sunny         85         85      FALSE         no\n",
      "     sunny         80         90       TRUE         no\n",
      "  overcast         83         86          0        yes\n",
      "     rainy         70         96      FALSE           \n",
      "     rainy         68         80      FALSE        yes\n",
      "     rainz         65         70       TRUE         no\n",
      "  overcast                    65       TRUE        yes\n",
      "     sunny         72         95      FALSE         no\n",
      "     sunny        -40         70      FALSE        yes\n",
      "     rainy         75         80      FALSE        yes\n",
      "     sunny         75         70       TRUE        yes\n",
      "  overcast         72         90       TRUE        yes\n",
      "  overcast         81         75      FALSE        yes\n",
      "     rainy         71         91       TRUE         no\n"
     ]
    }
   ],
   "source": [
    "data[0][0]='outlook'\n",
    "for i in data:\n",
    "    print(\"%10s %10s %10s %10s %10s\"%(i[0],i[1],i[2],i[3],i[4]))\n",
    "    "
   ]
  },
  {
   "cell_type": "markdown",
   "metadata": {},
   "source": [
    "#### Examine the Humidity data a bit more:"
   ]
  },
  {
   "cell_type": "code",
   "execution_count": 6,
   "metadata": {},
   "outputs": [
    {
     "name": "stdout",
     "output_type": "stream",
     "text": [
      "Mean humidity: 81.642857\n",
      "Standard Deviation: 10.285218\n"
     ]
    },
    {
     "data": {
      "image/png": "[encoded data removed]",
      "text/plain": [
       "<Figure size 432x288 with 1 Axes>"
      ]
     },
     "metadata": {
      "needs_background": "light"
     },
     "output_type": "display_data"
    }
   ],
   "source": [
    "humidity = []\n",
    "for i in data:\n",
    "    try:\n",
    "        humidity.append(int(i[2]))\n",
    "    except:\n",
    "        pass\n",
    "\n",
    "humidity_mean = 0\n",
    "for i in humidity:\n",
    "    humidity_mean+=i\n",
    "humidity_mean/=len(humidity)\n",
    "print(\"Mean humidity: %f\"%(humidity_mean))\n",
    "ss = 0\n",
    "for i in humidity:\n",
    "    var = i-humidity_mean\n",
    "    var_sq = var**2\n",
    "    ss+=var_sq\n",
    "st_dev = ((1/(len(humidity)-1))*ss)**0.5\n",
    "print(\"Standard Deviation: %f\"%(st_dev))\n",
    "\n",
    "\n",
    "plt.plot(humidity)\n",
    "plt.ylabel('Humidity')\n",
    "plt.show()"
   ]
  },
  {
   "cell_type": "markdown",
   "metadata": {},
   "source": [
    "#### Look at the split on 1 Standard Deviation:"
   ]
  },
  {
   "cell_type": "code",
   "execution_count": 7,
   "metadata": {},
   "outputs": [
    {
     "name": "stdout",
     "output_type": "stream",
     "text": [
      "\n",
      "High Humidity Instances:\n",
      "   outlook temperature   humidity      windy       play\n",
      "     rainy         70         96      FALSE           \n",
      "     sunny         72         95      FALSE         no\n",
      "\n",
      "Mid Humidity Instances:\n",
      "   outlook temperature   humidity      windy       play\n",
      "     sunny         85         85      FALSE         no\n",
      "     sunny         80         90       TRUE         no\n",
      "  overcast         83         86          0        yes\n",
      "     rainy         68         80      FALSE        yes\n",
      "     rainy         75         80      FALSE        yes\n",
      "  overcast         72         90       TRUE        yes\n",
      "  overcast         81         75      FALSE        yes\n",
      "     rainy         71         91       TRUE         no\n",
      "\n",
      "Low Humidity Instances:\n",
      "   outlook temperature   humidity      windy       play\n",
      "     rainz         65         70       TRUE         no\n",
      "  overcast                    65       TRUE        yes\n",
      "     sunny        -40         70      FALSE        yes\n",
      "     sunny         75         70       TRUE        yes\n"
     ]
    }
   ],
   "source": [
    "high = []\n",
    "mid  = []\n",
    "low  = []\n",
    "standard_dev_output = []\n",
    "\n",
    "for i in range(len(data)):\n",
    "    if i==0:\n",
    "        high.append(data[i])\n",
    "        mid.append(data[i])\n",
    "        low.append(data[i])\n",
    "        standard_dev_output.append(data[i])\n",
    "    else:\n",
    "        if int(data[i][2])>humidity_mean+st_dev:\n",
    "            high.append(data[i])\n",
    "        elif int(data[i][2])<=humidity_mean+st_dev and int(data[i][2])>humidity_mean-st_dev:\n",
    "            mid.append(data[i])\n",
    "            standard_dev_output.append(data[i])\n",
    "        elif int(data[i][2]) <= humidity_mean-st_dev:\n",
    "            low.append(data[i])\n",
    "            standard_dev_output.append(data[i])\n",
    "\n",
    "print(\"\\nHigh Humidity Instances:\")\n",
    "for i in high:\n",
    "    print(\"%10s %10s %10s %10s %10s\"%(i[0],i[1],i[2],i[3],i[4]))\n",
    "\n",
    "print(\"\\nMid Humidity Instances:\")\n",
    "for i in mid:\n",
    "    print(\"%10s %10s %10s %10s %10s\"%(i[0],i[1],i[2],i[3],i[4]))\n",
    "\n",
    "print(\"\\nLow Humidity Instances:\")\n",
    "for i in low:\n",
    "    print(\"%10s %10s %10s %10s %10s\"%(i[0],i[1],i[2],i[3],i[4]))"
   ]
  },
  {
   "cell_type": "markdown",
   "metadata": {},
   "source": [
    "#### Eliminating instances with Standard Deviations > 1 removes 2. \n",
    "\n",
    "#### Let's look at removing the top 1/3 and compare datasets:"
   ]
  },
  {
   "cell_type": "code",
   "execution_count": 8,
   "metadata": {},
   "outputs": [
    {
     "name": "stdout",
     "output_type": "stream",
     "text": [
      "Original Data:\n",
      "   outlook temperature   humidity      windy       play\n",
      "     sunny         85         85      FALSE         no\n",
      "     sunny         80         90       TRUE         no\n",
      "  overcast         83         86          0        yes\n",
      "     rainy         70         96      FALSE           \n",
      "     rainy         68         80      FALSE        yes\n",
      "     rainz         65         70       TRUE         no\n",
      "  overcast                    65       TRUE        yes\n",
      "     sunny         72         95      FALSE         no\n",
      "     sunny        -40         70      FALSE        yes\n",
      "     rainy         75         80      FALSE        yes\n",
      "     sunny         75         70       TRUE        yes\n",
      "  overcast         72         90       TRUE        yes\n",
      "  overcast         81         75      FALSE        yes\n",
      "     rainy         71         91       TRUE         no\n",
      "\n",
      "Data with the top 1/3rd removed:\n",
      "   outlook temperature   humidity      windy       play\n",
      "     sunny         85         85      FALSE         no\n",
      "     sunny         80         90       TRUE         no\n",
      "  overcast         83         86          0        yes\n",
      "     rainy         68         80      FALSE        yes\n",
      "     rainz         65         70       TRUE         no\n",
      "  overcast                    65       TRUE        yes\n",
      "     sunny        -40         70      FALSE        yes\n",
      "     rainy         75         80      FALSE        yes\n",
      "     sunny         75         70       TRUE        yes\n",
      "  overcast         72         90       TRUE        yes\n",
      "  overcast         81         75      FALSE        yes\n",
      "\n",
      "Data < 1 Standard Deviation above the mean:\n",
      "   outlook temperature   humidity      windy       play\n",
      "     sunny         85         85      FALSE         no\n",
      "     sunny         80         90       TRUE         no\n",
      "  overcast         83         86          0        yes\n",
      "     rainy         68         80      FALSE        yes\n",
      "     rainz         65         70       TRUE         no\n",
      "  overcast                    65       TRUE        yes\n",
      "     sunny        -40         70      FALSE        yes\n",
      "     rainy         75         80      FALSE        yes\n",
      "     sunny         75         70       TRUE        yes\n",
      "  overcast         72         90       TRUE        yes\n",
      "  overcast         81         75      FALSE        yes\n",
      "     rainy         71         91       TRUE         no\n"
     ]
    }
   ],
   "source": [
    "q_remove = len(humidity)//3\n",
    "humidity_trunc = sorted(humidity)[:-q_remove]\n",
    "bottom_66_output = []\n",
    "for i in range(len(data)):\n",
    "    if i == 0:\n",
    "        bottom_66_output.append(data[i])\n",
    "    else:\n",
    "        if int(data[i][2]) in humidity_trunc:\n",
    "            bottom_66_output.append(data[i])\n",
    "\n",
    "print(\"Original Data:\")\n",
    "for i in data:\n",
    "    print(\"%10s %10s %10s %10s %10s\"%(i[0],i[1],i[2],i[3],i[4]))\n",
    "\n",
    "print(\"\\nData with the top 1/3rd removed:\")\n",
    "for i in bottom_66_output:\n",
    "    print(\"%10s %10s %10s %10s %10s\"%(i[0],i[1],i[2],i[3],i[4]))\n",
    "    \n",
    "print(\"\\nData < 1 Standard Deviation above the mean:\")\n",
    "for i in standard_dev_output:\n",
    "    print(\"%10s %10s %10s %10s %10s\"%(i[0],i[1],i[2],i[3],i[4]))"
   ]
  },
  {
   "cell_type": "markdown",
   "metadata": {},
   "source": [
    "Removing the top 1/3 (rounded down) trims 4 observations from the dataset of 4 instances. \n",
    "\n",
    "Without knowing the reason for removing 'High' humidity instances, it is impossible to know if either measure is sufficient.\n",
    "For instance, high could be the only alternative to low humidity, in which case 7 instances should be removed. \n",
    "\n",
    "Based on the chart of humidity, I prefer the standard deviation method, as it removes the two that I would label 'high points,' despite being added to this notebook after writing most of this conclusion (I went with the 'Ed Tufte' method of deciding which measure made sense to me)."
   ]
  },
  {
   "cell_type": "code",
   "execution_count": 9,
   "metadata": {},
   "outputs": [
    {
     "name": "stdout",
     "output_type": "stream",
     "text": [
      "\n",
      "Final Data:\n",
      "   outlook temperature   humidity      windy       play\n",
      "     sunny         85         85      FALSE         no\n",
      "     sunny         80         90       TRUE         no\n",
      "  overcast         83         86          0        yes\n",
      "     rainy         68         80      FALSE        yes\n",
      "     rainz         65         70       TRUE         no\n",
      "  overcast                    65       TRUE        yes\n",
      "     sunny        -40         70      FALSE        yes\n",
      "     rainy         75         80      FALSE        yes\n",
      "     sunny         75         70       TRUE        yes\n",
      "  overcast         72         90       TRUE        yes\n",
      "  overcast         81         75      FALSE        yes\n",
      "     rainy         71         91       TRUE         no\n"
     ]
    }
   ],
   "source": [
    "print(\"\\nFinal Data:\")\n",
    "for i in standard_dev_output:\n",
    "    print(\"%10s %10s %10s %10s %10s\"%(i[0],i[1],i[2],i[3],i[4]))"
   ]
  },
  {
   "cell_type": "code",
   "execution_count": null,
   "metadata": {},
   "outputs": [],
   "source": []
  },
  {
   "cell_type": "code",
   "execution_count": null,
   "metadata": {},
   "outputs": [],
   "source": []
  },
  {
   "cell_type": "code",
   "execution_count": null,
   "metadata": {},
   "outputs": [],
   "source": []
  },
  {
   "cell_type": "code",
   "execution_count": null,
   "metadata": {},
   "outputs": [],
   "source": []
  }
 ],
 "metadata": {
  "kernelspec": {
   "display_name": "Python 3",
   "language": "python",
   "name": "python3"
  },
  "language_info": {
   "codemirror_mode": {
    "name": "ipython",
    "version": 3
   },
   "file_extension": ".py",
   "mimetype": "text/x-python",
   "name": "python",
   "nbconvert_exporter": "python",
   "pygments_lexer": "ipython3",
   "version": "3.7.3"
  }
 },
 "nbformat": 4,
 "nbformat_minor": 2
}
