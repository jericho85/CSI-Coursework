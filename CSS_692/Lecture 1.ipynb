{
 "cells": [
  {
   "cell_type": "markdown",
   "metadata": {},
   "source": [
    "V(G) = vertices collection\n",
    "E(G) = edges collection\n",
    "\n",
    "Undirected vs. directed\n",
    "\n",
    "$n = |V(G)|$ (number of nodes)<br>\n",
    "$m = |E(G)|$ (number of edges)<br>\n",
    "\n",
    "Link Indicator<br>\n",
    "a_ij:   Function<br>\n",
    "&emsp;        input is a pair of nodes i and j<br>\n",
    "&emsp;        output =  {<br>\n",
    "&emsp;&emsp;                    1 if i and j are connected<br>\n",
    "&emsp;&emsp;                    0 if they are not<br>\n",
    "&emsp;                  }<br>\n",
    "\n",
    "a_ij == a_ji if the network is undirected<br>\n",
    "a_ij generally != a_ji if the network is directed <br>\n",
    "    (not = or !=, just independent)<br>\n",
    "\n",
    "degree of a node = the number of edges for which one of the participants is the node being considered<br>\n",
    "$$ Degree = K_i = \\sum_{j=1}^{n} a_{ij} = \\sum_{j=1}^{n} a_{ji}$$\n",
    "For a directed graph, this is the out-degree and an in-degree\n",
    "$$ Degree = K_{i}^{(out)} = \\sum_{j=1}^{n} a_{ij}$$\n",
    "$$ Degree = K_{i}^{(in)} = \\sum_{j=1}^{n} a_{ji}$$\n"
   ]
  },
  {
   "cell_type": "markdown",
   "metadata": {},
   "source": [
    "The number of links in an undirected graph is:\n",
    "$$ 2m = \\sum_{i=1}^n \\sum_{j=1}^n a_{ij}$$\n",
    "\n",
    "$$ m = \\frac{\\sum_{i=1}^n \\sum_{j=1}^n a_{ij}}{2}$$\n",
    "\n",
    "The number of links in a directed graph is:\n",
    "$$ m = \\sum_{i=1}^n \\sum_{j=1}^n a_{ij}$$\n",
    "\n",
    "Note that the directed graph system counts only the out links; thus it is not m/2 initially.<br><br>\n",
    "Average Degree = < k >\n",
    "$$Undirected <k>= \\frac{ \\sum_{i}^{n} k_i}{n} = \\frac{2m}{n}$$<br><br>\n",
    "$$Directed <k>= \\frac{ \\sum_{i}^{n} k_{i}^{out}} {n} = \\frac{m}{n} $$\n",
    "\n",
    "<br>Maximum Links:\n",
    "Undirected: N choose 2\n",
    "$$ \\frac{n(n-1)}{2}$$<br>\n",
    "Directed: $n(n-1) = m_{complete}$<br><br>\n",
    "\n",
    "Density:\n",
    "$$\\rho = \\frac{m}{m_{complete}}$$\n",
    "Restated for undirected:\n",
    "$$\\rho  = \\frac{m}{\\frac{n(n-1)}{2}} = \\frac{2m}{n(n-1)} = \\frac{<k>}{n-1} \\Rightarrow   <k> = \\rho (n-1)$$\n",
    "RHO (Density) is the homogenous probability that any given link to be present."
   ]
  },
  {
   "cell_type": "code",
   "execution_count": 2,
   "metadata": {},
   "outputs": [],
   "source": [
    "import networkx as nx"
   ]
  },
  {
   "cell_type": "code",
   "execution_count": 3,
   "metadata": {},
   "outputs": [],
   "source": [
    "G  = nx.Graph()\n",
    "#G.add_edge(1,2)"
   ]
  },
  {
   "cell_type": "code",
   "execution_count": 4,
   "metadata": {},
   "outputs": [],
   "source": [
    "edges_input = [['Baldwin','Hunt'],\\\n",
    "                ['Baldwin','Liddy'],\\\n",
    "                ['Baldwin','McCord'],\\\n",
    "                ['Baldwin','Sturgis'],\\\n",
    "                ['Dean','Barker'],\\\n",
    "                ['Dean','Ehrlichman'],\\\n",
    "                ['Dean','Gray'],\\\n",
    "                ['Dean','Haldeman'],\\\n",
    "                ['Dean','Hunt'],\\\n",
    "                ['Dean','Kalmbach'],\\\n",
    "                ['Dean','LaRue'],\\\n",
    "                ['Dean','Liddy'],\\\n",
    "                ['Dean','Martinez'],\\\n",
    "                ['Dean','Nixon'],\\\n",
    "                ['Gray','Dean'],\\\n",
    "                ['Hunt','Colson'],\\\n",
    "                ['Hunt','Dean'],\\\n",
    "                ['Hunt','Liddy'],\\\n",
    "                ['Hunt','OBrien'],\\\n",
    "                ['Hunt','Parkinson'],\\\n",
    "                ['Krogh','Hunt'],\\\n",
    "                ['Krogh','Liddy'],\\\n",
    "                ['Magruder','Dean'],\\\n",
    "                ['Magruder','Haldeman'],\\\n",
    "                ['Magruder','Liddy'],\\\n",
    "                ['Magruder','Mitchell'],\\\n",
    "                ['Magruder','Nixon'],\\\n",
    "                ['Magruder','Porter'],\\\n",
    "                ['Magruder','Strachan'],\\\n",
    "                ['McCord','Colson'],\\\n",
    "                ['McCord','Dean'],\\\n",
    "                ['McCord','Hunt'],\\\n",
    "                ['McCord','LaRue'],\\\n",
    "                ['McCord','Liddy'],\\\n",
    "                ['McCord','Magruder'],\\\n",
    "                ['McCord','Mitchell'],\\\n",
    "                ['McCord','Parkinson'],\\\n",
    "                ['Segretti','Chapin']]"
   ]
  },
  {
   "cell_type": "code",
   "execution_count": 5,
   "metadata": {},
   "outputs": [],
   "source": [
    "for i in edges_input:\n",
    "    G.add_edge(i[0],i[1])"
   ]
  },
  {
   "cell_type": "code",
   "execution_count": 6,
   "metadata": {},
   "outputs": [
    {
     "name": "stdout",
     "output_type": "stream",
     "text": [
      "n = 24\n",
      "m = 36\n"
     ]
    }
   ],
   "source": [
    "G.edges\n",
    "G.nodes\n",
    "print(\"n =\",len(G.nodes))\n",
    "print(\"m =\",len(G.edges))"
   ]
  },
  {
   "cell_type": "code",
   "execution_count": 7,
   "metadata": {},
   "outputs": [
    {
     "name": "stderr",
     "output_type": "stream",
     "text": [
      "/anaconda3/lib/python3.7/site-packages/networkx/drawing/nx_pylab.py:611: MatplotlibDeprecationWarning: isinstance(..., numbers.Number)\n",
      "  if cb.is_numlike(alpha):\n"
     ]
    }
   ],
   "source": [
    "nx.draw_networkx(G)\n"
   ]
  },
  {
   "cell_type": "code",
   "execution_count": 1,
   "metadata": {},
   "outputs": [],
   "source": []
  }
 ],
 "metadata": {
  "kernelspec": {
   "display_name": "Python 3",
   "language": "python",
   "name": "python3"
  },
  "language_info": {
   "codemirror_mode": {
    "name": "ipython",
    "version": 3
   },
   "file_extension": ".py",
   "mimetype": "text/x-python",
   "name": "python",
   "nbconvert_exporter": "python",
   "pygments_lexer": "ipython3",
   "version": "3.7.3"
  }
 },
 "nbformat": 4,
 "nbformat_minor": 2
}
