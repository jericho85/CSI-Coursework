{
 "cells": [
  {
   "cell_type": "markdown",
   "metadata": {},
   "source": [
    "Interesting structures in Networks:<br>\n",
    "\n",
    "<b>Degree of node i</b>:\n",
    "$k_i =$ number  of  connections  visiting  i<br>\n",
    "<br>\n",
    "$k_i = \\sum_{i=1}^{n} a_{ij}$<br>\n",
    "where nodes are labeled 1, 2 .. n<br>\n",
    "<br>\n",
    "\n",
    "For directed graphs we can update this to:<br>\n",
    "$k_{i}^{out} = \\sum_{i=1}^{n} a_{ij}$<br>\n",
    "and<br>\n",
    "$k_{i}^{in} = \\sum_{i=1}^{n} a_{ij}$\n",
    "\n",
    "<b>Degree sequence:</b><br>\n",
    "Set of all degrees:<br>\n",
    "$\\{k_1,k_2...k_n\\}$<br>\n",
    "\n",
    "Recall V(G) and E(G):<br>\n",
    "V(G) = vertices collection<br>E(G) = edges collection"
   ]
  },
  {
   "cell_type": "markdown",
   "metadata": {},
   "source": [
    "<b>Degree Histogram => Degree Distribution</b>\n",
    "\n",
    "\n",
    "H(k): Number of nodes in network with degree=k<br>\n",
    "Aka the histogram of \"k\", or the frequency of node degree k.<br>\n",
    "\n",
    "Min and max of k?\n",
    "$ 0 \\leq k \\leq n-1$\n",
    "\n",
    "$\\sum_{k=0}^{n-1}$ H{k} = n\n",
    "\n",
    "$\\sum_{k=0}^{n-1}$ kH{k} = 2m\n",
    "\n",
    "$Pr(k) = \\frac{H(k)}{n}$\n",
    "\n",
    "$\\sum_{k=0}^{n-1} Pr(k)  = 1$\n",
    "\n",
    "$<k> = \\frac{\\sum_{i=1}^{n} k_i}{n}$"
   ]
  },
  {
   "cell_type": "markdown",
   "metadata": {},
   "source": [
    "<b>Link Indicators</b>"
   ]
  },
  {
   "cell_type": "code",
   "execution_count": 2,
   "metadata": {},
   "outputs": [],
   "source": [
    "import networkx as nx"
   ]
  },
  {
   "cell_type": "code",
   "execution_count": 23,
   "metadata": {},
   "outputs": [],
   "source": [
    "G  = nx.Graph()\n",
    "edges_input = [['i','j'],['j','k'],['m','l'],['i','k'],['k','n'],['j','o']]\n",
    "for i in edges_input:\n",
    "    G.add_edge(i[0],i[1])\n"
   ]
  },
  {
   "cell_type": "code",
   "execution_count": 39,
   "metadata": {},
   "outputs": [
    {
     "data": {
      "image/png": "[encoded data removed]",
      "text/plain": [
       "<Figure size 432x288 with 1 Axes>"
      ]
     },
     "metadata": {
      "needs_background": "light"
     },
     "output_type": "display_data"
    }
   ],
   "source": [
    "nx.draw_networkx(G)\n",
    "#nx.draw(G)"
   ]
  },
  {
   "cell_type": "markdown",
   "metadata": {},
   "source": [
    "Link indicator product:  That tests for the  presence  of the path of lengh L. \n",
    "\n",
    "Network Paths:\n",
    "\n",
    "Matrix B * Matrix C  = Matrix D\n",
    "If we want Matrix(D)_ij:\n",
    "\n",
    "Row then column\n",
    "\n",
    "<b>A^L  counts the number of  paths of length L  from i to j. </b>\n",
    "\n",
    "$A^{l}_{ij}=0$ for all $l<s$\n",
    "\n",
    "$A^{s}_{ij}=>0$ \n",
    "\n",
    "In other words, when a value  in powers  of A goes from 0 to more than 0, l is known to be the shortest path\n",
    "\n",
    "S is the shortest path betwen i,j\n",
    "\n",
    "Shortest paths  are simple paths in that they do not cross over themselves.\n",
    "\n",
    "$A^{l}_{ij}$ is the path redundancy  or path multiplicity for i,j with length l. \n",
    "\n",
    "$A^{S_{ij}}_{ij}$ = shortest path multiplicity\n",
    "\n",
    "If no finite \"l\" exists such that such that A^L' > 0  for L'<=L then ij are structurally disconnected. In practice, when L is the same as the number of links, you can stop this search.\n",
    "\n",
    "Structural connectivity  means you can get there for some  value of L. Structural disconnected means you cannot get there.  Structural connectivity states extend to all structurally connected nodes. \n",
    "\n",
    "These form 'clusters'. Clusters are then called 'C'. \n",
    "\n",
    "$C =$ the quantity of structurally connected clusters  of nodes that are structurally disconnected between clusters.\n",
    "\n",
    "$n_c = \\sum_{c=1}^{c'_{i}} n_c$; the number of nodes in cluster $c$"
   ]
  },
  {
   "cell_type": "markdown",
   "metadata": {},
   "source": [
    "$H(S)$ = All SP of length S where SP is the shortest paths"
   ]
  },
  {
   "cell_type": "markdown",
   "metadata": {},
   "source": [
    "World sizes:<br>\n",
    "$<s>$ ~ log n (small world)<br>\n",
    "$<s>$ ~ log log n (ultra small world)<br>\n",
    "\n",
    "$<s> = \\frac{\\sum_s sH(s)}{\\sum_s H(s)}$\n",
    "\n",
    "$<s>$ ~ $n^\\alpha$ where  $ 0 \\lt \\alpha \\leq 1$\n",
    "\n",
    "\n",
    "Centrality:<br>\n",
    "1) Betweenness<br>\n",
    "2) Eigenvector  Centrality<br>\n",
    "\n",
    "Clustering in more depth:<br>\n",
    "C = number  of realized  triangle  / number of opportunities  for triangles\n",
    "\n",
    "Local  clustering:<br>\n",
    "$c_i$ = number of triangles involving i / number of opportunities  with node i\n",
    "\n",
    "for node i with $k_i$ edges there are ${ k_i \\choose 2}$ opportunities, or \"V\" shapes, where i is the vertex of the V shape. \n",
    "\n",
    "Thus:<br>\n",
    "$c_i = \\frac{t_i}{{k_i \\choose 2}}  = \\frac{2 t_i}{k_i (k_i  -1)}$\n",
    "\n",
    "In Global clustering:\n",
    "$C = \\frac{3T}{\\theta(G)} = \\frac{\\sum_{i}t_i}{\\sum_{i}{k_i \\choose 2}}$ \n",
    "where T = global triangles\n",
    "\n",
    "$\\theta (G) = $ number of V shapes over G<br>\n",
    "$\\theta (G) = \\sum_{i=1}^{n}{k_i \\choose 2}$ \n",
    "\n",
    "You can also add up all unique paths of length 2 to get the number of V's in a graph. (just use the top half of the adj matrix)"
   ]
  }
 ],
 "metadata": {
  "kernelspec": {
   "display_name": "Python 3",
   "language": "python",
   "name": "python3"
  },
  "language_info": {
   "codemirror_mode": {
    "name": "ipython",
    "version": 3
   },
   "file_extension": ".py",
   "mimetype": "text/x-python",
   "name": "python",
   "nbconvert_exporter": "python",
   "pygments_lexer": "ipython3",
   "version": "3.7.3"
  }
 },
 "nbformat": 4,
 "nbformat_minor": 2
}
