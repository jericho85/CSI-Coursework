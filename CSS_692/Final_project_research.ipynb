{
 "cells": [
  {
   "cell_type": "markdown",
   "metadata": {},
   "source": [
    "1) Use John Hopkins data by city for COVID-19 infections for a selection of cities (at least 2)\n",
    "    Select cities by\n",
    "    a) availability of date stay-at-home orders were issued\n",
    "    b) population data availability\n",
    "    c) other interest / randomness\n",
    "\n",
    "2) Create SIR network model for COVID-19\n",
    "\n",
    "3) Create ERGMs for periods before and after stay-at-home orders issued. These need to not just use structure or degree counts, but also propagation outputs at different periods with some statistical goodness of fit measure relative to the observed data. This area is probably the most difficult / problematic; I only know how to do an ERGM based on the direct aspects and think the computational complexity here might be a problem.\n",
    "\n",
    "4) Compare the rates of change for the degree / structures of the resulting random graphs that fit the infection data to compare how relatively well the cities implemented social distancing.\n",
    "\n",
    "Potential issues: <br>population density<br>ERGM parameters to train to<br>\n",
    "< k><br>\n",
    "< transmissibility><br>\n",
    "< effective number of secondary infections><br>\n",
    "\n",
    "number of days infection lasts can help connect r naught and transmissibility<br><br>\n",
    "< k> X tau X [a proportion  of duration] = R naught<br>\n",
    "    population density influences k average<br>\n",
    "    \n",
    "Paper to look up:<br>\n",
    "    pastor-satorras, vespignani, boguña physical review (letters?)<br>\n",
    "    who first described epidemics in erdos renyi graphs? (check Grassberger)<br>\n",
    "    \n",
    "Need clusters and social distancing outside of the clusters...<br>\n",
    "    Vespignani in particular is worth looking into"
   ]
  },
  {
   "cell_type": "markdown",
   "metadata": {},
   "source": [
    "http://mutex.gmu.edu/login?url=https://journals.aps.org/pre/abstract/10.1103/PhysRevE.70.056122\n",
    "http://mutex.gmu.edu/login?url=https://journals.aps.org/pre/abstract/10.1103/PhysRevE.66.047104\n",
    "http://mutex.gmu.edu/login?url=https://journals.aps.org/prl/abstract/10.1103/PhysRevLett.90.028701\n",
    "http://mutex.gmu.edu/login?url=https://link.springer.com/article/10.1140/epjb/e2004-00038-8\n",
    "\n",
    "This one is promising\n",
    "http://mutex.gmu.edu/login?url=https://journals.aps.org/prl/abstract/10.1103/PhysRevLett.92.178701\n",
    "\n",
    "http://mutex.gmu.edu/login?url=https://royalsocietypublishing.org/doi/abs/10.1098/rsbl.2004.0188\n",
    "http://mutex.gmu.edu/login?url=https://journals.aps.org/prl/abstract/10.1103/PhysRevLett.97.088701\n",
    "\n",
    "Also promising\n",
    "http://mutex.gmu.edu/login?url=https://journals.aps.org/rmp/abstract/10.1103/RevModPhys.87.925\n"
   ]
  },
  {
   "cell_type": "markdown",
   "metadata": {},
   "source": [
    "### ERGM"
   ]
  },
  {
   "cell_type": "code",
   "execution_count": 2,
   "metadata": {},
   "outputs": [],
   "source": [
    "import networkx as nx\n",
    "import matplotlib.pyplot as plt\n",
    "import random\n",
    "import math\n",
    "from copy import deepcopy\n",
    "import numpy as np\n",
    "from numpy.linalg import inv\n",
    "from numpy.linalg import pinv\n",
    "from scipy.special import comb"
   ]
  },
  {
   "cell_type": "code",
   "execution_count": 3,
   "metadata": {},
   "outputs": [],
   "source": [
    "alpha = -0.849 # 1.6\n",
    "gamma = -0.51 # -1.5 1 #newly specified parameter\n",
    "stop_threshold = 0.01\n",
    "n = int(12)\n",
    "p = float(0.15)\n",
    "Q = 2200\n",
    "q = 200\n",
    "Tao = 10\n",
    "nchoose3 = comb(n,3,exact=True)\n",
    "m_list=[]\n",
    "t_list=[]"
   ]
  },
  {
   "cell_type": "code",
   "execution_count": 5,
   "metadata": {},
   "outputs": [
    {
     "data": {
      "image/png": "[encoded data removed]",
      "text/plain": [
       "<Figure size 432x288 with 1 Axes>"
      ]
     },
     "metadata": {
      "needs_background": "light"
     },
     "output_type": "display_data"
    }
   ],
   "source": [
    "#def create_graph(n,p):\n",
    "#    G = nx.Graph()\n",
    "#    for q in range(n):\n",
    "#        G.add_node(q)\n",
    "#    for i in range(n):\n",
    "#        for j in range(i+1,n):\n",
    "#            if random.random()<p:\n",
    "#                G.add_edge(i,j)\n",
    "#    return(G)\n",
    "\n",
    "def create_graph(n,p):\n",
    "    G=nx.Graph()\n",
    "    G.add_edges_from([(1,2),(1,12),(3,4),(3,7),(3,8),\\\n",
    "             (3,12),(4,5),(4,11),(4,12),(5,6),\\\n",
    "             (5,10),(6,7),(7,10),(8,10),(8,11),\\\n",
    "             (9,10),(10,11),(11,12)])\n",
    "    return(G)\n",
    "\n",
    "\n",
    "G = create_graph(n,p)\n",
    "nx.draw_networkx(G,with_labels=True,font_weight='bold')\n",
    "\n",
    "G_naught_m = len(G.edges()) # stopping parameter"
   ]
  },
  {
   "cell_type": "code",
   "execution_count": 11,
   "metadata": {},
   "outputs": [],
   "source": [
    "def tri_count(G):\n",
    "    return(sum(list(nx.triangles(G).values())))\n",
    "\n",
    "tri_count(G)"
   ]
  },
  {
   "cell_type": "code",
   "execution_count": 13,
   "metadata": {},
   "outputs": [
    {
     "name": "stdout",
     "output_type": "stream",
     "text": [
      "0.25691756610368544\n"
     ]
    }
   ],
   "source": [
    "def PGprime_PG(m,mp,t,tp,alpha,gamma): \n",
    "    #links, links prime, triangles, triangles prime, alpha and gamma parameters\n",
    "    # e ^( (alpha * (m(G')-m(G))) + (gamma * (t(G')-t(G))))\n",
    "    PGp_PG = math.exp((alpha*(mp-m)+gamma*(tp-t)))\n",
    "    return(PGp_PG)\n",
    "\n",
    "temp_m = G.number_of_edges()\n",
    "temp_mp = temp_m+1\n",
    "temp_t = tri_count(G)\n",
    "temp_tp = temp_t+1\n",
    "PGp_PG = PGprime_PG(temp_m,temp_mp,temp_t,temp_tp,alpha,gamma)\n",
    "print(PGp_PG)"
   ]
  },
  {
   "cell_type": "code",
   "execution_count": 14,
   "metadata": {},
   "outputs": [],
   "source": [
    "def metropolis_step(G,alpha,gamma):\n",
    "    Gp = deepcopy(G) # Create G Prime\n",
    "    i = random.randint(1,len(Gp.nodes)-1)\n",
    "    j = random.randint(1,len(Gp.nodes)-2)\n",
    "    if j>=i:\n",
    "        j+=1\n",
    "    if j in Gp.neighbors(i):\n",
    "        Gp.remove_edge(i,j)\n",
    "    else: Gp.add_edge(i,j)\n",
    "    t,tp = tri_count(G),tri_count(Gp)\n",
    "    m,mp = G.number_of_edges(),Gp.number_of_edges()\n",
    "    PGp_PG = PGprime_PG(m,mp,t,tp,alpha,gamma)\n",
    "    if PGp_PG >= 1:\n",
    "        return(Gp,1)\n",
    "    else:\n",
    "        accept_proba = random.random()\n",
    "        if PGp_PG > accept_proba:\n",
    "            return(Gp,1)\n",
    "        else: \n",
    "            return(G,0)"
   ]
  },
  {
   "cell_type": "code",
   "execution_count": 15,
   "metadata": {},
   "outputs": [],
   "source": [
    "def MCMC(m_list,t_list,n,p,Q,q,Tao,alpha,gamma): #change this function to run burn in, then to only update counter as noted below\n",
    "    G=create_graph(n,p)\n",
    "    initial_tri = tri_count(G)\n",
    "    initial_edges = G.number_of_edges()\n",
    "    count=0\n",
    "    tri=0\n",
    "    edge=0\n",
    "    for a in range(Q): \n",
    "        G,x=metropolis_step(G,alpha,gamma) # x = acceptance of G prime\n",
    "        if x==1: # only update if G prime accepted\n",
    "            if a > q:\n",
    "                if a%Tao==0:\n",
    "                    links = G.number_of_edges()\n",
    "                    m_list.append(links)\n",
    "                    triangles = tri_count(G)\n",
    "                    t_list.append(triangles)\n",
    "                    count+=1\n",
    "                    tri+=tri_count(G)\n",
    "                    edge+=G.number_of_edges()\n",
    "    avg_m = edge/count\n",
    "    avg_t = tri/count\n",
    "    return(m_list,t_list,avg_m,avg_t,initial_tri,initial_edges)"
   ]
  },
  {
   "cell_type": "code",
   "execution_count": null,
   "metadata": {},
   "outputs": [],
   "source": [
    "def average(list_):\n",
    "    temp=0\n",
    "    for i in list_:\n",
    "        temp+=i\n",
    "    temp=temp/len(list_)\n",
    "    return(temp)\n",
    "def variance(list_):\n",
    "    aver = average(list_)\n",
    "    var = 0\n",
    "    #temp_val = 0\n",
    "    for i in list_:\n",
    "        temp_val = (i-aver)**2\n",
    "        var += temp_val\n",
    "    var=var/len(list_)\n",
    "    return(var,aver)\n",
    "def covariance(list1,list2,m_ave,t_ave):\n",
    "    #aver_prod = m_ave*t_ave\n",
    "    combined = zip(list1,list2)\n",
    "    temp_list = []\n",
    "    for i in combined:\n",
    "        temp_list.append((i[0]-m_ave)*(i[1]-t_ave))\n",
    "    covar = average(temp_list)\n",
    "    return(covar)"
   ]
  },
  {
   "cell_type": "code",
   "execution_count": null,
   "metadata": {},
   "outputs": [],
   "source": []
  },
  {
   "cell_type": "code",
   "execution_count": null,
   "metadata": {},
   "outputs": [],
   "source": []
  }
 ],
 "metadata": {
  "kernelspec": {
   "display_name": "Python 3",
   "language": "python",
   "name": "python3"
  },
  "language_info": {
   "codemirror_mode": {
    "name": "ipython",
    "version": 3
   },
   "file_extension": ".py",
   "mimetype": "text/x-python",
   "name": "python",
   "nbconvert_exporter": "python",
   "pygments_lexer": "ipython3",
   "version": "3.7.3"
  }
 },
 "nbformat": 4,
 "nbformat_minor": 2
}
