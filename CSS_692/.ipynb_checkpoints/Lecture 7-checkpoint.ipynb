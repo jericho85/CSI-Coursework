{
 "cells": [
  {
   "cell_type": "markdown",
   "metadata": {},
   "source": [
    "Betweenness Centrality:<br>\n",
    "\n",
    "Eigenvector Centrality!<br>\n",
    "\n",
    "$x_i \\alpha \\sum_{j=1}^n a_{i,j} x_j$<br>\n",
    "\n",
    "X_i has  importance that is proportional of its neighbors<br>\n",
    "\n",
    "$x_i =\\beta\\sum_{j=1}^n a_{i,j} x_j$ for $i =1,2...n$<br>\n",
    "\n",
    "$x_i = \\beta  (Ax^T)_i $<br>\n",
    "$x^T = \\beta Ax^T$<br>\n",
    "$Ax^T = \\lambda x^T$ : Eigenvalue problem<br>\n",
    "\n",
    "Non-trivial solution:<br>\n",
    "$(A-\\lambda I ) x^T = 0^T$ \n",
    "Which gives the Eigenvalues via Lambda, and then X is the eigenvalues. This gets normalized. "
   ]
  },
  {
   "cell_type": "code",
   "execution_count": null,
   "metadata": {},
   "outputs": [],
   "source": []
  },
  {
   "cell_type": "code",
   "execution_count": null,
   "metadata": {},
   "outputs": [],
   "source": [
    "import networkx as nx\n",
    "import random"
   ]
  },
  {
   "cell_type": "code",
   "execution_count": 4,
   "metadata": {},
   "outputs": [
    {
     "data": {
      "image/png": "[encoded data removed]",
      "text/plain": [
       "<Figure size 432x288 with 1 Axes>"
      ]
     },
     "metadata": {
      "needs_background": "light"
     },
     "output_type": "display_data"
    }
   ],
   "source": [
    "G = nx.Graph()\n",
    "G.add_node(1)\n",
    "G.add_node(2)\n",
    "G.add_node(3)\n",
    "G.add_node(4)\n",
    "G.add_edge(1,2)\n",
    "G.add_edge(1,4)\n",
    "G.add_edge(2,4)\n",
    "G.add_edge(2,3)\n",
    "G.add_edge(3,4)\n",
    "G.add_edge(3,5)\n",
    "G.add_edge(1,6)\n",
    "nx.draw_networkx(G)"
   ]
  },
  {
   "cell_type": "code",
   "execution_count": 6,
   "metadata": {},
   "outputs": [
    {
     "data": {
      "text/plain": [
       "EdgeView([(1, 2), (1, 4), (1, 6), (2, 4), (2, 3), (3, 4), (3, 5)])"
      ]
     },
     "execution_count": 6,
     "metadata": {},
     "output_type": "execute_result"
    }
   ],
   "source": [
    "G.edges()"
   ]
  },
  {
   "cell_type": "code",
   "execution_count": 89,
   "metadata": {},
   "outputs": [],
   "source": [
    "r_p  = 0.2   # likelihood of spreading illness\n",
    "v_p  = 0  # likelihood of vaccinating"
   ]
  },
  {
   "cell_type": "code",
   "execution_count": 64,
   "metadata": {},
   "outputs": [
    {
     "name": "stdout",
     "output_type": "stream",
     "text": [
      "{1: 1, 2: 1, 3: 0, 4: 1, 5: 1, 6: 1}\n",
      "{1: 0, 2: 0, 3: 1, 4: 0, 5: 0, 6: 0}\n"
     ]
    }
   ],
   "source": [
    "def initialize_infection(G):\n",
    "    infected = {}\n",
    "    healthy  = {}\n",
    "    n = list(G.nodes())\n",
    "    for i in n:\n",
    "        infected[i] = 0\n",
    "        healthy[i]  = 1\n",
    "    first =  random.randint(min(n),max(n))\n",
    "    infected[first] += 1\n",
    "    healthy[first]  -= 1\n",
    "    return(infected,healthy)\n",
    "\n",
    "infected,healthy = initialize_infection(G)\n",
    "\n",
    "print(healthy)\n",
    "print(infected)"
   ]
  },
  {
   "cell_type": "code",
   "execution_count": 131,
   "metadata": {},
   "outputs": [
    {
     "name": "stdout",
     "output_type": "stream",
     "text": [
      "{0: 0, 1: 0, 2: 0, 3: 0, 4: 0, 5: 0, 6: 0, 7: 0, 8: 0, 9: 0, 10: 0, 11: 0, 12: 0, 13: 0, 14: 0, 15: 0, 16: 0, 17: 0, 18: 0, 19: 0, 20: 0, 21: 0, 22: 0, 23: 0, 24: 0, 25: 0, 26: 0, 27: 0, 28: 0, 29: 0, 30: 0, 31: 0, 32: 0, 33: 0, 34: 0, 35: 0, 36: 0, 37: 0, 38: 0, 39: 0, 40: 0, 41: 0, 42: 0, 43: 0, 44: 0, 45: 0, 46: 0, 47: 0, 48: 0, 49: 0, 50: 0, 51: 0, 52: 0, 53: 0, 54: 0, 55: 0, 56: 0, 57: 0, 58: 0, 59: 0, 60: 0, 61: 0, 62: 0, 63: 0, 64: 0, 65: 0, 66: 0, 67: 0, 68: 0, 69: 0, 70: 0, 71: 0, 72: 0, 73: 0, 74: 0, 75: 0, 76: 0, 77: 0, 78: 0, 79: 0, 80: 0, 81: 0, 82: 0, 83: 0, 84: 0, 85: 0, 86: 0, 87: 0, 88: 0, 89: 0, 90: 0, 91: 0, 92: 0, 93: 0, 94: 0, 95: 0, 96: 0, 97: 0, 98: 0, 99: 0, 100: 0}\n"
     ]
    }
   ],
   "source": [
    "def initialize_vaccines(G,v_p):\n",
    "    vaccinated = {}\n",
    "    n = list(G.nodes())\n",
    "    for i in range(min(n),len(n)+1):\n",
    "        if v_p > random.random():\n",
    "            vaccinated[i] = 1\n",
    "        else:\n",
    "            vaccinated[i] = 0\n",
    "    return(vaccinated)\n",
    "\n",
    "vaccinated  = initialize_vaccines(G,v_p)\n",
    "print(vaccinated)"
   ]
  },
  {
   "cell_type": "code",
   "execution_count": 134,
   "metadata": {},
   "outputs": [
    {
     "name": "stdout",
     "output_type": "stream",
     "text": [
      "{0: 0, 1: 0, 2: 0, 3: 0, 4: 0, 5: 0, 6: 0, 7: 0, 8: 0, 9: 0, 10: 0, 11: 0, 12: 0, 13: 0, 14: 0, 15: 0, 16: 0, 17: 0, 18: 0, 19: 0, 20: 0, 21: 0, 22: 0, 23: 0, 24: 0, 25: 0, 26: 0, 27: 0, 28: 0, 29: 0, 30: 0, 31: 0, 32: 0, 33: 0, 34: 0, 35: 0, 36: 0, 37: 0, 38: 0, 39: 0, 40: 0, 41: 0, 42: 0, 43: 0, 44: 0, 45: 0, 46: 0, 47: 0, 48: 0, 49: 0, 50: 0, 51: 0, 52: 0, 53: 0, 54: 0, 55: 0, 56: 0, 57: 0, 58: 0, 59: 0, 60: 0, 61: 0, 62: 0, 63: 0, 64: 0, 65: 0, 66: 0, 67: 0, 68: 0, 69: 0, 70: 0, 71: 0, 72: 0, 73: 0, 74: 0, 75: 0, 76: 0, 77: 0, 78: 0, 79: 0, 80: 0, 81: 0, 82: 0, 83: 0, 84: 0, 85: 0, 86: 0, 87: 0, 88: 0, 89: 0, 90: 0, 91: 0, 92: 0, 93: 0, 94: 0, 95: 0, 96: 0, 97: 0, 98: 0, 99: 0}\n"
     ]
    }
   ],
   "source": [
    "def iterate_epidemic(G,r_p,healthy,infected,vaccinated):\n",
    "    nodes = list(G.nodes())\n",
    "    new_infections = []\n",
    "    for k,v in infected.items():\n",
    "        if v == 1:\n",
    "            ne = list(G.neighbors(k))\n",
    "            for i in ne:\n",
    "                #print(i)\n",
    "                if healthy[i] == 1 and vaccinated[i] == 0:\n",
    "                    if random.random() < r_p:\n",
    "                        new_infections.append(i)\n",
    "            infected[k] = 0\n",
    "    for i in new_infections:\n",
    "        healthy[i]  = 0\n",
    "        infected[i] = 1\n",
    "    return(healthy,infected)\n",
    "\n",
    "\n",
    "print(infected)\n",
    "for i in range(10):\n",
    "    healthy,infected = iterate_epidemic(G,r_p,healthy,infected,vaccinated)\n",
    "    #print(infected)"
   ]
  },
  {
   "cell_type": "code",
   "execution_count": 135,
   "metadata": {},
   "outputs": [
    {
     "name": "stdout",
     "output_type": "stream",
     "text": [
      "Start\n",
      "Infected:  1 Healthy:  99\n",
      "Infected:  12 Healthy:  87\n",
      "Infected:  55 Healthy:  32\n",
      "Infected:  32 Healthy:  0\n",
      "Infected:  0 Healthy:  0\n"
     ]
    }
   ],
   "source": [
    "r_p  = 1   # likelihood of spreading illness\n",
    "v_p  = 0  # likelihood of vaccinating\n",
    "\n",
    "infected,healthy = initialize_infection(G)\n",
    "vaccinated  = initialize_vaccines(G,v_p)\n",
    "\n",
    "print('Start')\n",
    "print('Infected: ',sum(list(infected.values())), 'Healthy: ',sum(list(healthy.values())))\n",
    "#print(infected)\n",
    "for i in range(4):\n",
    "    healthy,infected = iterate_epidemic(G,r_p,healthy,infected,vaccinated)\n",
    "    print('Infected: ',sum(list(infected.values())), 'Healthy: ',sum(list(healthy.values())))\n",
    "    #print(infected)"
   ]
  },
  {
   "cell_type": "code",
   "execution_count": 200,
   "metadata": {},
   "outputs": [
    {
     "name": "stdout",
     "output_type": "stream",
     "text": [
      "Infected:  1 Healthy:  99\n",
      "Infected:  1 Healthy:  98\n",
      "Infected:  4 Healthy:  94\n",
      "Infected:  7 Healthy:  87\n",
      "Infected:  19 Healthy:  68\n",
      "Infected:  19 Healthy:  49\n",
      "Infected:  18 Healthy:  31\n",
      "Infected:  8 Healthy:  23\n",
      "Infected:  2 Healthy:  21\n",
      "Infected:  1 Healthy:  20\n",
      "Infected:  0 Healthy:  20\n"
     ]
    }
   ],
   "source": [
    "G  = nx.newman_watts_strogatz_graph(100,8,0.5)\n",
    "\n",
    "r_p  = .25   # likelihood of spreading illness\n",
    "v_p  = 0.1  # likelihood of vaccinating\n",
    "\n",
    "infected,healthy = initialize_infection(G)\n",
    "#print(list(healthy.keys()))\n",
    "vaccinated  = initialize_vaccines(G,v_p)\n",
    "\n",
    "#print('Start')\n",
    "print('Infected: ',sum(list(infected.values())), 'Healthy: ',sum(list(healthy.values())))\n",
    "#print(infected)\n",
    "infections = True\n",
    "while infections  == True:\n",
    "#for day in range(10):\n",
    "    healthy,infected = iterate_epidemic(G,r_p,healthy,infected,vaccinated)\n",
    "    print('Infected: ',sum(list(infected.values())), 'Healthy: ',sum(list(healthy.values())))\n",
    "    if sum(list(infected.values())) == 0:\n",
    "        infections = False\n",
    "    #print(list(healthy.keys()))\n",
    "    #print(infected)"
   ]
  },
  {
   "cell_type": "code",
   "execution_count": 130,
   "metadata": {},
   "outputs": [
    {
     "data": {
      "text/plain": [
       "1"
      ]
     },
     "execution_count": 130,
     "metadata": {},
     "output_type": "execute_result"
    }
   ],
   "source": [
    "def draw_graph(G,healthy,vaccinated,infected):\n",
    "    "
   ]
  },
  {
   "cell_type": "code",
   "execution_count": null,
   "metadata": {},
   "outputs": [],
   "source": []
  }
 ],
 "metadata": {
  "kernelspec": {
   "display_name": "Python 3",
   "language": "python",
   "name": "python3"
  },
  "language_info": {
   "codemirror_mode": {
    "name": "ipython",
    "version": 3
   },
   "file_extension": ".py",
   "mimetype": "text/x-python",
   "name": "python",
   "nbconvert_exporter": "python",
   "pygments_lexer": "ipython3",
   "version": "3.7.3"
  }
 },
 "nbformat": 4,
 "nbformat_minor": 2
}
