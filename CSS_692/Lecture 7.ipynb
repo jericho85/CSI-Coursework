{
 "cells": [
  {
   "cell_type": "markdown",
   "metadata": {},
   "source": [
    "Betweenness Centrality:<br>\n",
    "\n",
    "Eigenvector Centrality!<br>\n",
    "\n",
    "$x_i \\alpha \\sum_{j=1}^n a_{i,j} x_j$<br>\n",
    "\n",
    "X_i has  importance that is proportional of its neighbors<br>\n",
    "\n",
    "$x_i =\\beta\\sum_{j=1}^n a_{i,j} x_j$ for $i =1,2...n$<br>\n",
    "\n",
    "$x_i = \\beta  (Ax^T)_i $<br>\n",
    "$x^T = \\beta Ax^T$<br>\n",
    "$Ax^T = \\lambda x^T$ : Eigenvalue problem<br>\n",
    "\n",
    "Non-trivial solution:<br>\n",
    "$(A-\\lambda I ) x^T = 0^T$ \n",
    "Which gives the Eigenvalues via Lambda, and then X is the eigenvalues. This gets normalized. "
   ]
  },
  {
   "cell_type": "code",
   "execution_count": null,
   "metadata": {},
   "outputs": [],
   "source": []
  },
  {
   "cell_type": "code",
   "execution_count": 2,
   "metadata": {},
   "outputs": [],
   "source": [
    "import networkx as nx\n",
    "import random"
   ]
  },
  {
   "cell_type": "code",
   "execution_count": 4,
   "metadata": {},
   "outputs": [
    {
     "data": {
      "image/png": "[encoded data removed]",
      "text/plain": [
       "<Figure size 432x288 with 1 Axes>"
      ]
     },
     "metadata": {
      "needs_background": "light"
     },
     "output_type": "display_data"
    }
   ],
   "source": [
    "G = nx.Graph()\n",
    "G.add_node(1)\n",
    "G.add_node(2)\n",
    "G.add_node(3)\n",
    "G.add_node(4)\n",
    "G.add_edge(1,2)\n",
    "G.add_edge(1,4)\n",
    "G.add_edge(2,4)\n",
    "G.add_edge(2,3)\n",
    "G.add_edge(3,4)\n",
    "G.add_edge(3,5)\n",
    "G.add_edge(1,6)\n",
    "nx.draw_networkx(G)"
   ]
  },
  {
   "cell_type": "code",
   "execution_count": 5,
   "metadata": {},
   "outputs": [
    {
     "data": {
      "text/plain": [
       "EdgeView([(1, 2), (1, 4), (1, 6), (2, 4), (2, 3), (3, 4), (3, 5)])"
      ]
     },
     "execution_count": 5,
     "metadata": {},
     "output_type": "execute_result"
    }
   ],
   "source": [
    "G.edges()"
   ]
  },
  {
   "cell_type": "code",
   "execution_count": 6,
   "metadata": {},
   "outputs": [],
   "source": [
    "r_p  = 0.2   # likelihood of spreading illness\n",
    "v_p  = 0  # likelihood of vaccinating"
   ]
  },
  {
   "cell_type": "code",
   "execution_count": 7,
   "metadata": {},
   "outputs": [
    {
     "name": "stdout",
     "output_type": "stream",
     "text": [
      "{1: 1, 2: 1, 3: 1, 4: 0, 5: 1, 6: 1}\n",
      "{1: 0, 2: 0, 3: 0, 4: 1, 5: 0, 6: 0}\n"
     ]
    }
   ],
   "source": [
    "def initialize_infection(G):\n",
    "    infected = {}\n",
    "    healthy  = {}\n",
    "    n = list(G.nodes())\n",
    "    for i in n:\n",
    "        infected[i] = 0\n",
    "        healthy[i]  = 1\n",
    "    first =  random.randint(min(n),max(n))\n",
    "    infected[first] += 1\n",
    "    healthy[first]  -= 1\n",
    "    return(infected,healthy)\n",
    "\n",
    "infected,healthy = initialize_infection(G)\n",
    "\n",
    "print(healthy)\n",
    "print(infected)"
   ]
  },
  {
   "cell_type": "code",
   "execution_count": 8,
   "metadata": {},
   "outputs": [
    {
     "name": "stdout",
     "output_type": "stream",
     "text": [
      "{1: 0, 2: 0, 3: 0, 4: 0, 5: 0, 6: 0}\n"
     ]
    }
   ],
   "source": [
    "def initialize_vaccines(G,v_p):\n",
    "    vaccinated = {}\n",
    "    n = list(G.nodes())\n",
    "    for i in range(min(n),len(n)+1):\n",
    "        if v_p > random.random():\n",
    "            vaccinated[i] = 1\n",
    "        else:\n",
    "            vaccinated[i] = 0\n",
    "    return(vaccinated)\n",
    "\n",
    "vaccinated  = initialize_vaccines(G,v_p)\n",
    "print(vaccinated)"
   ]
  },
  {
   "cell_type": "code",
   "execution_count": 9,
   "metadata": {},
   "outputs": [
    {
     "name": "stdout",
     "output_type": "stream",
     "text": [
      "{1: 0, 2: 0, 3: 0, 4: 1, 5: 0, 6: 0}\n"
     ]
    }
   ],
   "source": [
    "def iterate_epidemic(G,r_p,healthy,infected,vaccinated):\n",
    "    nodes = list(G.nodes())\n",
    "    new_infections = []\n",
    "    for k,v in infected.items():\n",
    "        if v == 1:\n",
    "            ne = list(G.neighbors(k))\n",
    "            for i in ne:\n",
    "                #print(i)\n",
    "                if healthy[i] == 1 and vaccinated[i] == 0:\n",
    "                    if random.random() < r_p:\n",
    "                        new_infections.append(i)\n",
    "            infected[k] = 0\n",
    "    for i in new_infections:\n",
    "        healthy[i]  = 0\n",
    "        infected[i] = 1\n",
    "    return(healthy,infected)\n",
    "\n",
    "\n",
    "print(infected)\n",
    "for i in range(10):\n",
    "    healthy,infected = iterate_epidemic(G,r_p,healthy,infected,vaccinated)\n",
    "    #print(infected)"
   ]
  },
  {
   "cell_type": "code",
   "execution_count": 10,
   "metadata": {},
   "outputs": [
    {
     "name": "stdout",
     "output_type": "stream",
     "text": [
      "Start\n",
      "Infected:  1 Healthy:  5\n",
      "Infected:  3 Healthy:  2\n",
      "Infected:  1 Healthy:  1\n",
      "Infected:  1 Healthy:  0\n",
      "Infected:  0 Healthy:  0\n"
     ]
    }
   ],
   "source": [
    "r_p  = 1   # likelihood of spreading illness\n",
    "v_p  = 0  # likelihood of vaccinating\n",
    "\n",
    "infected,healthy = initialize_infection(G)\n",
    "vaccinated  = initialize_vaccines(G,v_p)\n",
    "\n",
    "print('Start')\n",
    "print('Infected: ',sum(list(infected.values())), 'Healthy: ',sum(list(healthy.values())))\n",
    "#print(infected)\n",
    "for i in range(4):\n",
    "    healthy,infected = iterate_epidemic(G,r_p,healthy,infected,vaccinated)\n",
    "    print('Infected: ',sum(list(infected.values())), 'Healthy: ',sum(list(healthy.values())))\n",
    "    #print(infected)"
   ]
  },
  {
   "cell_type": "code",
   "execution_count": 201,
   "metadata": {},
   "outputs": [
    {
     "name": "stdout",
     "output_type": "stream",
     "text": [
      "Infected:  1 Healthy:  99\n",
      "Infected:  0 Healthy:  99\n"
     ]
    }
   ],
   "source": [
    "G  = nx.newman_watts_strogatz_graph(100,8,0.5)\n",
    "\n",
    "r_p  = .25   # likelihood of spreading illness\n",
    "v_p  = 0.75 # likelihood of vaccinating\n",
    "\n",
    "infected,healthy = initialize_infection(G)\n",
    "#print(list(healthy.keys()))\n",
    "vaccinated  = initialize_vaccines(G,v_p)\n",
    "\n",
    "#print('Start')\n",
    "print('Infected: ',sum(list(infected.values())), 'Healthy: ',sum(list(healthy.values())))\n",
    "#print(infected)\n",
    "infections = True\n",
    "while infections  == True:\n",
    "#for day in range(10):\n",
    "    healthy,infected = iterate_epidemic(G,r_p,healthy,infected,vaccinated)\n",
    "    print('Infected: ',sum(list(infected.values())), 'Healthy: ',sum(list(healthy.values())))\n",
    "    if sum(list(infected.values())) == 0:\n",
    "        infections = False\n",
    "    #print(list(healthy.keys()))\n",
    "    #print(infected)"
   ]
  },
  {
   "cell_type": "code",
   "execution_count": 130,
   "metadata": {},
   "outputs": [
    {
     "data": {
      "text/plain": [
       "1"
      ]
     },
     "execution_count": 130,
     "metadata": {},
     "output_type": "execute_result"
    }
   ],
   "source": [
    "def draw_graph(G,healthy,vaccinated,infected):\n",
    "    "
   ]
  },
  {
   "cell_type": "code",
   "execution_count": 78,
   "metadata": {},
   "outputs": [
    {
     "data": {
      "image/png": "[encoded data removed]",
      "text/plain": [
       "<Figure size 432x288 with 1 Axes>"
      ]
     },
     "metadata": {
      "needs_background": "light"
     },
     "output_type": "display_data"
    }
   ],
   "source": [
    "G  = nx.newman_watts_strogatz_graph(10,4,0.5)\n",
    "nx.draw_networkx(G)"
   ]
  }
 ],
 "metadata": {
  "kernelspec": {
   "display_name": "Python 3",
   "language": "python",
   "name": "python3"
  },
  "language_info": {
   "codemirror_mode": {
    "name": "ipython",
    "version": 3
   },
   "file_extension": ".py",
   "mimetype": "text/x-python",
   "name": "python",
   "nbconvert_exporter": "python",
   "pygments_lexer": "ipython3",
   "version": "3.7.3"
  }
 },
 "nbformat": 4,
 "nbformat_minor": 2
}
