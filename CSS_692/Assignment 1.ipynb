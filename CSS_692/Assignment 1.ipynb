{
 "cells": [
  {
   "cell_type": "markdown",
   "metadata": {},
   "source": [
    "### CSS -  674<br>Jericho McLeod<br>Assignment  1"
   ]
  },
  {
   "cell_type": "markdown",
   "metadata": {},
   "source": [
    "Copied code from assignment to implement  G"
   ]
  },
  {
   "cell_type": "code",
   "execution_count": 2,
   "metadata": {},
   "outputs": [],
   "source": [
    "import networkx as nx\n",
    "import random"
   ]
  },
  {
   "cell_type": "code",
   "execution_count": 3,
   "metadata": {},
   "outputs": [
    {
     "name": "stderr",
     "output_type": "stream",
     "text": [
      "/anaconda3/lib/python3.7/site-packages/networkx/drawing/nx_pylab.py:611: MatplotlibDeprecationWarning: isinstance(..., numbers.Number)\n",
      "  if cb.is_numlike(alpha):\n"
     ]
    }
   ],
   "source": [
    "G=nx.Graph()\n",
    "G.add_node(1)\n",
    "G.add_node(2)\n",
    "G.add_node(3)\n",
    "G.add_node(4)\n",
    "G.add_edge(1,2)\n",
    "G.add_edge(1,4)\n",
    "G.add_edge(2,4)\n",
    "G.add_edge(2,3)\n",
    "G.add_edge(3,4)\n",
    "nx.draw_networkx(G)"
   ]
  },
  {
   "cell_type": "code",
   "execution_count": 4,
   "metadata": {},
   "outputs": [
    {
     "name": "stdout",
     "output_type": "stream",
     "text": [
      "2\n",
      "[2, 4]\n",
      "True\n"
     ]
    }
   ],
   "source": [
    "print(G.degree(1))\n",
    "print(list(G.neighbors(1)))\n",
    "print(G.has_edge(1,2))"
   ]
  },
  {
   "cell_type": "code",
   "execution_count": 5,
   "metadata": {},
   "outputs": [
    {
     "name": "stdout",
     "output_type": "stream",
     "text": [
      "5.0\n",
      "5.0\n",
      "5\n",
      "4\n",
      "[1, 2, 3, 4]\n",
      "[(1, 2), (1, 4), (2, 4), (2, 3), (3, 4)]\n"
     ]
    },
    {
     "data": {
      "text/plain": [
       "4"
      ]
     },
     "execution_count": 5,
     "metadata": {},
     "output_type": "execute_result"
    }
   ],
   "source": [
    "def hypot_len(x,y):\n",
    "    h2 = x**2+y**2\n",
    "    h = h2**0.5\n",
    "    return(h)\n",
    "\n",
    "print(hypot_len(3,4))\n",
    "\n",
    "def m(H):\n",
    "    s=0\n",
    "    for i in H.nodes():\n",
    "        s=s+H.degree(i)\n",
    "    s=s/2\n",
    "    return(s)\n",
    "\n",
    "print(m(G))\n",
    "print(G.size())\n",
    "print(G.order())\n",
    "print(list(G.nodes()))\n",
    "print(list(G.edges()))\n",
    "VG = list(G.nodes())\n",
    "EG = list(G.edges())\n",
    "VG[0]\n",
    "VG[3]"
   ]
  },
  {
   "cell_type": "code",
   "execution_count": 6,
   "metadata": {},
   "outputs": [
    {
     "data": {
      "text/plain": [
       "1"
      ]
     },
     "execution_count": 6,
     "metadata": {},
     "output_type": "execute_result"
    }
   ],
   "source": [
    "A=nx.adjacency_matrix(G)\n",
    "A[0,1]"
   ]
  },
  {
   "cell_type": "markdown",
   "metadata": {},
   "source": [
    "#### Task 1: \n",
    "Create a function that takes in G, i, and j and returns 1 if a link exists and 0 otherwise."
   ]
  },
  {
   "cell_type": "code",
   "execution_count": 7,
   "metadata": {},
   "outputs": [
    {
     "data": {
      "text/plain": [
       "1"
      ]
     },
     "execution_count": 7,
     "metadata": {},
     "output_type": "execute_result"
    }
   ],
   "source": [
    "def link_indicator(G,i,j):\n",
    "    if (i,j) in G.edges() or (j,i) in G.edges():\n",
    "        return(1)\n",
    "    else:\n",
    "        return(0)\n",
    "\n",
    "link_indicator(G,1,4)"
   ]
  },
  {
   "cell_type": "markdown",
   "metadata": {},
   "source": [
    "#### Task  2: \n",
    "Using the link indicator from Task 1, create a function that takes input G and a node and returns the degree of that node. "
   ]
  },
  {
   "cell_type": "code",
   "execution_count": 8,
   "metadata": {},
   "outputs": [
    {
     "data": {
      "text/plain": [
       "3"
      ]
     },
     "execution_count": 8,
     "metadata": {},
     "output_type": "execute_result"
    }
   ],
   "source": [
    "def degree(G,i): #should  have used link indicator function\n",
    "    c = 0\n",
    "    for j in G.nodes():\n",
    "        if j != i:\n",
    "            c += link_indicator(G,i,j)   \n",
    "#    for iter in G.edges():\n",
    "#        if i in iter:\n",
    "#            c+=1\n",
    "    return(c)\n",
    "\n",
    "degree(G,4)"
   ]
  },
  {
   "cell_type": "markdown",
   "metadata": {},
   "source": [
    "#### Task 3: \n",
    "Create two functins that take G as an input and generate a printed output of each node and its degree. Once function should use <b>degree</b> from networkx and the other should use the function from task 2. "
   ]
  },
  {
   "cell_type": "code",
   "execution_count": 9,
   "metadata": {},
   "outputs": [
    {
     "name": "stdout",
     "output_type": "stream",
     "text": [
      "  Node Degree\n",
      "     1      2\n",
      "     2      3\n",
      "     3      2\n",
      "     4      3\n",
      "  Node Degree\n",
      "     1      2\n",
      "     2      3\n",
      "     3      2\n",
      "     4      3\n"
     ]
    }
   ],
   "source": [
    "def all_degrees_1(G):\n",
    "    print(\"%6s %6s\"%(\"Node\",\"Degree\"))\n",
    "    for i in G:\n",
    "        print(\"%6d %6d\" % (i,degree(G,i))) #my degree functino\n",
    "\n",
    "def all_degrees_2(G):\n",
    "    print(\"%6s %6s\"%(\"Node\",\"Degree\"))\n",
    "    for  i in G:\n",
    "        print(\"%6d %6d\" % (i,G.degree(i))) #degree function from nx for class G\n",
    "        \n",
    "all_degrees_1(G) # using bespoke functions\n",
    "all_degrees_2(G) # using networkx functions"
   ]
  },
  {
   "cell_type": "markdown",
   "metadata": {},
   "source": [
    "#### Task 4: \n",
    "Craete a function that creates ring graphs from input  $n$. "
   ]
  },
  {
   "cell_type": "code",
   "execution_count": 10,
   "metadata": {},
   "outputs": [
    {
     "name": "stdout",
     "output_type": "stream",
     "text": [
      "1000 True\n",
      "2000 True\n",
      "3000 True\n",
      "4000 True\n",
      "5000 True\n",
      "6000 True\n",
      "7000 True\n",
      "8000 True\n",
      "9000 True\n",
      "10000 True\n"
     ]
    },
    {
     "data": {
      "text/plain": [
       "True"
      ]
     },
     "execution_count": 10,
     "metadata": {},
     "output_type": "execute_result"
    },
    {
     "data": {
      "image/png": "[encoded data removed]",
      "text/plain": [
       "<Figure size 432x288 with 1 Axes>"
      ]
     },
     "metadata": {
      "needs_background": "light"
     },
     "output_type": "display_data"
    }
   ],
   "source": [
    "def create_ring(n):\n",
    "    new_g = nx.Graph()\n",
    "    for i in range(1,n):\n",
    "        new_g.add_edge(i,i+1)\n",
    "    new_g.add_edge(1,n)\n",
    "    return(new_g)\n",
    "\n",
    "G2 = create_ring(10)\n",
    "nx.draw_networkx(G2)\n",
    "\n",
    "def verify_ring(G):\n",
    "    is_ring = True\n",
    "    EG = G.edges()\n",
    "    VG = G.nodes()\n",
    "    if len(EG) != len(VG):    #verify m and n are equal\n",
    "        is_ring = False\n",
    "    for i in range(0,10):     #verify degree of 10 randomly selected nodes ==2\n",
    "        node = random.randint(1,len(VG))\n",
    "        if G.degree(node) != 2:\n",
    "            is_ring = False\n",
    "    return(is_ring)\n",
    "\n",
    "def verify_ring_creator():\n",
    "    \"\"\"This function creates 10 networks with n*100 nodes\n",
    "    using the ring creator function, then verifies they\n",
    "    are  rings by caling the verify ring function\"\"\"\n",
    "    func_ok = True\n",
    "    for i in range(1,11):\n",
    "        temp_G = create_ring(i*1000)\n",
    "        temp_G_state = verify_ring(temp_G)\n",
    "        print(i*1000,temp_G_state)\n",
    "        if temp_G_state is False:\n",
    "            func_ok = False\n",
    "    return(func_ok)\n",
    "\n",
    "verify_ring(G2)\n",
    "verify_ring_creator()"
   ]
  },
  {
   "cell_type": "markdown",
   "metadata": {},
   "source": [
    "#### Task 5: \n",
    "Create 2 functions that take graph G and node i as inputs and return the number of Vs that visit the node. One function should use nx.Graph() and the other should use the degree function in task 2. "
   ]
  },
  {
   "cell_type": "code",
   "execution_count": 11,
   "metadata": {},
   "outputs": [
    {
     "name": "stdout",
     "output_type": "stream",
     "text": [
      "3.0\n",
      "3.0\n",
      "\n",
      "1.0\n",
      "1.0\n"
     ]
    },
    {
     "data": {
      "image/png": "[encoded data removed]",
      "text/plain": [
       "<Figure size 432x288 with 1 Axes>"
      ]
     },
     "metadata": {
      "needs_background": "light"
     },
     "output_type": "display_data"
    }
   ],
   "source": [
    "def count_V3(G,i):     # This version usess my degree function\n",
    "    i_d = degree(G,i)\n",
    "    v = i_d * (i_d-1)/2\n",
    "    return(v)\n",
    "\n",
    "def count_V4(G,i):\n",
    "    i_d = G.degree(i)\n",
    "    v = i_d * (i_d-1)/2\n",
    "    return(v)\n",
    "\n",
    "G2 = create_ring(101)   # create a ring network with < 100 nodes\n",
    "                        # 101 is the minimum viable count\n",
    "nx.draw_networkx(G)\n",
    "print(count_V3(G,2))\n",
    "print(count_V4(G,2))\n",
    "print()\n",
    "print(count_V3(G2,50)) \n",
    "print(count_V4(G2,50))"
   ]
  },
  {
   "cell_type": "markdown",
   "metadata": {},
   "source": [
    "#### Task 6: \n",
    "Create a function  that takes graph  G and  node i as input and determine the number of triangles that visit i. "
   ]
  },
  {
   "cell_type": "code",
   "execution_count": 25,
   "metadata": {},
   "outputs": [
    {
     "name": "stdout",
     "output_type": "stream",
     "text": [
      "1\n",
      "1\n",
      "1.0\n",
      "\n",
      "2\n",
      "2\n",
      "2.0\n",
      "\n",
      "0\n",
      "0\n",
      "0.0\n",
      "\n"
     ]
    },
    {
     "data": {
      "image/png": "[encoded data removed]",
      "text/plain": [
       "<Figure size 432x288 with 1 Axes>"
      ]
     },
     "metadata": {
      "needs_background": "light"
     },
     "output_type": "display_data"
    }
   ],
   "source": [
    "def count_triangles(G,node):\n",
    "    i_n = list(G.neighbors(node))\n",
    "    t   = 0\n",
    "    for i in i_n:\n",
    "        for j in i_n:\n",
    "            if i<j: \n",
    "                if G.has_edge(i,j):\n",
    "                    t +=1\n",
    "    return(t)\n",
    "\n",
    "\n",
    "\n",
    "def count_triangles2(G,node):\n",
    "    A   = nx.adjacency_matrix(G)\n",
    "    i_n = list(G.neighbors(node))\n",
    "    t   = 0\n",
    "    for i in i_n:\n",
    "        for j in i_n:\n",
    "            if i<j:\n",
    "                if A[i-1,j-1]:\n",
    "                    t  +=1\n",
    "    return(t)\n",
    "\n",
    "def count_triangles3(G,node):\n",
    "    A = nx.adjacency_matrix(G)\n",
    "    A = A**3\n",
    "    t = A[node-1,node-1]/2\n",
    "    return(t)\n",
    "                \n",
    "nx.draw_networkx(G)\n",
    "print(count_triangles(G,1))\n",
    "print(count_triangles2(G,1))\n",
    "print(count_triangles3(G,1))\n",
    "print()\n",
    "print(count_triangles(G,2))\n",
    "print(count_triangles2(G,2))\n",
    "print(count_triangles3(G,2))\n",
    "print()\n",
    "print(count_triangles(G2,50))\n",
    "print(count_triangles2(G2,50))\n",
    "print(count_triangles3(G2,50))\n",
    "print()\n"
   ]
  },
  {
   "cell_type": "markdown",
   "metadata": {},
   "source": [
    "#### Task 7:\n",
    "Create a function that takes graph G and node i as input and retturns the local clustering of node i. Use functions from 5 and 6. "
   ]
  },
  {
   "cell_type": "code",
   "execution_count": 23,
   "metadata": {},
   "outputs": [
    {
     "name": "stdout",
     "output_type": "stream",
     "text": [
      "1.0\n",
      "1.0\n",
      "0.6666666666666666\n",
      "0.6666666666666666\n",
      "\n",
      "0.0\n",
      "0\n"
     ]
    }
   ],
   "source": [
    "def local_cluster(G,node):\n",
    "    t  = count_triangles(G,node)\n",
    "    vs = count_V3(G,node)\n",
    "    c  = t/vs\n",
    "    return(c)\n",
    "\n",
    "print(local_cluster(G,1))\n",
    "print(nx.clustering(G,1))\n",
    "print(local_cluster(G,2))\n",
    "print(nx.clustering(G,2))\n",
    "print()\n",
    "print(local_cluster(G2,50))\n",
    "print(nx.clustering(G2,50))"
   ]
  },
  {
   "cell_type": "markdown",
   "metadata": {},
   "source": [
    "#### Task 8:\n",
    "Create a function that takes graph G as an input and determines the global clustering of the network. Use functions from task 5 and tasks 6. "
   ]
  },
  {
   "cell_type": "code",
   "execution_count": 25,
   "metadata": {},
   "outputs": [
    {
     "name": "stdout",
     "output_type": "stream",
     "text": [
      "0.75\n",
      "0.75\n",
      "\n",
      "0.0\n",
      "0\n"
     ]
    }
   ],
   "source": [
    "def global_clustering(G):\n",
    "    v_g = G.nodes()\n",
    "    c   = 0\n",
    "    t   = 0\n",
    "    vs  = 0\n",
    "    for i in v_g:\n",
    "        t += count_triangles(G,i)\n",
    "        vs+= count_V3(G,i)\n",
    "    c = t/vs\n",
    "    return(c)\n",
    "    \n",
    "print(global_clustering(G))\n",
    "print(nx.transitivity(G))\n",
    "print()\n",
    "print(global_clustering(G2))\n",
    "print(nx.transitivity(G2))"
   ]
  },
  {
   "cell_type": "code",
   "execution_count": null,
   "metadata": {},
   "outputs": [],
   "source": []
  }
 ],
 "metadata": {
  "kernelspec": {
   "display_name": "Python 3",
   "language": "python",
   "name": "python3"
  },
  "language_info": {
   "codemirror_mode": {
    "name": "ipython",
    "version": 3
   },
   "file_extension": ".py",
   "mimetype": "text/x-python",
   "name": "python",
   "nbconvert_exporter": "python",
   "pygments_lexer": "ipython3",
   "version": "3.7.3"
  }
 },
 "nbformat": 4,
 "nbformat_minor": 2
}
