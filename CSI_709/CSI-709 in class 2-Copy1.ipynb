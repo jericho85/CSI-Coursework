{
 "cells": [
  {
   "cell_type": "code",
   "execution_count": 4,
   "metadata": {},
   "outputs": [],
   "source": [
    "import networkx as nx"
   ]
  },
  {
   "cell_type": "code",
   "execution_count": 5,
   "metadata": {},
   "outputs": [
    {
     "name": "stdout",
     "output_type": "stream",
     "text": [
      "{0: 3, 1: 3, 2: 1, 3: 7, 4: 0, 5: 2, 6: 2, 7: 2, 8: 3, 9: 1}\n",
      "8.0\n"
     ]
    }
   ],
   "source": [
    "G = nx.erdos_renyi_graph(10,.4)\n",
    "print(nx.triangles(G))\n",
    "t=0\n",
    "meastri = nx.triangles(G)\n",
    "for node in meastri:\n",
    "    t=t+meastri[node]\n",
    "t=t/3\n",
    "print(t)"
   ]
  },
  {
   "cell_type": "code",
   "execution_count": 8,
   "metadata": {},
   "outputs": [
    {
     "name": "stdout",
     "output_type": "stream",
     "text": [
      "[12.0, 24.0, 38.0, 39.0, 38.0, 26.0, 27.0, 17.0, 10.0, 5.0]\n"
     ]
    }
   ],
   "source": [
    "def evolveTri(H,to,tthin,steps):\n",
    "    from copy import deepcopy\n",
    "    import random as rn\n",
    "    import networkx as nx\n",
    "    G=deepcopy(H)\n",
    "    n=G.order()\n",
    "#    to: burn in time or time before starting to take measurements\n",
    "#    tthin: thinning time: time between measurements\n",
    "    TList=[]\n",
    "    for t in range(steps):\n",
    "        i=rn.randint(0,n-1)\n",
    "        j=rn.randint(0,n-1)\n",
    "        while j==i:\n",
    "            j=rn.randint(0,n-1)\n",
    "        if G.has_edge(i,j):\n",
    "            G.remove_edge(i,j)\n",
    "        else: G.add_edge(i,j)\n",
    "        if (t-to)%tthin==0:\n",
    "            meastri=nx.triangles(G)\n",
    "            T=0\n",
    "            for node in meastri.keys():\n",
    "                T=T+meastri[node]\n",
    "            T=T/3\n",
    "            TList.append(T)\n",
    "    print(TList)\n",
    "\n",
    "evolveTri(G,-1,10,100)\n",
    "\n",
    "# Beta is relatively easy to solve for. However, alpha and gamma are harder to solve for\n",
    "# Create an algorithm that implements random guesses for alpha and gamma, runs simulation, and outputs results\n",
    "# in a chart showing # of triangles and # of links, then adjusts the two inputs and continues trying to converge on a system\n",
    "# that replicates your inputs. \n",
    "# See chapter 12 for additional help, especially section 4 REALLY READ THE BOOK\n",
    "# and more specifications on blackboard\n"
   ]
  }
 ],
 "metadata": {
  "kernelspec": {
   "display_name": "Python 3",
   "language": "python",
   "name": "python3"
  },
  "language_info": {
   "codemirror_mode": {
    "name": "ipython",
    "version": 3
   },
   "file_extension": ".py",
   "mimetype": "text/x-python",
   "name": "python",
   "nbconvert_exporter": "python",
   "pygments_lexer": "ipython3",
   "version": "3.6.5"
  }
 },
 "nbformat": 4,
 "nbformat_minor": 2
}
