{
 "cells": [
  {
   "cell_type": "markdown",
   "metadata": {},
   "source": [
    "Stochastic process for network generation"
   ]
  },
  {
   "cell_type": "code",
   "execution_count": 10,
   "metadata": {},
   "outputs": [],
   "source": [
    "import random\n",
    "import networkx as nx\n",
    "import matplotlib.pyplot as plt"
   ]
  },
  {
   "cell_type": "code",
   "execution_count": 11,
   "metadata": {},
   "outputs": [],
   "source": [
    "n=10\n",
    "\n",
    "nodes = list()\n",
    "for i in range(n):\n",
    "    nodes.append(i)\n",
    "G = nx.Graph()\n",
    "G.add_nodes_from(nodes)\n",
    "#print(nodes)\n",
    "#nx.draw(G)\n",
    "#plt.show()"
   ]
  },
  {
   "cell_type": "code",
   "execution_count": 12,
   "metadata": {},
   "outputs": [],
   "source": [
    "def random_node():\n",
    "    r = int((random.random() * 10)//1)\n",
    "    return(r)\n",
    "#random_node()"
   ]
  },
  {
   "cell_type": "code",
   "execution_count": 30,
   "metadata": {},
   "outputs": [
    {
     "name": "stdout",
     "output_type": "stream",
     "text": [
      "[(1, 9), (2, 1), (2, 0), (6, 2), (7, 2), (6, 1), (2, 3), (5, 4), (5, 6), (2, 7), (9, 6), (9, 4), (4, 6), (9, 6), (1, 8), (1, 2), (3, 7), (7, 4), (7, 8)]\n"
     ]
    }
   ],
   "source": [
    "p = 0.1\n",
    "\n",
    "def random_edge(link_list):\n",
    "    rand = random.random()\n",
    "    if rand<p:\n",
    "        i = random_node()\n",
    "        j = random_node()\n",
    "        while i==j: #no self loops\n",
    "            j = random_node()\n",
    "        node = (i,j)\n",
    "        link_list.append(node)\n",
    "#        print(node)\n",
    "#    if rand>=p:\n",
    "#        print(\"No node added\")\n",
    "link_list=list()\n",
    "for i in range(200):\n",
    "    random_edge(link_list)\n",
    "print(link_list)\n"
   ]
  }
 ],
 "metadata": {
  "kernelspec": {
   "display_name": "Python 3",
   "language": "python",
   "name": "python3"
  },
  "language_info": {
   "codemirror_mode": {
    "name": "ipython",
    "version": 3
   },
   "file_extension": ".py",
   "mimetype": "text/x-python",
   "name": "python",
   "nbconvert_exporter": "python",
   "pygments_lexer": "ipython3",
   "version": "3.6.5"
  }
 },
 "nbformat": 4,
 "nbformat_minor": 2
}
